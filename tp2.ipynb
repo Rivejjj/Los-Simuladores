{
 "cells": [
  {
   "attachments": {},
   "cell_type": "markdown",
   "metadata": {},
   "source": [
    "# TP 2"
   ]
  },
  {
   "attachments": {},
   "cell_type": "markdown",
   "metadata": {},
   "source": [
    "#### Grupo 4: Aschieri Juan Pablo, Civini Diego Emanuel, Rivero Joaquin, Rovira Rossel Francisco"
   ]
  },
  {
   "cell_type": "code",
   "execution_count": 82,
   "metadata": {},
   "outputs": [],
   "source": [
    "from math import e, log\n",
    "import time\n",
    "from heapq import heappush, heappop\n",
    "from scipy.stats import poisson\n",
    "import matplotlib.pyplot as plt\n",
    "import itertools\n",
    "import simpy\n",
    "import numpy as np\n",
    "import random"
   ]
  },
  {
   "cell_type": "code",
   "execution_count": 8,
   "metadata": {},
   "outputs": [],
   "source": [
    "class Xorshift_generator:\n",
    "    def __init__(self, seed):\n",
    "        self.x = seed\n",
    "        self.y = 463820370\n",
    "        self.z = 138409373\n",
    "        self.w = 12872349\n",
    "\n",
    "    def rand(self):\n",
    "        tmp = ( self.x^ (self.x <<13) ) \n",
    "        self.x = self.y\n",
    "        self.y = self.z\n",
    "        self.z = self.w\n",
    "        self.w = (self.w^(self.w>>17) ) ^ (tmp^(tmp>>5))\n",
    "        return self.w & 0xffffffff\n",
    "    \n",
    "    def get_n_rand(self, n):\n",
    "        rand_numbers = []\n",
    "        for i in range(n):\n",
    "            rand_numbers.append(self.rand())\n",
    "        return rand_numbers"
   ]
  },
  {
   "cell_type": "code",
   "execution_count": 9,
   "metadata": {},
   "outputs": [],
   "source": [
    "class Uniform_generator:\n",
    "    def __init__(self, seed, scale= 1, displacement= 0):\n",
    "        self.xorshift_genertor = Xorshift_generator(seed)\n",
    "        self.scale = scale\n",
    "        self.displacement = displacement\n",
    "\n",
    "    def rand(self):\n",
    "        n = self.xorshift_genertor.rand() / ((2**32)-1)\n",
    "        return n * self.scale + self.displacement\n",
    "    \n",
    "    def get_n_rand(self, n):\n",
    "        rand_numbers = []\n",
    "        for i in range(n):\n",
    "            rand_numbers.append(self.rand())\n",
    "        return rand_numbers"
   ]
  },
  {
   "cell_type": "code",
   "execution_count": 10,
   "metadata": {},
   "outputs": [],
   "source": [
    "class Exp_generator:\n",
    "    def __init__(self, seed, parameter=1):\n",
    "        self.parameter = parameter\n",
    "        self.Uniform_generator = Uniform_generator(seed)\n",
    "\n",
    "    def rand(self):\n",
    "        r = self.Uniform_generator.rand()\n",
    "        return log(r/self.parameter)/(-1*self.parameter)\n",
    "    \n",
    "    def get_n_rand(self, n):\n",
    "        rand_numbers = []\n",
    "        for i in range(n):\n",
    "            rand_numbers.append(self.rand())\n",
    "        return rand_numbers"
   ]
  },
  {
   "attachments": {},
   "cell_type": "markdown",
   "metadata": {},
   "source": [
    "## Ejercicio 1"
   ]
  },
  {
   "cell_type": "code",
   "execution_count": 183,
   "metadata": {},
   "outputs": [],
   "source": [
    "def factorial(n):\n",
    "    resultado = 1\n",
    "    for i in range(1, n + 1):\n",
    "        resultado *= i\n",
    "    return resultado\n",
    "\n",
    "def poisson_probability(parameter, i, previous_probability):\n",
    "    if previous_probability == 0:\n",
    "        return poisson.pmf(i, parameter)\n",
    "    return (parameter/i)*previous_probability\n",
    "\n",
    "class Poisson_generator:\n",
    "    def __init__(self, seed, parameter):\n",
    "        self.parameter = parameter\n",
    "        self.Uniform_generator = Uniform_generator(seed)\n",
    "\n",
    "    def rand(self):\n",
    "        r = self.Uniform_generator.rand()\n",
    "\n",
    "        accumulated_probability = poisson_probability(self.parameter, 0, 0)\n",
    "        previous_probability = accumulated_probability\n",
    "        i = 0\n",
    "\n",
    "        while(accumulated_probability < r):\n",
    "            i += 1\n",
    "            previous_probability = poisson_probability(self.parameter, i, previous_probability)\n",
    "            accumulated_probability += previous_probability\n",
    "\n",
    "        return i\n",
    "    \n",
    "    def get_n_rand(self, n):\n",
    "        rand_numbers = []\n",
    "        for i in range(n):\n",
    "            rand_numbers.append(self.rand())\n",
    "        return rand_numbers"
   ]
  },
  {
   "attachments": {},
   "cell_type": "markdown",
   "metadata": {},
   "source": [
    "Asumimos que el satélite da la vuelta al mundo en 24 horas y que llegan un promedio de 10 solicitudes de imagenes por dia (como el tiempo entre solicitudes de imágenes se modelan como tiempos exponenciales de parámetro 10, el proceso de poisson obtenido tiene media 10)"
   ]
  },
  {
   "cell_type": "code",
   "execution_count": 184,
   "metadata": {},
   "outputs": [],
   "source": [
    "def simulate_satelite_request_queue_length(time_step, iterations, request_per_unit_time, satelite_period):\n",
    "    generator_amount_of_request = Poisson_generator(int(time.time()) * 8647359734, request_per_unit_time*time_step)\n",
    "    generator_time_to_serve = Uniform_generator(int(time.time()) * 345678976, satelite_period)\n",
    "    simulated_queue = []\n",
    "    observed_queue_length = {}\n",
    "\n",
    "    for _ in range(iterations):\n",
    "        advance_time(simulated_queue, time_step)\n",
    "        get_acumulated_requests(generator_amount_of_request, simulated_queue, generator_time_to_serve)    \n",
    "        observed_queue_length[len(simulated_queue)] = observed_queue_length.get(len(simulated_queue), 0) + 1\n",
    "\n",
    "    return get_frequencies(observed_queue_length, iterations)"
   ]
  },
  {
   "cell_type": "code",
   "execution_count": 185,
   "metadata": {},
   "outputs": [],
   "source": [
    "def advance_time(simulated_queue, time_step):\n",
    "    for i in range(len(simulated_queue)):\n",
    "        simulated_queue[i] -= time_step\n",
    "\n",
    "    while (len(simulated_queue) != 0 and simulated_queue[0] <= 0):\n",
    "        item = heappop(simulated_queue)\n",
    "        #print(f'Se elimino una request de tiempo: {item}')\n",
    "\n",
    "def get_acumulated_requests(generator_amount_of_request, simulated_queue, generator_time_to_serve):\n",
    "    amount_of_requests = generator_amount_of_request.rand()\n",
    "    for request in range(amount_of_requests):\n",
    "        #por ahora asumimos que el time to serve es uniforme, porque se hacen requests uniformemente alrededor del mundo\n",
    "        heappush(simulated_queue, generator_time_to_serve.rand())\n",
    "\n",
    "def get_frequencies(observed_queue_length, iterations):\n",
    "    #print(f'Entro a get_frequencies con dicc = {observed_queue_length}')\n",
    "    observed_frequencies = []\n",
    "    #print(f'El maximo es: {max(observed_queue_length.keys())}')\n",
    "    for j in range(max(observed_queue_length.keys()) + 1):\n",
    "        times_observed = observed_queue_length.get(j, 0)\n",
    "        #print(f'Para {j} se observo {times_observed}')\n",
    "        observed_frequencies.append(times_observed/iterations)\n",
    "    return observed_frequencies"
   ]
  },
  {
   "cell_type": "code",
   "execution_count": 186,
   "metadata": {},
   "outputs": [],
   "source": [
    "l = simulate_satelite_request_queue_length(0.5, 100000, 5/12, 48)"
   ]
  },
  {
   "cell_type": "code",
   "execution_count": 187,
   "metadata": {},
   "outputs": [
    {
     "data": {
      "text/plain": [
       "26"
      ]
     },
     "execution_count": 187,
     "metadata": {},
     "output_type": "execute_result"
    }
   ],
   "source": [
    "len(l)"
   ]
  },
  {
   "cell_type": "code",
   "execution_count": 188,
   "metadata": {},
   "outputs": [],
   "source": [
    "#l[10]"
   ]
  },
  {
   "cell_type": "code",
   "execution_count": 189,
   "metadata": {},
   "outputs": [],
   "source": [
    "aux = 0\n",
    "for i in l:\n",
    "    aux += i"
   ]
  },
  {
   "cell_type": "code",
   "execution_count": 190,
   "metadata": {},
   "outputs": [
    {
     "data": {
      "text/plain": [
       "1.0"
      ]
     },
     "execution_count": 190,
     "metadata": {},
     "output_type": "execute_result"
    }
   ],
   "source": [
    "aux"
   ]
  },
  {
   "cell_type": "code",
   "execution_count": 191,
   "metadata": {},
   "outputs": [
    {
     "data": {
      "image/png": "[encoded data removed]",
      "text/plain": [
       "<Figure size 640x480 with 1 Axes>"
      ]
     },
     "metadata": {},
     "output_type": "display_data"
    }
   ],
   "source": [
    "x_axis = list(range(len(l)))\n",
    "y_axis = l\n",
    "plt.plot(x_axis, y_axis)\n",
    "plt.show()"
   ]
  },
  {
   "attachments": {},
   "cell_type": "markdown",
   "metadata": {},
   "source": [
    "## Ejercicio 2"
   ]
  },
  {
   "cell_type": "code",
   "execution_count": 94,
   "metadata": {},
   "outputs": [],
   "source": [
    "BUFFER_SIZE = 100\n",
    "SIM_TIME = 100"
   ]
  },
  {
   "attachments": {},
   "cell_type": "markdown",
   "metadata": {},
   "source": [
    "De esta manera cada maquina es un proceso y desp hay otro proceso que se encarga de llenar las lista con requests para que cada maquina vaya desencolando \n",
    "y procesando requests"
   ]
  },
  {
   "cell_type": "code",
   "execution_count": 96,
   "metadata": {},
   "outputs": [],
   "source": [
    "\"\"\"\n",
    "Con esta implementacion, las maquinas chequean que haya requests en la cola cada 1 seg. Osea, que si la cola estaa vacia, la maquina cada 1 seg va a \n",
    "chequear si llego un nuevo mensaje. Ver con los chicos si estan de acuerdo con esto (o tamb preguntar al de la practica). Porque otro caso que CREO que se puede\n",
    "hacer es que apenas llegue un request, la maquina ya sepa y lo empieze a procesar all instante.\n",
    "Tambien ver que onda el arrribo de mensajes, estan llegando cada mucho tiempo y los procesa re rapido entonces la cola siempre esta vacia\n",
    "\"\"\"\n",
    "def request_generator(env, requests_center, requests_buffer, seed):\n",
    "    \"\"\"Las solicitudes llegan siguiendo un proceso Poisson con una frecuencia media de 10\n",
    "    por minuto. Por ende el tiempo entre 2 solicitudes consecutivas seguira una distribucion\n",
    "    Exponencial de paremtro 10.\"\"\"\n",
    "    # exponential_gen = Exp_generator(seed, 1/6) # We turn the 10 minutes into seconds TO-DO: VER QUUE CON NUESTRO GEN ME DA NUMERO NEGATIVOS\n",
    "    print(\"Requests start to arrive\")\n",
    "    for i in itertools.count():\n",
    "        #time_for_next_request = exponential_gen.rand()\n",
    "        time_for_next_request = np.random.exponential(6) # El parametro en esta lib tiene que ser b=1/lambda\n",
    "        print(f\"The next request will arrive in {time_for_next_request}, we are at {env.now}\")\n",
    "        yield env.timeout(time_for_next_request)\n",
    "        with requests_center.request() as req:\n",
    "            yield req\n",
    "            if requests_buffer.level == BUFFER_SIZE:\n",
    "                print(f\"The buffer is full and cannot accept more requests. This requests has been dropped at time {env.now}\")\n",
    "            else:\n",
    "                print(f\"A request arrived and was buffered at time {env.now}\")\n",
    "                yield requests_buffer.put(1)\n",
    "    print(\"Requests will stop to arrive\")\n",
    "\n",
    "def processing_machine(env, requests_center, requests_buffer, seed, machine_id):\n",
    "    #exponential_gen = Exp_generator(seed, 10) TO-DO: VER QUUE CON NUESTRO GEN ME DA NUMERO NEGATIVOS\n",
    "    print(f\"The machine {machine_id} starts.\")\n",
    "    while True:\n",
    "        time_to_process = 1\n",
    "        request_processed = False\n",
    "        print(f\"The machine {machine_id} will try to process a request at {env.now}\")\n",
    "        with requests_center.request() as req:\n",
    "            yield req\n",
    "            if requests_buffer.level != 0:\n",
    "                print(f\"A request is starting to be processed by machine {machine_id} at {env.now}\")\n",
    "                yield requests_buffer.get(1)\n",
    "                print(f\"La cantidad de requests en el buffer es {requests_buffer.level}\")\n",
    "                #time_to_process = exponential_gen.rand()\n",
    "                time_to_process = np.random.exponential(1/10)\n",
    "                request_processed = True\n",
    "        # If there are no requests to process in the buffer, the timeout is of 0 seconds.\n",
    "        yield env.timeout(time_to_process)\n",
    "        if request_processed:\n",
    "            print(f\"Machine {machine_id} has finished processing the request at {env.now}\")"
   ]
  },
  {
   "cell_type": "code",
   "execution_count": 97,
   "metadata": {},
   "outputs": [
    {
     "name": "stdout",
     "output_type": "stream",
     "text": [
      "Requests start to arrive\n",
      "The next request will arrive in 0.09182432811484767, we are at 0\n",
      "The machine 1 starts.\n",
      "The machine 1 will try to process a request at 0\n",
      "A request arrived and was buffered at time 0.09182432811484767\n",
      "The next request will arrive in 8.192610028995942, we are at 0.09182432811484767\n",
      "The machine 1 will try to process a request at 1\n",
      "A request is starting to be processed by machine 1 at 1\n",
      "La cantidad de requests en el buffer es 0\n",
      "Machine 1 has finished processing the request at 1.005153034308511\n",
      "The machine 1 will try to process a request at 1.005153034308511\n",
      "The machine 1 will try to process a request at 2.005153034308511\n",
      "The machine 1 will try to process a request at 3.005153034308511\n",
      "The machine 1 will try to process a request at 4.0051530343085116\n",
      "The machine 1 will try to process a request at 5.0051530343085116\n",
      "The machine 1 will try to process a request at 6.0051530343085116\n",
      "The machine 1 will try to process a request at 7.0051530343085116\n",
      "The machine 1 will try to process a request at 8.005153034308512\n",
      "A request arrived and was buffered at time 8.28443435711079\n",
      "The next request will arrive in 3.4118905820413428, we are at 8.28443435711079\n",
      "The machine 1 will try to process a request at 9.005153034308512\n",
      "A request is starting to be processed by machine 1 at 9.005153034308512\n",
      "La cantidad de requests en el buffer es 0\n",
      "Machine 1 has finished processing the request at 9.059022299359814\n",
      "The machine 1 will try to process a request at 9.059022299359814\n",
      "The machine 1 will try to process a request at 10.059022299359814\n",
      "The machine 1 will try to process a request at 11.059022299359814\n",
      "A request arrived and was buffered at time 11.696324939152133\n",
      "The next request will arrive in 23.739569735768583, we are at 11.696324939152133\n",
      "The machine 1 will try to process a request at 12.059022299359814\n",
      "A request is starting to be processed by machine 1 at 12.059022299359814\n",
      "La cantidad de requests en el buffer es 0\n",
      "Machine 1 has finished processing the request at 12.099232456409128\n",
      "The machine 1 will try to process a request at 12.099232456409128\n",
      "The machine 1 will try to process a request at 13.099232456409128\n",
      "The machine 1 will try to process a request at 14.099232456409128\n",
      "The machine 1 will try to process a request at 15.099232456409128\n",
      "The machine 1 will try to process a request at 16.099232456409126\n",
      "The machine 1 will try to process a request at 17.099232456409126\n",
      "The machine 1 will try to process a request at 18.099232456409126\n",
      "The machine 1 will try to process a request at 19.099232456409126\n",
      "The machine 1 will try to process a request at 20.099232456409126\n",
      "The machine 1 will try to process a request at 21.099232456409126\n",
      "The machine 1 will try to process a request at 22.099232456409126\n",
      "The machine 1 will try to process a request at 23.099232456409126\n",
      "The machine 1 will try to process a request at 24.099232456409126\n",
      "The machine 1 will try to process a request at 25.099232456409126\n",
      "The machine 1 will try to process a request at 26.099232456409126\n",
      "The machine 1 will try to process a request at 27.099232456409126\n",
      "The machine 1 will try to process a request at 28.099232456409126\n",
      "The machine 1 will try to process a request at 29.099232456409126\n",
      "The machine 1 will try to process a request at 30.099232456409126\n",
      "The machine 1 will try to process a request at 31.099232456409126\n",
      "The machine 1 will try to process a request at 32.099232456409126\n",
      "The machine 1 will try to process a request at 33.099232456409126\n",
      "The machine 1 will try to process a request at 34.099232456409126\n",
      "The machine 1 will try to process a request at 35.099232456409126\n",
      "A request arrived and was buffered at time 35.43589467492072\n",
      "The next request will arrive in 6.96597943194778, we are at 35.43589467492072\n",
      "The machine 1 will try to process a request at 36.099232456409126\n",
      "A request is starting to be processed by machine 1 at 36.099232456409126\n",
      "La cantidad de requests en el buffer es 0\n",
      "Machine 1 has finished processing the request at 36.297153162183186\n",
      "The machine 1 will try to process a request at 36.297153162183186\n",
      "The machine 1 will try to process a request at 37.297153162183186\n",
      "The machine 1 will try to process a request at 38.297153162183186\n",
      "The machine 1 will try to process a request at 39.297153162183186\n",
      "The machine 1 will try to process a request at 40.297153162183186\n",
      "The machine 1 will try to process a request at 41.297153162183186\n",
      "The machine 1 will try to process a request at 42.297153162183186\n",
      "A request arrived and was buffered at time 42.4018741068685\n",
      "The next request will arrive in 3.4830245311106736, we are at 42.4018741068685\n",
      "The machine 1 will try to process a request at 43.297153162183186\n",
      "A request is starting to be processed by machine 1 at 43.297153162183186\n",
      "La cantidad de requests en el buffer es 0\n",
      "Machine 1 has finished processing the request at 43.43728465619875\n",
      "The machine 1 will try to process a request at 43.43728465619875\n",
      "The machine 1 will try to process a request at 44.43728465619875\n",
      "The machine 1 will try to process a request at 45.43728465619875\n",
      "A request arrived and was buffered at time 45.88489863797917\n",
      "The next request will arrive in 0.7780926980887602, we are at 45.88489863797917\n",
      "The machine 1 will try to process a request at 46.43728465619875\n",
      "A request is starting to be processed by machine 1 at 46.43728465619875\n",
      "La cantidad de requests en el buffer es 0\n",
      "Machine 1 has finished processing the request at 46.45283225128307\n",
      "The machine 1 will try to process a request at 46.45283225128307\n",
      "A request arrived and was buffered at time 46.66299133606793\n",
      "The next request will arrive in 8.705059421517575, we are at 46.66299133606793\n",
      "The machine 1 will try to process a request at 47.45283225128307\n",
      "A request is starting to be processed by machine 1 at 47.45283225128307\n",
      "La cantidad de requests en el buffer es 0\n",
      "Machine 1 has finished processing the request at 47.539119520437104\n",
      "The machine 1 will try to process a request at 47.539119520437104\n",
      "The machine 1 will try to process a request at 48.539119520437104\n",
      "The machine 1 will try to process a request at 49.539119520437104\n",
      "The machine 1 will try to process a request at 50.539119520437104\n",
      "The machine 1 will try to process a request at 51.539119520437104\n",
      "The machine 1 will try to process a request at 52.539119520437104\n",
      "The machine 1 will try to process a request at 53.539119520437104\n",
      "The machine 1 will try to process a request at 54.539119520437104\n",
      "A request arrived and was buffered at time 55.36805075758551\n",
      "The next request will arrive in 16.96503957681069, we are at 55.36805075758551\n",
      "The machine 1 will try to process a request at 55.539119520437104\n",
      "A request is starting to be processed by machine 1 at 55.539119520437104\n",
      "La cantidad de requests en el buffer es 0\n",
      "Machine 1 has finished processing the request at 55.552357187876716\n",
      "The machine 1 will try to process a request at 55.552357187876716\n",
      "The machine 1 will try to process a request at 56.552357187876716\n",
      "The machine 1 will try to process a request at 57.552357187876716\n",
      "The machine 1 will try to process a request at 58.552357187876716\n",
      "The machine 1 will try to process a request at 59.552357187876716\n",
      "The machine 1 will try to process a request at 60.552357187876716\n",
      "The machine 1 will try to process a request at 61.552357187876716\n",
      "The machine 1 will try to process a request at 62.552357187876716\n",
      "The machine 1 will try to process a request at 63.552357187876716\n",
      "The machine 1 will try to process a request at 64.55235718787671\n",
      "The machine 1 will try to process a request at 65.55235718787671\n",
      "The machine 1 will try to process a request at 66.55235718787671\n",
      "The machine 1 will try to process a request at 67.55235718787671\n",
      "The machine 1 will try to process a request at 68.55235718787671\n",
      "The machine 1 will try to process a request at 69.55235718787671\n",
      "The machine 1 will try to process a request at 70.55235718787671\n",
      "The machine 1 will try to process a request at 71.55235718787671\n",
      "A request arrived and was buffered at time 72.33309033439619\n",
      "The next request will arrive in 3.582507166085226, we are at 72.33309033439619\n",
      "The machine 1 will try to process a request at 72.55235718787671\n",
      "A request is starting to be processed by machine 1 at 72.55235718787671\n",
      "La cantidad de requests en el buffer es 0\n",
      "Machine 1 has finished processing the request at 72.68184629935902\n",
      "The machine 1 will try to process a request at 72.68184629935902\n",
      "The machine 1 will try to process a request at 73.68184629935902\n",
      "The machine 1 will try to process a request at 74.68184629935902\n",
      "The machine 1 will try to process a request at 75.68184629935902\n",
      "A request arrived and was buffered at time 75.91559750048141\n",
      "The next request will arrive in 11.850399856083119, we are at 75.91559750048141\n",
      "The machine 1 will try to process a request at 76.68184629935902\n",
      "A request is starting to be processed by machine 1 at 76.68184629935902\n",
      "La cantidad de requests en el buffer es 0\n",
      "Machine 1 has finished processing the request at 76.76083272861314\n",
      "The machine 1 will try to process a request at 76.76083272861314\n",
      "The machine 1 will try to process a request at 77.76083272861314\n",
      "The machine 1 will try to process a request at 78.76083272861314\n",
      "The machine 1 will try to process a request at 79.76083272861314\n",
      "The machine 1 will try to process a request at 80.76083272861314\n",
      "The machine 1 will try to process a request at 81.76083272861314\n",
      "The machine 1 will try to process a request at 82.76083272861314\n",
      "The machine 1 will try to process a request at 83.76083272861314\n",
      "The machine 1 will try to process a request at 84.76083272861314\n",
      "The machine 1 will try to process a request at 85.76083272861314\n",
      "The machine 1 will try to process a request at 86.76083272861314\n",
      "The machine 1 will try to process a request at 87.76083272861314\n",
      "A request arrived and was buffered at time 87.76599735656453\n",
      "The next request will arrive in 0.9211462874013485, we are at 87.76599735656453\n",
      "A request arrived and was buffered at time 88.68714364396587\n",
      "The next request will arrive in 8.463553160853198, we are at 88.68714364396587\n",
      "The machine 1 will try to process a request at 88.76083272861314\n",
      "A request is starting to be processed by machine 1 at 88.76083272861314\n",
      "La cantidad de requests en el buffer es 1\n",
      "Machine 1 has finished processing the request at 89.35283303226473\n",
      "The machine 1 will try to process a request at 89.35283303226473\n",
      "A request is starting to be processed by machine 1 at 89.35283303226473\n",
      "La cantidad de requests en el buffer es 0\n",
      "Machine 1 has finished processing the request at 89.44692311097627\n",
      "The machine 1 will try to process a request at 89.44692311097627\n",
      "The machine 1 will try to process a request at 90.44692311097627\n",
      "The machine 1 will try to process a request at 91.44692311097627\n",
      "The machine 1 will try to process a request at 92.44692311097627\n",
      "The machine 1 will try to process a request at 93.44692311097627\n",
      "The machine 1 will try to process a request at 94.44692311097627\n",
      "The machine 1 will try to process a request at 95.44692311097627\n",
      "The machine 1 will try to process a request at 96.44692311097627\n",
      "A request arrived and was buffered at time 97.15069680481906\n",
      "The next request will arrive in 1.779904733343188, we are at 97.15069680481906\n",
      "The machine 1 will try to process a request at 97.44692311097627\n",
      "A request is starting to be processed by machine 1 at 97.44692311097627\n",
      "La cantidad de requests en el buffer es 0\n",
      "Machine 1 has finished processing the request at 97.47585429988149\n",
      "The machine 1 will try to process a request at 97.47585429988149\n",
      "The machine 1 will try to process a request at 98.47585429988149\n",
      "A request arrived and was buffered at time 98.93060153816225\n",
      "The next request will arrive in 5.13777092295634, we are at 98.93060153816225\n",
      "The machine 1 will try to process a request at 99.47585429988149\n",
      "A request is starting to be processed by machine 1 at 99.47585429988149\n",
      "La cantidad de requests en el buffer es 0\n",
      "Machine 1 has finished processing the request at 99.63095031346843\n",
      "The machine 1 will try to process a request at 99.63095031346843\n"
     ]
    }
   ],
   "source": [
    "env = simpy.Environment()\n",
    "requests_center = simpy.Resource(env, 1)\n",
    "requests_buffer = simpy.Container(env, BUFFER_SIZE, init=0)\n",
    "env.process(request_generator(env, requests_center, requests_buffer, int(time.time())))\n",
    "env.process(processing_machine(env, requests_center, requests_buffer, int(time.time()), 1))\n",
    "#env.process(processing_machine(env, requests_center, requests_buffer, int(time.time()), 2))\n",
    "\n",
    "env.run(until=SIM_TIME)"
   ]
  },
  {
   "attachments": {},
   "cell_type": "markdown",
   "metadata": {},
   "source": [
    "De estas otra manera, cada requests va a ser un proceso y las maquinas van a ser los recursos"
   ]
  },
  {
   "cell_type": "code",
   "execution_count": null,
   "metadata": {},
   "outputs": [],
   "source": []
  },
  {
   "cell_type": "code",
   "execution_count": null,
   "metadata": {},
   "outputs": [],
   "source": [
    "random.seed(22)\n",
    "\n",
    "env = simpy.Environment()\n",
    "processing_center = simpy.Resource(env, 2)\n",
    "\n",
    "env.process(gas_station_control(env, fuel_pump))\n",
    "env.process(car_generator(env, gas_station, fuel_pump))"
   ]
  }
 ],
 "metadata": {
  "kernelspec": {
   "display_name": "Python 3",
   "language": "python",
   "name": "python3"
  },
  "language_info": {
   "codemirror_mode": {
    "name": "ipython",
    "version": 3
   },
   "file_extension": ".py",
   "mimetype": "text/x-python",
   "name": "python",
   "nbconvert_exporter": "python",
   "pygments_lexer": "ipython3",
   "version": "3.10.6"
  },
  "orig_nbformat": 4
 },
 "nbformat": 4,
 "nbformat_minor": 2
}
