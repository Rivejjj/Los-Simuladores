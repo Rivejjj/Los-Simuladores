{
 "cells": [
  {
   "cell_type": "markdown",
   "metadata": {},
   "source": [
    "# Simulacion - 75.26\n",
    "## TP1 - Xorshift RNGs\n",
    "### Grupo 4 \n",
    "### Integrantes: Joaquín Rivero, Juan Pablo Aschieri, Diego Civini, Francisco Rovira Rossel"
   ]
  },
  {
   "cell_type": "code",
   "execution_count": 440,
   "metadata": {},
   "outputs": [],
   "source": [
    "import matplotlib.pyplot as plt\n",
    "import numpy as np"
   ]
  },
  {
   "cell_type": "markdown",
   "metadata": {},
   "source": [
    "## Ejercicio 1"
   ]
  },
  {
   "cell_type": "markdown",
   "metadata": {},
   "source": [
    "Hacemos una clase `xorshift_generator` que dada una semilla devuelve un generador de numeros aleatorios de 32 bits realizando operaciones logicas de shifteo y xor. Los valores usados para la cantidad de shifteos fueron sacados del paper."
   ]
  },
  {
   "cell_type": "code",
   "execution_count": 441,
   "metadata": {},
   "outputs": [],
   "source": [
    "class xorshift_generator:\n",
    "    def __init__(self, seed):\n",
    "        self.x = seed\n",
    "        self.y = 463820370\n",
    "        self.z = 138409373\n",
    "        self.w = 12872349\n",
    "\n",
    "\n",
    "    def rand(self):\n",
    "        tmp = ( self.x^ (self.x <<13) ) \n",
    "        self.x = self.y\n",
    "        self.y = self.z\n",
    "        self.z = self.w\n",
    "        self.w = (self.w^(self.w>>17) ) ^ (tmp^(tmp>>5))\n",
    "        return self.w & 0xffffffff\n",
    "    \n",
    "    def normalized_rand(self):\n",
    "        return self.rand() / (2**32 -1)"
   ]
  },
  {
   "cell_type": "markdown",
   "metadata": {},
   "source": [
    "Obtenemos un generador con una semilla y obtenemos 100000 numeros para analizar los resultados."
   ]
  },
  {
   "cell_type": "code",
   "execution_count": 442,
   "metadata": {},
   "outputs": [],
   "source": [
    "generator = xorshift_generator(123456789)"
   ]
  },
  {
   "cell_type": "code",
   "execution_count": 443,
   "metadata": {},
   "outputs": [
    {
     "name": "stdout",
     "output_type": "stream",
     "text": [
      "[634047618, 827895943, 4188086042, 2971408131, 1743656811]\n"
     ]
    }
   ],
   "source": [
    "rand_numbers = []\n",
    "for i in range(100000):\n",
    "    rand_numbers.append(generator.rand())\n",
    "print(rand_numbers[:5])"
   ]
  },
  {
   "cell_type": "markdown",
   "metadata": {},
   "source": [
    "Graficamos los numeros en un histograma para obtener una representacion visual aproximada de su distribucion. Como buscamos numeros aleatorios entre 0 y 2^32 -1 deberia ser un grafico similar a una dist uniforme ente 0 y 2^32 -1"
   ]
  },
  {
   "cell_type": "code",
   "execution_count": 444,
   "metadata": {},
   "outputs": [
    {
     "data": {
      "image/png": "[encoded data removed]",
      "text/plain": [
       "<Figure size 640x480 with 1 Axes>"
      ]
     },
     "metadata": {},
     "output_type": "display_data"
    }
   ],
   "source": [
    "plt.hist(rand_numbers, bins = 100)\n",
    "plt.show()"
   ]
  },
  {
   "cell_type": "markdown",
   "metadata": {},
   "source": [
    "Si bien no es perfecto se puede ver como aproximadamente los distintos box tienen la misma cantidad de ocurrencias, haciendo que el grafico dado se paresca a una meseta, que es el grafico que deberia tener una uniforme."
   ]
  },
  {
   "cell_type": "markdown",
   "metadata": {},
   "source": [
    "Si queremos obtener numero aleatorios entre 0 y 1 utilizando el xorshift generator, basta con generar un numero aleatorio de la misma manera y luego normalizarlo. Para ello dividimos al numero por el mayor valor posible, 2^32 -1. De esta manera optenemos un numero aleatorio entre 0 y 1 con el metodo normalized_rand"
   ]
  },
  {
   "cell_type": "code",
   "execution_count": 445,
   "metadata": {},
   "outputs": [
    {
     "name": "stdout",
     "output_type": "stream",
     "text": [
      "[0.24394065706151088, 0.5719659192422325, 0.2779104933789723, 0.8770274484709435, 0.9444620914162282]\n"
     ]
    }
   ],
   "source": [
    "rand_numbers_normalized = []\n",
    "for i in range(100000):\n",
    "    rand_numbers_normalized.append(generator.normalized_rand())\n",
    "print(rand_numbers_normalized[:5])"
   ]
  },
  {
   "cell_type": "markdown",
   "metadata": {},
   "source": [
    "De la misma forma graficamos un histograma para ver si la distribucion de los numeros se asemeja a una distribucion uniforme entre 0 y 1."
   ]
  },
  {
   "cell_type": "code",
   "execution_count": 446,
   "metadata": {},
   "outputs": [
    {
     "data": {
      "image/png": "[encoded data removed]",
      "text/plain": [
       "<Figure size 640x480 with 1 Axes>"
      ]
     },
     "metadata": {},
     "output_type": "display_data"
    }
   ],
   "source": [
    "plt.hist(rand_numbers_normalized, bins = 100)\n",
    "plt.show()"
   ]
  },
  {
   "cell_type": "markdown",
   "metadata": {},
   "source": [
    "## Ejercicio 2"
   ]
  },
  {
   "cell_type": "markdown",
   "metadata": {},
   "source": [
    "enunciado"
   ]
  },
  {
   "cell_type": "markdown",
   "metadata": {},
   "source": [
    "### Test chi2\n"
   ]
  },
  {
   "attachments": {},
   "cell_type": "markdown",
   "metadata": {},
   "source": [
    "Si bien el test de la chi2 necesita que la distribución sea discreta, nosotros tenemos una distribución continua y uniforme. Esto presenta un problema. Para poder realizar este test, podemos discretizar la distribucion juntando valores de intervalos en bins. En este caso vamos a usar 100 bins."
   ]
  },
  {
   "attachments": {},
   "cell_type": "markdown",
   "metadata": {},
   "source": [
    "Este test nos permite saber con un nivel de significación alfa (usaremos 0.05) si los valores que generamos NO tienen distribución uniforme. Para ello tomamos como hipótesis nula que la distribucion **es** uniforme en el intervalo correspondiente.  \n",
    "Si podemos rechazar la hipotesis nula: afirmaremos que la distribución no es uniforme.  \n",
    "En caso de no rechazar la hipótesis nula: no podemos afirmar que la distribución es uniforme."
   ]
  },
  {
   "attachments": {},
   "cell_type": "markdown",
   "metadata": {},
   "source": [
    "Asumo h0 como que la dist es uniforme. Este test NO SIRVE para decir si una dist es uniforme. Sirve para decir, si se rechaza h0 puedo decir con un nivel de significacion alfa que la dist no es uniforme. Si no se rechaza H0 entonce NO ES QUE ES UNIFORME, si no que PUEDE ser uniforme."
   ]
  },
  {
   "cell_type": "code",
   "execution_count": 447,
   "metadata": {},
   "outputs": [],
   "source": [
    "from scipy.stats import chi2"
   ]
  },
  {
   "cell_type": "code",
   "execution_count": 448,
   "metadata": {},
   "outputs": [],
   "source": [
    "def get_frequency(rand_numbers, bins, max):\n",
    "    frequency = [0 for i in range(bins)]\n",
    "    bin_size = max/bins\n",
    "\n",
    "    for i in rand_numbers:\n",
    "        j = 0\n",
    "        seguir = True\n",
    "        while seguir:\n",
    "            if i < bin_size:\n",
    "                frequency[j] += 1\n",
    "                seguir = False\n",
    "            else:\n",
    "                j += 1\n",
    "                i -= bin_size\n",
    "\n",
    "    return frequency"
   ]
  },
  {
   "cell_type": "code",
   "execution_count": 449,
   "metadata": {},
   "outputs": [],
   "source": [
    "def test_chi2_for_uniform_distribution(rand_numbers, bins, max, significance_level):\n",
    "    frequency = get_frequency(rand_numbers, bins, max)\n",
    "\n",
    "    expected_frecuency = len(rand_numbers)/bins\n",
    "    aux = 0\n",
    "    for i in frequency:\n",
    "        aux += (i - expected_frecuency)**2\n",
    "    d2 = aux/expected_frecuency\n",
    "\n",
    "    upper_limit = chi2.ppf(1 - significance_level, df=bins-1)\n",
    "\n",
    "    print(f\"D2: {d2}\")\n",
    "    print(f\"Valor del cuantil de una Chi-cuadrado de (bins-1) grados de libertad: {upper_limit}\")\n",
    "    if d2 > upper_limit:\n",
    "        print(\"Hay suf evidencia para rechazar h0, es decir que podemos afirmar que la distribucion no es uniforme con un nivel de significacion de 0.05\")\n",
    "    else:\n",
    "        print(\"No hay suf evidencia para rechazar h0, es decir que la distribucion podria ser uniforme\")"
   ]
  },
  {
   "cell_type": "code",
   "execution_count": 450,
   "metadata": {},
   "outputs": [
    {
     "data": {
      "text/plain": [
       "42949672"
      ]
     },
     "execution_count": 450,
     "metadata": {},
     "output_type": "execute_result"
    }
   ],
   "source": [
    "int((2**32-1)/100)\n"
   ]
  },
  {
   "attachments": {},
   "cell_type": "markdown",
   "metadata": {},
   "source": [
    "Creamos un xorshift generator y le aplicamos el test de la chi2 para tanto el generador de numeros entre 0 y 2^32-1 y el de numeros entre 0 y 1, probando generar 1000, 10000 y 100000 numeros."
   ]
  },
  {
   "cell_type": "code",
   "execution_count": 451,
   "metadata": {},
   "outputs": [],
   "source": [
    "generator = xorshift_generator(565555555)"
   ]
  },
  {
   "attachments": {},
   "cell_type": "markdown",
   "metadata": {},
   "source": [
    "#### Pruebas para generador"
   ]
  },
  {
   "attachments": {},
   "cell_type": "markdown",
   "metadata": {},
   "source": [
    "Probamos el generador con una muestra de 100 numeros"
   ]
  },
  {
   "cell_type": "code",
   "execution_count": 452,
   "metadata": {},
   "outputs": [
    {
     "name": "stdout",
     "output_type": "stream",
     "text": [
      "D2: 64.0\n",
      "Valor del cuantil de una Chi-cuadrado de (bins-1) grados de libertad: 123.2252214533618\n",
      "No hay suf evidencia para rechazar h0, es decir que la distribucion podria ser uniforme\n"
     ]
    }
   ],
   "source": [
    "rand_numbers =[]\n",
    "for i in range(100):\n",
    "    rand_numbers.append(generator.rand())\n",
    "\n",
    "test_chi2_for_uniform_distribution(rand_numbers, 100, 2**32 - 1, 0.05)"
   ]
  },
  {
   "attachments": {},
   "cell_type": "markdown",
   "metadata": {},
   "source": [
    "Esto se debe a que no hay grandes diferencias entre los distintos bins. Como se muestra en el siguiente grafico."
   ]
  },
  {
   "cell_type": "code",
   "execution_count": 453,
   "metadata": {},
   "outputs": [
    {
     "data": {
      "image/png": "[encoded data removed]",
      "text/plain": [
       "<Figure size 640x480 with 1 Axes>"
      ]
     },
     "metadata": {},
     "output_type": "display_data"
    }
   ],
   "source": [
    "plt.hist(rand_numbers, bins = 100)\n",
    "plt.show()"
   ]
  },
  {
   "attachments": {},
   "cell_type": "markdown",
   "metadata": {},
   "source": [
    "Sin embargo esto depende enteramente de la suerte que tengamos al generar la muestra, ya que a pesar de que sea poco probable, se podria dar el caso de que los 100 numeros estan en el mismo bin. Por ejemplo en el siguiente caso"
   ]
  },
  {
   "cell_type": "code",
   "execution_count": 454,
   "metadata": {},
   "outputs": [
    {
     "name": "stdout",
     "output_type": "stream",
     "text": [
      "D2: 132.0\n",
      "Valor del cuantil de una Chi-cuadrado de (bins-1) grados de libertad: 123.2252214533618\n",
      "Hay suf evidencia para rechazar h0, es decir que podemos afirmar que la distribucion no es uniforme con un nivel de significacion de 0.05\n"
     ]
    }
   ],
   "source": [
    "#dejamos pasar 100 numeros de la semilla\n",
    "for i in range(300):\n",
    "    generator.rand()\n",
    "\n",
    "rand_numbers =[]\n",
    "for i in range(100):\n",
    "    rand_numbers.append(generator.rand())\n",
    "\n",
    "test_chi2_for_uniform_distribution(rand_numbers, 100, 2**32 - 1, 0.05)"
   ]
  },
  {
   "attachments": {},
   "cell_type": "markdown",
   "metadata": {},
   "source": [
    "En este caso vemos que se rechaza h0, es decir que podemos asegurar bajo un nivel de significancia 0.05 que la distribucion no es de tipo uniforme. Sin embargo esto se debe a que tuvimos \"mala suerte\" a la hora de obtener los numeros. Lo que se ve en el sigueinte grafico que contiene muchas mas irregularidades que el anterior"
   ]
  },
  {
   "cell_type": "code",
   "execution_count": 455,
   "metadata": {},
   "outputs": [
    {
     "data": {
      "image/png": "[encoded data removed]",
      "text/plain": [
       "<Figure size 640x480 with 1 Axes>"
      ]
     },
     "metadata": {},
     "output_type": "display_data"
    }
   ],
   "source": [
    "plt.hist(rand_numbers, bins = 100)\n",
    "plt.show()"
   ]
  },
  {
   "attachments": {},
   "cell_type": "markdown",
   "metadata": {},
   "source": [
    "Para evitar que nuestros resultados esten muy influenciados por la \"suerte\" que tengamos al obtener numeros, los generamos en magnitudes mas grandes, esto hara que sea mucho menos probable que el test de que se rechaza la hipotesis nula por \"mala suerte.\""
   ]
  },
  {
   "attachments": {},
   "cell_type": "markdown",
   "metadata": {},
   "source": [
    "Probamos el generador con una muestra de 10000 numeros"
   ]
  },
  {
   "cell_type": "code",
   "execution_count": 456,
   "metadata": {},
   "outputs": [
    {
     "name": "stdout",
     "output_type": "stream",
     "text": [
      "D2: 92.0\n",
      "Valor del cuantil de una Chi-cuadrado de (bins-1) grados de libertad: 123.2252214533618\n",
      "No hay suf evidencia para rechazar h0, es decir que la distribucion podria ser uniforme\n"
     ]
    }
   ],
   "source": [
    "rand_numbers =[]\n",
    "for i in range(10000):\n",
    "    rand_numbers.append(generator.rand())\n",
    "\n",
    "test_chi2_for_uniform_distribution(rand_numbers, 100, 2**32 - 1, 0.05)"
   ]
  },
  {
   "attachments": {},
   "cell_type": "markdown",
   "metadata": {},
   "source": [
    "Probamos el generador con una muestra de 100000 numeros"
   ]
  },
  {
   "cell_type": "code",
   "execution_count": 457,
   "metadata": {},
   "outputs": [
    {
     "name": "stdout",
     "output_type": "stream",
     "text": [
      "D2: 111.282\n",
      "Valor del cuantil de una Chi-cuadrado de (bins-1) grados de libertad: 123.2252214533618\n",
      "No hay suf evidencia para rechazar h0, es decir que la distribucion podria ser uniforme\n"
     ]
    }
   ],
   "source": [
    "rand_numbers = []\n",
    "for i in range(100000):\n",
    "    rand_numbers.append(generator.rand())\n",
    "test_chi2_for_uniform_distribution(rand_numbers, 100, 2**32 - 1, 0.05)"
   ]
  },
  {
   "attachments": {},
   "cell_type": "markdown",
   "metadata": {},
   "source": [
    "#### Pruebas para generador normalizado"
   ]
  },
  {
   "attachments": {},
   "cell_type": "markdown",
   "metadata": {},
   "source": [
    "A partir de aquí, se prueba el generador para numeros randoms entre 0 y 1, para 100, 10000 y 100000 numeros. Es muy similar a lo obtenido en el caso anterior ya que para generat numeros entre 0 y 1 se utiliza el generador testeado anteriormente."
   ]
  },
  {
   "cell_type": "code",
   "execution_count": 458,
   "metadata": {},
   "outputs": [
    {
     "name": "stdout",
     "output_type": "stream",
     "text": [
      "D2: 100.0\n",
      "Valor del cuantil de una Chi-cuadrado de (bins-1) grados de libertad: 123.2252214533618\n",
      "No hay suf evidencia para rechazar h0, es decir que la distribucion podria ser uniforme\n"
     ]
    }
   ],
   "source": [
    "rand_numbers = []\n",
    "for i in range(100):\n",
    "    rand_numbers.append(generator.normalized_rand())\n",
    "test_chi2_for_uniform_distribution(rand_numbers, 100, 1, 0.05)"
   ]
  },
  {
   "cell_type": "code",
   "execution_count": 459,
   "metadata": {},
   "outputs": [
    {
     "data": {
      "image/png": "[encoded data removed]",
      "text/plain": [
       "<Figure size 640x480 with 1 Axes>"
      ]
     },
     "metadata": {},
     "output_type": "display_data"
    }
   ],
   "source": [
    "plt.hist(rand_numbers, bins = 100)\n",
    "plt.show()"
   ]
  },
  {
   "attachments": {},
   "cell_type": "markdown",
   "metadata": {},
   "source": [
    "De la misma manera que en el generador anterior, al ser muy pocos los numeros que generamos nuestro test tiene altas chances de dar resultados diferentes segun que tanta \"suerte\" tengamos al generar los 100 numeros"
   ]
  },
  {
   "cell_type": "code",
   "execution_count": 460,
   "metadata": {},
   "outputs": [
    {
     "name": "stdout",
     "output_type": "stream",
     "text": [
      "D2: 130.0\n",
      "Valor del cuantil de una Chi-cuadrado de (bins-1) grados de libertad: 123.2252214533618\n",
      "Hay suf evidencia para rechazar h0, es decir que podemos afirmar que la distribucion no es uniforme con un nivel de significacion de 0.05\n"
     ]
    }
   ],
   "source": [
    "rand_numbers = []\n",
    "for i in range(100):\n",
    "    rand_numbers.append(generator.normalized_rand())\n",
    "test_chi2_for_uniform_distribution(rand_numbers, 100, 1, 0.05)"
   ]
  },
  {
   "cell_type": "code",
   "execution_count": 461,
   "metadata": {},
   "outputs": [
    {
     "data": {
      "image/png": "[encoded data removed]",
      "text/plain": [
       "<Figure size 640x480 with 1 Axes>"
      ]
     },
     "metadata": {},
     "output_type": "display_data"
    }
   ],
   "source": [
    "plt.hist(rand_numbers, bins = 100)\n",
    "plt.show()"
   ]
  },
  {
   "attachments": {},
   "cell_type": "markdown",
   "metadata": {},
   "source": [
    "Probamos el generador con una muestra de 10000 numeros"
   ]
  },
  {
   "cell_type": "code",
   "execution_count": 462,
   "metadata": {},
   "outputs": [
    {
     "name": "stdout",
     "output_type": "stream",
     "text": [
      "D2: 92.48\n",
      "Valor del cuantil de una Chi-cuadrado de (bins-1) grados de libertad: 123.2252214533618\n",
      "No hay suf evidencia para rechazar h0, es decir que la distribucion podria ser uniforme\n"
     ]
    }
   ],
   "source": [
    "rand_numbers = []\n",
    "for i in range(10000):\n",
    "    rand_numbers.append(generator.normalized_rand())\n",
    "test_chi2_for_uniform_distribution(rand_numbers, 100, 1, 0.05)"
   ]
  },
  {
   "attachments": {},
   "cell_type": "markdown",
   "metadata": {},
   "source": [
    "Probamos el generador con una muestra de 100000 numeros"
   ]
  },
  {
   "cell_type": "code",
   "execution_count": 463,
   "metadata": {},
   "outputs": [
    {
     "name": "stdout",
     "output_type": "stream",
     "text": [
      "D2: 80.902\n",
      "Valor del cuantil de una Chi-cuadrado de (bins-1) grados de libertad: 123.2252214533618\n",
      "No hay suf evidencia para rechazar h0, es decir que la distribucion podria ser uniforme\n"
     ]
    }
   ],
   "source": [
    "rand_numbers = []\n",
    "for i in range(100000):\n",
    "    rand_numbers.append(generator.normalized_rand())\n",
    "test_chi2_for_uniform_distribution(rand_numbers, 100, 1, 0.05)"
   ]
  },
  {
   "attachments": {},
   "cell_type": "markdown",
   "metadata": {},
   "source": [
    "### Test TCL"
   ]
  },
  {
   "attachments": {},
   "cell_type": "markdown",
   "metadata": {},
   "source": [
    "**H0** : la distribucion **no** es $uniforme (0,m)$, que es equivalente a que la media $μ != (m-0)/2$  \n",
    "**H1** : la distribucion es $uniforme (0,m)$  "
   ]
  },
  {
   "attachments": {},
   "cell_type": "markdown",
   "metadata": {},
   "source": [
    "Para el caso del generador base tendremos una distribucion uniforme discreta entre 0 y 2 **32 -1 y para el generador normalizado uns distribucion discreta continua entre 0 y 1."
   ]
  },
  {
   "attachments": {},
   "cell_type": "markdown",
   "metadata": {},
   "source": [
    "Por el Teorema Central del Limite, podemos decir que la sumatoria de variables aleatorias de igual media y varianza tiende a una normal. Luego, podemos plantear un test de nivel de significacion asintotico alfa."
   ]
  },
  {
   "attachments": {},
   "cell_type": "markdown",
   "metadata": {},
   "source": [
    "$(\\sum_{i=1}^{n} t_i - nμ)/ \\sqrt{nVAR[X]}$  aproximadamente una normal estandar Z"
   ]
  },
  {
   "attachments": {},
   "cell_type": "markdown",
   "metadata": {},
   "source": [
    "Entonces podemos plantear un test donde rechazamos h0 en la zona central que acumule probabilidad alfa"
   ]
  },
  {
   "cell_type": "code",
   "execution_count": 487,
   "metadata": {},
   "outputs": [
    {
     "data": {
      "image/png": "[encoded data removed]",
      "text/plain": [
       "<Figure size 640x480 with 1 Axes>"
      ]
     },
     "metadata": {},
     "output_type": "display_data"
    }
   ],
   "source": [
    "from scipy.stats import norm\n",
    "\n",
    "# Crear un array de valores x en el rango de -3 a 3\n",
    "x = np.linspace(-3, 3, 1000)\n",
    "alpha = 0.05\n",
    "# Calcular la función de densidad de probabilidad (PDF) de la distribución normal estándar\n",
    "pdf = np.exp(-0.5*x**2) / np.sqrt(2*np.pi)\n",
    "# Trama la PDF en un gráfico\n",
    "plt.plot(x, pdf)\n",
    "\n",
    "# Marca los cuantiles del 5% y del 95% con un relleno rojo\n",
    "lower_quantile = norm.ppf((1-alpha)/2)  # cuantil del 5%\n",
    "upper_quantile = -norm.ppf((1-alpha)/2)  # cuantil del 95%\n",
    "\n",
    "plt.fill_between(x, pdf, where=(x < lower_quantile), color='red', alpha=0.5)\n",
    "plt.fill_between(x, pdf, where=(x > upper_quantile), color='red', alpha=0.5)\n",
    "\n",
    "# Agrega etiquetas al gráfico y muestra el resultado\n",
    "plt\n",
    "\n",
    "plt.xlabel('x')\n",
    "plt.ylabel('PDF(x)')\n",
    "plt.show()"
   ]
  },
  {
   "attachments": {},
   "cell_type": "markdown",
   "metadata": {},
   "source": [
    "Es decir que rechazaremos h0 cuando $|z| < q(1-alpha)/2$ que es aproximadamente $$|(\\sum_{i=1}^{n} t_i - nμ)/ \\sqrt{nVAR[X]}| < q(1-alpha)/2$$"
   ]
  },
  {
   "attachments": {},
   "cell_type": "markdown",
   "metadata": {},
   "source": [
    "siedo :\n",
    "+$μ = m/2$ y \n",
    "+ var[x] = m^2/12$n"
   ]
  },
  {
   "attachments": {},
   "cell_type": "markdown",
   "metadata": {},
   "source": [
    "Este test funcionara mejor cuantos mas numeros aleatorios se generen"
   ]
  },
  {
   "attachments": {},
   "cell_type": "markdown",
   "metadata": {},
   "source": [
    "Creamos un xorshift generator para aplicarte el test"
   ]
  },
  {
   "cell_type": "code",
   "execution_count": 611,
   "metadata": {},
   "outputs": [],
   "source": [
    "generator = xorshift_generator(565555555)"
   ]
  },
  {
   "cell_type": "code",
   "execution_count": 612,
   "metadata": {},
   "outputs": [],
   "source": [
    "def tcl_test_for_uniform_distribution(rand_numbers, max, varianza ,significance_level):\n",
    "    n = len(rand_numbers)\n",
    "    numerator = sum(rand_numbers) - n *(max/2)\n",
    "    denominator = (n*varianza(rand_numbers,max))**1/2\n",
    "    value = numerator/denominator\n",
    "\n",
    "\n",
    "    print(n)\n",
    "    print(numerator)\n",
    "    print(denominator)\n",
    "    print(value)\n",
    "    if (value > norm.ppf((1-significance_level)/2)) and (value < -norm.ppf((1-significance_level)/2)):\n",
    "        print(\"Hay suf evidencia para rechazar h0\")\n",
    "    else:\n",
    "        print(\"No hay suf evidencia para rechazar h0\")\n",
    "    "
   ]
  },
  {
   "cell_type": "code",
   "execution_count": 613,
   "metadata": {},
   "outputs": [
    {
     "data": {
      "text/plain": [
       "2.916666666666666"
      ]
     },
     "execution_count": 613,
     "metadata": {},
     "output_type": "execute_result"
    }
   ],
   "source": [
    "3.5 == 1/6 +2/6 +3/6 + 4/6 + 5/6 + 1\n",
    "\n",
    "aux = 0\n",
    "for i in range(1,7):\n",
    "    aux += (1/6)*i**2\n",
    "\n",
    "aux - 3.5**2  \n"
   ]
  },
  {
   "cell_type": "code",
   "execution_count": 614,
   "metadata": {},
   "outputs": [
    {
     "data": {
      "text/plain": [
       "2.9166666666666665"
      ]
     },
     "execution_count": 614,
     "metadata": {},
     "output_type": "execute_result"
    }
   ],
   "source": [
    "(((6-1+1)**2)-1)/12"
   ]
  },
  {
   "cell_type": "code",
   "execution_count": 674,
   "metadata": {},
   "outputs": [],
   "source": [
    "def descrete_uniform_var(rand_numbers ,max):\n",
    "    return (((max+1)**2)-1)/12\n",
    "\n",
    "    "
   ]
  },
  {
   "cell_type": "code",
   "execution_count": 690,
   "metadata": {},
   "outputs": [
    {
     "name": "stdout",
     "output_type": "stream",
     "text": [
      "1\n",
      "-553905604.5\n",
      "7.686143364045646e+17\n",
      "-7.206547917009559e-10\n",
      "Hay suf evidencia para rechazar h0\n",
      "[1593578043]\n"
     ]
    },
    {
     "data": {
      "text/plain": [
       "<function print>"
      ]
     },
     "execution_count": 690,
     "metadata": {},
     "output_type": "execute_result"
    }
   ],
   "source": [
    "rand_numbers = []\n",
    "for i in range(1):\n",
    "    rand_numbers.append(generator.rand())\n",
    "tcl_test_for_uniform_distribution(rand_numbers, 2**32-1, descrete_uniform_var, 0.05 )\n",
    "print(rand_numbers)\n",
    "print"
   ]
  },
  {
   "attachments": {},
   "cell_type": "markdown",
   "metadata": {},
   "source": [
    "### Test Kolmogorov - Smirnov\n",
    "https://www.statology.org/kolmogorov-smirnov-test-python/ (de donde saque, lo pego aca para no perder el link)"
   ]
  },
  {
   "cell_type": "code",
   "execution_count": 617,
   "metadata": {},
   "outputs": [],
   "source": [
    "from scipy.stats import kstest\n",
    "from numpy.random import poisson"
   ]
  },
  {
   "attachments": {},
   "cell_type": "markdown",
   "metadata": {},
   "source": [
    "Nuestra hipotesis nula es que el arreglo 'data' (generado por nuestro RNG) sigue una distribucion uniforme.\n",
    "Si el p-value es menor que el nivel de significacion (por default = 0.05) entonces se rechaza la hipotesis nula y decimos que hay suficiente evidencia para decir que\n",
    "la muestra de numeros en el arreglo 'data' no viene de una distribucion uniforme.\n",
    "Empezamos testeando para 100 elementos."
   ]
  },
  {
   "cell_type": "code",
   "execution_count": 618,
   "metadata": {},
   "outputs": [],
   "source": [
    "data = []\n",
    "generator = xorshift_generator(359293405)\n",
    "for i in range(100):\n",
    "    data.append(generator.rand())"
   ]
  },
  {
   "cell_type": "code",
   "execution_count": 619,
   "metadata": {},
   "outputs": [
    {
     "name": "stdout",
     "output_type": "stream",
     "text": [
      "No hay evidencia para rechazar la hipotesis nula.\n"
     ]
    }
   ],
   "source": [
    "p_value = kstest(data, 'uniform', args=(0, (2**32)-1)).pvalue\n",
    "\n",
    "if p_value > 0.05:\n",
    "    print('No hay evidencia para rechazar la hipotesis nula.')\n",
    "else:\n",
    "    print('Rechazamos la hipotesis nula. Data no sigue una distriibucion uniforme.')"
   ]
  },
  {
   "attachments": {},
   "cell_type": "markdown",
   "metadata": {},
   "source": [
    "Seguimos con 10000 elementos."
   ]
  },
  {
   "cell_type": "code",
   "execution_count": 620,
   "metadata": {},
   "outputs": [
    {
     "name": "stdout",
     "output_type": "stream",
     "text": [
      "No hay evidencia para rechazar la hipotesis nula.\n"
     ]
    }
   ],
   "source": [
    "data = []\n",
    "for i in range(10000):\n",
    "    data.append(generator.rand())\n",
    "\n",
    "p_value = kstest(data, 'uniform', args=(0, (2**32)-1)).pvalue\n",
    "\n",
    "if p_value > 0.05:\n",
    "    print('No hay evidencia para rechazar la hipotesis nula.')\n",
    "else:\n",
    "    print('Rechazamos la hipotesis nula. Data no sigue una distriibucion uniforme.')"
   ]
  },
  {
   "attachments": {},
   "cell_type": "markdown",
   "metadata": {},
   "source": [
    "Finalizamos el testeo con Kolgomorov - Smirnov del RNG con 100000 elementos."
   ]
  },
  {
   "cell_type": "code",
   "execution_count": 621,
   "metadata": {},
   "outputs": [
    {
     "name": "stdout",
     "output_type": "stream",
     "text": [
      "No hay evidencia para rechazar la hipotesis nula.\n"
     ]
    }
   ],
   "source": [
    "data = []\n",
    "for i in range(100000):\n",
    "    data.append(generator.rand())\n",
    "    \n",
    "p_value = kstest(data, 'uniform', args=(0, (2**32)-1)).pvalue\n",
    "\n",
    "if p_value > 0.05:\n",
    "    print('No hay evidencia para rechazar la hipotesis nula.')\n",
    "else:\n",
    "    print('Rechazamos la hipotesis nula. Data no sigue una distriibucion uniforme.')"
   ]
  },
  {
   "attachments": {},
   "cell_type": "markdown",
   "metadata": {},
   "source": [
    "Ahora testemos con las mismas cantidades de elementos pero para el RNG normalizado. Empezamos con 100 elementos."
   ]
  },
  {
   "cell_type": "code",
   "execution_count": 622,
   "metadata": {},
   "outputs": [
    {
     "name": "stdout",
     "output_type": "stream",
     "text": [
      "No hay evidencia para rechazar la hipotesis nula.\n"
     ]
    }
   ],
   "source": [
    "data = []\n",
    "generator = xorshift_generator(2345324682)\n",
    "for i in range(100):\n",
    "    data.append(generator.normalized_rand())\n",
    "\n",
    "p_value = kstest(data, 'uniform', args=(0, 1)).pvalue\n",
    "\n",
    "if p_value > 0.05:\n",
    "    print('No hay evidencia para rechazar la hipotesis nula.')\n",
    "else:\n",
    "    print('Rechazamos la hipotesis nula. Data no sigue una distriibucion uniforme.')"
   ]
  },
  {
   "attachments": {},
   "cell_type": "markdown",
   "metadata": {},
   "source": [
    "Seguimos con 10000"
   ]
  },
  {
   "cell_type": "code",
   "execution_count": 623,
   "metadata": {},
   "outputs": [
    {
     "name": "stdout",
     "output_type": "stream",
     "text": [
      "No hay evidencia para rechazar la hipotesis nula.\n"
     ]
    }
   ],
   "source": [
    "data = []\n",
    "for i in range(10000):\n",
    "    data.append(generator.normalized_rand())\n",
    "\n",
    "p_value = kstest(data, 'uniform', args=(0, 1)).pvalue\n",
    "\n",
    "if p_value > 0.05:\n",
    "    print('No hay evidencia para rechazar la hipotesis nula.')\n",
    "else:\n",
    "    print('Rechazamos la hipotesis nula. Data no sigue una distriibucion uniforme.')"
   ]
  },
  {
   "attachments": {},
   "cell_type": "markdown",
   "metadata": {},
   "source": [
    "Finalizamos con 100000"
   ]
  },
  {
   "cell_type": "code",
   "execution_count": 624,
   "metadata": {},
   "outputs": [
    {
     "name": "stdout",
     "output_type": "stream",
     "text": [
      "No hay evidencia para rechazar la hipotesis nula.\n"
     ]
    }
   ],
   "source": [
    "data = []\n",
    "for i in range(100000):\n",
    "    data.append(generator.normalized_rand())\n",
    "\n",
    "p_value = kstest(data, 'uniform', args=(0, 1)).pvalue\n",
    "\n",
    "if p_value > 0.05:\n",
    "    print('No hay evidencia para rechazar la hipotesis nula.')\n",
    "else:\n",
    "    print('Rechazamos la hipotesis nula. Data no sigue una distriibucion uniforme.')"
   ]
  }
 ],
 "metadata": {
  "kernelspec": {
   "display_name": "Python 3.10.1 64-bit",
   "language": "python",
   "name": "python3"
  },
  "language_info": {
   "codemirror_mode": {
    "name": "ipython",
    "version": 3
   },
   "file_extension": ".py",
   "mimetype": "text/x-python",
   "name": "python",
   "nbconvert_exporter": "python",
   "pygments_lexer": "ipython3",
   "version": "3.10.6"
  },
  "orig_nbformat": 4,
  "vscode": {
   "interpreter": {
    "hash": "aee8b7b246df8f9039afb4144a1f6fd8d2ca17a180786b69acc140d282b71a49"
   }
  }
 },
 "nbformat": 4,
 "nbformat_minor": 2
}
