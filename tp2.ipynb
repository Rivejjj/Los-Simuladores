{
 "cells": [
  {
   "attachments": {},
   "cell_type": "markdown",
   "metadata": {},
   "source": [
    "# TP 2"
   ]
  },
  {
   "attachments": {},
   "cell_type": "markdown",
   "metadata": {},
   "source": [
    "#### Grupo 4: Aschieri Juan Pablo, Civini Diego Emanuel, Rivero Joaquin, Rovira Rossel Francisco"
   ]
  },
  {
   "cell_type": "code",
   "execution_count": 1,
   "metadata": {},
   "outputs": [],
   "source": [
    "from math import e, log\n",
    "import time\n",
    "from heapq import heappush, heappop\n",
    "from scipy.stats import poisson\n",
    "import matplotlib.pyplot as plt\n",
    "import itertools\n",
    "import simpy\n",
    "import numpy as np\n",
    "import random"
   ]
  },
  {
   "attachments": {},
   "cell_type": "markdown",
   "metadata": {},
   "source": [
    "## Generador de numeros aleatorio del TP1"
   ]
  },
  {
   "cell_type": "code",
   "execution_count": 2,
   "metadata": {},
   "outputs": [],
   "source": [
    "class Xorshift_generator:\n",
    "    def __init__(self, seed):\n",
    "        self.x = seed\n",
    "        self.y = 463820370\n",
    "        self.z = 138409373\n",
    "        self.w = 12872349\n",
    "\n",
    "    def rand(self):\n",
    "        tmp = ( self.x^ (self.x <<13) ) \n",
    "        self.x = self.y\n",
    "        self.y = self.z\n",
    "        self.z = self.w\n",
    "        self.w = (self.w^(self.w>>17) ) ^ (tmp^(tmp>>5))\n",
    "        return self.w & 0xffffffff\n",
    "    \n",
    "    def get_n_rand(self, n):\n",
    "        rand_numbers = []\n",
    "        for i in range(n):\n",
    "            rand_numbers.append(self.rand())\n",
    "        return rand_numbers"
   ]
  },
  {
   "cell_type": "code",
   "execution_count": 3,
   "metadata": {},
   "outputs": [],
   "source": [
    "class Uniform_generator:\n",
    "    def __init__(self, seed, scale= 1, displacement= 0):\n",
    "        self.xorshift_genertor = Xorshift_generator(seed)\n",
    "        self.scale = scale\n",
    "        self.displacement = displacement\n",
    "\n",
    "    def rand(self):\n",
    "        n = self.xorshift_genertor.rand() / ((2**32)-1)\n",
    "        return n * self.scale + self.displacement\n",
    "    \n",
    "    def get_n_rand(self, n):\n",
    "        rand_numbers = []\n",
    "        for i in range(n):\n",
    "            rand_numbers.append(self.rand())\n",
    "        return rand_numbers"
   ]
  },
  {
   "cell_type": "code",
   "execution_count": 4,
   "metadata": {},
   "outputs": [],
   "source": [
    "class Exp_generator:\n",
    "    def __init__(self, seed, parameter=1):\n",
    "        self.parameter = parameter\n",
    "        self.Uniform_generator = Uniform_generator(seed)\n",
    "\n",
    "    def rand(self):\n",
    "        r = self.Uniform_generator.rand()\n",
    "        if self.parameter >=1:\n",
    "            return log(r/self.parameter) / (-1*self.parameter)\n",
    "        else: \n",
    "            return -log(1 - r) / self.parameter\n",
    "    def get_n_rand(self, n):\n",
    "        rand_numbers = []\n",
    "        for i in range(n):\n",
    "            rand_numbers.append(self.rand())\n",
    "        return rand_numbers"
   ]
  },
  {
   "attachments": {},
   "cell_type": "markdown",
   "metadata": {},
   "source": [
    "descubri que los primeros dos numeros del generador son muy distintos y despues se acomoda. lo de abajo hay que borrarlo  \n",
    "tambien sospecho que por lo general da media menor que 6 mas seguido que mayor que 6, creo que tienee sentido pero mmm"
   ]
  },
  {
   "cell_type": "code",
   "execution_count": 5,
   "metadata": {},
   "outputs": [
    {
     "name": "stdout",
     "output_type": "stream",
     "text": [
      "[3.504788939003993, 1.7258507096834286, 7.117583727427725, 1.5433172581168282, 1.483911122592676, 0.9175417377630345, 2.2062845322167526, 20.6337894541323, 0.8623936432203342, 10.593153533191224, 5.614411270705044, 16.640110798757917, 8.31421999763669, 8.205812805635862, 6.0801217035839965, 4.992849306847895, 9.944015554848878, 2.5125481489447536, 5.672433001995217, 3.4163338597357527, 1.5673388545253544, 2.367873016497016, 14.650176799979866, 0.29232552606245593, 3.1248535415157965, 3.5147659943982377, 0.6705407863578663, 0.13361437290429184, 22.607528440409226, 22.571887428266923, 1.5417452433797478, 27.22271388390859, 5.687276844584723, 2.9874184622485065, 0.12806278104658764, 3.7466406945992667, 0.43516545221583036, 4.107453869880446, 5.169892912498217, 1.83375553382523, 7.775414057245466, 12.86049059189229, 7.146815814427936, 7.19070236766742, 2.673227061806028, 1.564985356200001, 4.016504882829473, 2.4101817589070076, 6.702162344004594, 1.8095684066524949, 7.084322434949964, 22.213954826658647, 18.759195920221632, 4.3117930360929035, 12.052654538793458, 0.9785652820883696, 0.6039217398896303, 0.41135449862652007, 1.512201645317809, 1.0067285764323675, 5.358302761049728, 1.5240580445907812, 2.773174325067577, 5.978892830317012, 3.27672441734506, 2.531102463530911, 0.3682572211825872, 3.4133197080873, 2.5769870824127357, 17.75641085581804, 1.3939595199744965, 2.8423820487374236, 6.190959771211543, 11.886284538397957, 0.49426923509280485, 9.643919838423749, 3.2564907876537315, 6.060244535292779, 4.918298976610373, 0.2151879771557451, 1.2173425436803476, 1.181714057419605, 5.818136666886909, 19.935085214487092, 10.567459655717506, 0.630037476054329, 5.2893311570319845, 2.7586639782337516, 8.175651780184824, 5.647043214679889, 3.2539857824756075, 10.20544975081535, 9.655368344523039, 14.896187471759987, 0.33442375171126676, 2.522195685965533, 9.104661227169471, 3.1184171570799606, 3.425688741832606, 1.215004259320443]\n",
      "5.8083832154083055\n"
     ]
    }
   ],
   "source": [
    "seed = int(time.time())\n",
    "\n",
    "exp_generator = Exp_generator(seed, 1/6)\n",
    "\n",
    "b = exp_generator.rand()\n",
    "b = exp_generator.rand()\n",
    "a = []\n",
    "\n",
    "for i in range(100):\n",
    "    n = exp_generator.rand()\n",
    "    a.append(n)\n",
    "    if n < 0:\n",
    "        print(n)\n",
    "\n",
    "print(a)\n",
    "print(sum(a)/len(a))"
   ]
  },
  {
   "attachments": {},
   "cell_type": "markdown",
   "metadata": {},
   "source": [
    "## Ejercicio 1"
   ]
  },
  {
   "cell_type": "code",
   "execution_count": 6,
   "metadata": {},
   "outputs": [],
   "source": [
    "def factorial(n):\n",
    "    resultado = 1\n",
    "    for i in range(1, n + 1):\n",
    "        resultado *= i\n",
    "    return resultado\n",
    "\n",
    "def poisson_probability(parameter, i, previous_probability):\n",
    "    if previous_probability == 0:\n",
    "        return poisson.pmf(i, parameter)\n",
    "    return (parameter/i)*previous_probability\n",
    "\n",
    "class Poisson_generator:\n",
    "    def __init__(self, seed, parameter):\n",
    "        self.parameter = parameter\n",
    "        self.Uniform_generator = Uniform_generator(seed)\n",
    "\n",
    "    def rand(self):\n",
    "        r = self.Uniform_generator.rand()\n",
    "\n",
    "        accumulated_probability = poisson_probability(self.parameter, 0, 0)\n",
    "        previous_probability = accumulated_probability\n",
    "        i = 0\n",
    "\n",
    "        while(accumulated_probability < r):\n",
    "            i += 1\n",
    "            previous_probability = poisson_probability(self.parameter, i, previous_probability)\n",
    "            accumulated_probability += previous_probability\n",
    "\n",
    "        return i\n",
    "    \n",
    "    def get_n_rand(self, n):\n",
    "        rand_numbers = []\n",
    "        for i in range(n):\n",
    "            rand_numbers.append(self.rand())\n",
    "        return rand_numbers"
   ]
  },
  {
   "attachments": {},
   "cell_type": "markdown",
   "metadata": {},
   "source": [
    "Asumimos que el satélite da la vuelta al mundo en 24 horas y que llegan un promedio de 10 solicitudes de imagenes por dia (como el tiempo entre solicitudes de imágenes se modelan como tiempos exponenciales de parámetro 10, el proceso de poisson obtenido tiene media 10)"
   ]
  },
  {
   "cell_type": "code",
   "execution_count": 7,
   "metadata": {},
   "outputs": [],
   "source": [
    "def simulate_satelite_request_queue_length(time_step, iterations, request_per_unit_time, satelite_period):\n",
    "    generator_amount_of_request = Poisson_generator(int(time.time()) * 8647359734, request_per_unit_time*time_step)\n",
    "    generator_time_to_serve = Uniform_generator(int(time.time()) * 345678976, satelite_period)\n",
    "    simulated_queue = []\n",
    "    observed_queue_length = {}\n",
    "\n",
    "    for _ in range(iterations):\n",
    "        advance_time(simulated_queue, time_step)\n",
    "        get_acumulated_requests(generator_amount_of_request, simulated_queue, generator_time_to_serve)    \n",
    "        observed_queue_length[len(simulated_queue)] = observed_queue_length.get(len(simulated_queue), 0) + 1\n",
    "\n",
    "    return get_frequencies(observed_queue_length, iterations)"
   ]
  },
  {
   "cell_type": "code",
   "execution_count": 8,
   "metadata": {},
   "outputs": [],
   "source": [
    "def advance_time(simulated_queue, time_step):\n",
    "    for i in range(len(simulated_queue)):\n",
    "        simulated_queue[i] -= time_step\n",
    "\n",
    "    while (len(simulated_queue) != 0 and simulated_queue[0] <= 0):\n",
    "        item = heappop(simulated_queue)\n",
    "        #print(f'Se elimino una request de tiempo: {item}')\n",
    "\n",
    "def get_acumulated_requests(generator_amount_of_request, simulated_queue, generator_time_to_serve):\n",
    "    amount_of_requests = generator_amount_of_request.rand()\n",
    "    for request in range(amount_of_requests):\n",
    "        #por ahora asumimos que el time to serve es uniforme, porque se hacen requests uniformemente alrededor del mundo\n",
    "        heappush(simulated_queue, generator_time_to_serve.rand())\n",
    "\n",
    "def get_frequencies(observed_queue_length, iterations):\n",
    "    #print(f'Entro a get_frequencies con dicc = {observed_queue_length}')\n",
    "    observed_frequencies = []\n",
    "    #print(f'El maximo es: {max(observed_queue_length.keys())}')\n",
    "    for j in range(max(observed_queue_length.keys()) + 1):\n",
    "        times_observed = observed_queue_length.get(j, 0)\n",
    "        #print(f'Para {j} se observo {times_observed}')\n",
    "        observed_frequencies.append(times_observed/iterations)\n",
    "    return observed_frequencies"
   ]
  },
  {
   "cell_type": "code",
   "execution_count": 9,
   "metadata": {},
   "outputs": [],
   "source": [
    "l = simulate_satelite_request_queue_length(0.5, 100000, 5/12, 48)"
   ]
  },
  {
   "cell_type": "code",
   "execution_count": 10,
   "metadata": {},
   "outputs": [
    {
     "data": {
      "text/plain": [
       "24"
      ]
     },
     "execution_count": 10,
     "metadata": {},
     "output_type": "execute_result"
    }
   ],
   "source": [
    "len(l)"
   ]
  },
  {
   "cell_type": "code",
   "execution_count": 11,
   "metadata": {},
   "outputs": [],
   "source": [
    "#l[10]"
   ]
  },
  {
   "cell_type": "code",
   "execution_count": 12,
   "metadata": {},
   "outputs": [],
   "source": [
    "aux = 0\n",
    "for i in l:\n",
    "    aux += i"
   ]
  },
  {
   "cell_type": "code",
   "execution_count": 13,
   "metadata": {},
   "outputs": [
    {
     "data": {
      "text/plain": [
       "1.0000000000000002"
      ]
     },
     "execution_count": 13,
     "metadata": {},
     "output_type": "execute_result"
    }
   ],
   "source": [
    "aux"
   ]
  },
  {
   "cell_type": "code",
   "execution_count": 14,
   "metadata": {},
   "outputs": [
    {
     "data": {
      "image/png": "[encoded data removed]",
      "text/plain": [
       "<Figure size 640x480 with 1 Axes>"
      ]
     },
     "metadata": {},
     "output_type": "display_data"
    }
   ],
   "source": [
    "x_axis = list(range(len(l)))\n",
    "y_axis = l\n",
    "plt.plot(x_axis, y_axis)\n",
    "plt.show()"
   ]
  },
  {
   "attachments": {},
   "cell_type": "markdown",
   "metadata": {},
   "source": [
    "## Ejercicio 2"
   ]
  },
  {
   "cell_type": "code",
   "execution_count": 15,
   "metadata": {},
   "outputs": [],
   "source": [
    "BUFFER_SIZE = 100\n",
    "SIM_TIME = 100"
   ]
  },
  {
   "attachments": {},
   "cell_type": "markdown",
   "metadata": {},
   "source": [
    "De esta manera cada maquina es un proceso y desp hay otro proceso que se encarga de llenar las lista con requests para que cada maquina vaya desencolando \n",
    "y procesando requests"
   ]
  },
  {
   "cell_type": "code",
   "execution_count": 16,
   "metadata": {},
   "outputs": [],
   "source": [
    "class Machine:\n",
    "    def __init__(self,id):\n",
    "        self.working_time = 0\n",
    "        self.requests_taken = 0\n",
    "        self.id = id\n",
    "    \n",
    "    def process_request(self, request):\n",
    "        self.requests_taken += 1\n",
    "        self.working_time += request\n"
   ]
  },
  {
   "cell_type": "code",
   "execution_count": 42,
   "metadata": {},
   "outputs": [],
   "source": [
    "class Request:\n",
    "    def __init__(self, arrival_time):\n",
    "        self.arrival_time = arrival_time\n",
    "        self.time_at_buffer = 0\n",
    "        \n",
    "    \n"
   ]
  },
  {
   "cell_type": "code",
   "execution_count": 65,
   "metadata": {},
   "outputs": [],
   "source": [
    "\"\"\"\n",
    "Con esta implementacion, las maquinas chequean que haya requests en la cola cada 1 seg. Osea, que si la cola estaa vacia, la maquina cada 1 seg va a \n",
    "chequear si llego un nuevo mensaje. Ver con los chicos si estan de acuerdo con esto (o tamb preguntar al de la practica). Porque otro caso que CREO que se puede\n",
    "hacer es que apenas llegue un request, la maquina ya sepa y lo empieze a procesar all instante.\n",
    "Tambien ver que onda el arrribo de mensajes, estan llegando cada mucho tiempo y los procesa re rapido entonces la cola siempre esta vacia\n",
    "\"\"\"\n",
    "def request_generator(env, requests_center, requests_buffer, seed):\n",
    "    \"\"\"Las solicitudes llegan siguiendo un proceso Poisson con una frecuencia media de 10\n",
    "    por minuto. Por ende el tiempo entre 2 solicitudes consecutivas seguira una distribucion\n",
    "    Exponencial de paremtro 10.\"\"\"\n",
    "    #exponential_gen = Exp_generator(seed, 1/6) # We turn the 10 minutes into seconds TO-DO: VER QUUE CON NUESTRO GEN ME DA NUMERO NEGATIVOS\n",
    "    #exponential_gen.rand()\n",
    "    #exponential_gen.rand() \n",
    "    \n",
    "    print(\"Requests start to arrive\")\n",
    "    for i in itertools.count():\n",
    "        #time_for_next_request = exponential_gen.rand()\n",
    "        time_for_next_request = np.random.exponential(6) # El parametro en esta lib tiene que ser b=1/lambda\n",
    "        \n",
    "        print(f\"The next request will arrive in {time_for_next_request}, we are at {env.now}\")\n",
    "        yield env.timeout(time_for_next_request)\n",
    "        with requests_center.request() as req:\n",
    "            yield req\n",
    "            if requests_buffer.level == BUFFER_SIZE:\n",
    "                print(f\"The buffer is full and cannot accept more requests. This requests has been dropped at time {env.now}\")\n",
    "            else:\n",
    "                print(f\"A request arrived and was buffered at time {env.now}\")\n",
    "                yield requests_buffer.put(1)\n",
    "    print(\"Requests will stop to arrive\")\n"
   ]
  },
  {
   "cell_type": "code",
   "execution_count": 95,
   "metadata": {},
   "outputs": [],
   "source": [
    "def processing_machine(env, requests_center, requests_buffer, seed, machine):\n",
    "    #exponential_gen = Exp_generator(seed, 10) TO-DO: VER QUE CON NUESTRO GEN ME DA NUMERO NEGATIVOS\n",
    "    print(f\"The machine {machine.id} starts.\")\n",
    "    while True:\n",
    "        \n",
    "        time_to_process = 1\n",
    "        request_processed = False\n",
    "        print(f\"Machine {machine.id} will try to process a request at {env.now}\")\n",
    "        with requests_center.request() as req:\n",
    "            yield req\n",
    "            \n",
    "            if requests_buffer.level != 0:\n",
    "                print(f\"A request is starting to be processed by machine {machine.id} at {env.now}\")\n",
    "                yield requests_buffer.get(1)\n",
    "                print(f\"La cantidad de requests en el buffer es {requests_buffer.level}\")\n",
    "                #time_to_process = exponential_gen.rand()\n",
    "                time_to_process = np.random.exponential(10)\n",
    "                machine.process_request(time_to_process)\n",
    "                print(f\"Machine {machine.id} will finish at {time_to_process + env.now}\")\n",
    "                request_processed = True\n",
    "                \n",
    "        # If there are no requests to process in the buffer, the timeout is of 0 seconds.\n",
    "        yield env.timeout(time_to_process)\n",
    "        if request_processed:\n",
    "            \n",
    "            print(f\"Machine {machine.id} has finished processing the request at {env.now}\")"
   ]
  },
  {
   "cell_type": "code",
   "execution_count": 101,
   "metadata": {},
   "outputs": [],
   "source": [
    "def buffer_stats(env, buffer, amount):\n",
    "    while True:\n",
    "        amount.append(buffer.level)\n",
    "        yield env.timeout(1)"
   ]
  },
  {
   "attachments": {},
   "cell_type": "markdown",
   "metadata": {},
   "source": [
    "podemos usar nuestro generador, ronda cantidad de llegadas 11/12 en el primer minuto (empiricamente), varias veces se pasa y muy pocas veces de menos, el otro es mas uniforme, puede dar 8 o 13.  \n",
    "voy a dejar el otro por ahora"
   ]
  },
  {
   "cell_type": "code",
   "execution_count": 102,
   "metadata": {},
   "outputs": [
    {
     "name": "stdout",
     "output_type": "stream",
     "text": [
      "Requests start to arrive\n",
      "The next request will arrive in 39.3161420619077, we are at 0\n",
      "The machine 1 starts.\n",
      "Machine 1 will try to process a request at 0\n",
      "Machine 1 will try to process a request at 1\n",
      "Machine 1 will try to process a request at 2\n",
      "Machine 1 will try to process a request at 3\n",
      "Machine 1 will try to process a request at 4\n",
      "Machine 1 will try to process a request at 5\n",
      "Machine 1 will try to process a request at 6\n",
      "Machine 1 will try to process a request at 7\n",
      "Machine 1 will try to process a request at 8\n",
      "Machine 1 will try to process a request at 9\n",
      "Machine 1 will try to process a request at 10\n",
      "Machine 1 will try to process a request at 11\n",
      "Machine 1 will try to process a request at 12\n",
      "Machine 1 will try to process a request at 13\n",
      "Machine 1 will try to process a request at 14\n",
      "Machine 1 will try to process a request at 15\n",
      "Machine 1 will try to process a request at 16\n",
      "Machine 1 will try to process a request at 17\n",
      "Machine 1 will try to process a request at 18\n",
      "Machine 1 will try to process a request at 19\n",
      "Machine 1 will try to process a request at 20\n",
      "Machine 1 will try to process a request at 21\n",
      "Machine 1 will try to process a request at 22\n",
      "Machine 1 will try to process a request at 23\n",
      "Machine 1 will try to process a request at 24\n",
      "Machine 1 will try to process a request at 25\n",
      "Machine 1 will try to process a request at 26\n",
      "Machine 1 will try to process a request at 27\n",
      "Machine 1 will try to process a request at 28\n",
      "Machine 1 will try to process a request at 29\n",
      "Machine 1 will try to process a request at 30\n",
      "Machine 1 will try to process a request at 31\n",
      "Machine 1 will try to process a request at 32\n",
      "Machine 1 will try to process a request at 33\n",
      "Machine 1 will try to process a request at 34\n",
      "Machine 1 will try to process a request at 35\n",
      "Machine 1 will try to process a request at 36\n",
      "Machine 1 will try to process a request at 37\n",
      "Machine 1 will try to process a request at 38\n",
      "Machine 1 will try to process a request at 39\n",
      "A request arrived and was buffered at time 39.3161420619077\n",
      "The next request will arrive in 0.4601168623603515, we are at 39.3161420619077\n",
      "A request arrived and was buffered at time 39.77625892426805\n",
      "The next request will arrive in 10.675148676517752, we are at 39.77625892426805\n",
      "Machine 1 will try to process a request at 40\n",
      "A request is starting to be processed by machine 1 at 40\n",
      "La cantidad de requests en el buffer es 1\n",
      "Machine 1 will finish at 49.53113340468663\n",
      "Machine 1 has finished processing the request at 49.53113340468663\n",
      "Machine 1 will try to process a request at 49.53113340468663\n",
      "A request is starting to be processed by machine 1 at 49.53113340468663\n",
      "La cantidad de requests en el buffer es 0\n",
      "Machine 1 will finish at 64.73973988136522\n",
      "A request arrived and was buffered at time 50.4514076007858\n",
      "The next request will arrive in 5.583566033832033, we are at 50.4514076007858\n",
      "A request arrived and was buffered at time 56.034973634617835\n",
      "The next request will arrive in 4.039737478331372, we are at 56.034973634617835\n",
      "A request arrived and was buffered at time 60.07471111294921\n",
      "The next request will arrive in 0.05187353162647974, we are at 60.07471111294921\n",
      "A request arrived and was buffered at time 60.126584644575686\n",
      "The next request will arrive in 3.5979267134638317, we are at 60.126584644575686\n",
      "A request arrived and was buffered at time 63.72451135803952\n",
      "The next request will arrive in 23.40566957303785, we are at 63.72451135803952\n",
      "Machine 1 has finished processing the request at 64.73973988136522\n",
      "Machine 1 will try to process a request at 64.73973988136522\n",
      "A request is starting to be processed by machine 1 at 64.73973988136522\n",
      "La cantidad de requests en el buffer es 4\n",
      "Machine 1 will finish at 89.87935806096756\n",
      "A request arrived and was buffered at time 87.13018093107738\n",
      "The next request will arrive in 6.937843997522055, we are at 87.13018093107738\n",
      "Machine 1 has finished processing the request at 89.87935806096756\n",
      "Machine 1 will try to process a request at 89.87935806096756\n",
      "A request is starting to be processed by machine 1 at 89.87935806096756\n",
      "La cantidad de requests en el buffer es 4\n",
      "Machine 1 will finish at 97.87855535817882\n",
      "A request arrived and was buffered at time 94.06802492859943\n",
      "The next request will arrive in 3.229054095460162, we are at 94.06802492859943\n",
      "A request arrived and was buffered at time 97.29707902405958\n",
      "The next request will arrive in 9.911163969185976, we are at 97.29707902405958\n",
      "Machine 1 has finished processing the request at 97.87855535817882\n",
      "Machine 1 will try to process a request at 97.87855535817882\n",
      "A request is starting to be processed by machine 1 at 97.87855535817882\n",
      "La cantidad de requests en el buffer es 5\n",
      "Machine 1 will finish at 105.63978920966888\n"
     ]
    }
   ],
   "source": [
    "env = simpy.Environment()\n",
    "init = env.now\n",
    "requests_center = simpy.Resource(env, 1)\n",
    "requests_buffer = simpy.Container(env, BUFFER_SIZE, init=0)\n",
    "env.process(request_generator(env, requests_center, requests_buffer, int(time.time())))\n",
    "\n",
    "amount = []\n",
    "machine_1 = Machine(1)\n",
    "machine_2 = Machine(2)\n",
    "env.process(buffer_stats(env, requests_buffer, amount))\n",
    "env.process(processing_machine(env, requests_center, requests_buffer, int(time.time()), machine_1))\n",
    "#env.process(processing_machine(env, requests_center, requests_buffer, int(time.time()), machine_2,amount))\n",
    "\n",
    "env.run(until=SIM_TIME)\n",
    "\n",
    "end = env.now"
   ]
  },
  {
   "attachments": {},
   "cell_type": "markdown",
   "metadata": {},
   "source": [
    "Ocupation factor con una maquina"
   ]
  },
  {
   "cell_type": "code",
   "execution_count": 78,
   "metadata": {},
   "outputs": [
    {
     "name": "stdout",
     "output_type": "stream",
     "text": [
      "ocupation_factor: 0.9772456526187071\n"
     ]
    }
   ],
   "source": [
    "program_time = end - init\n",
    "ocupation_factor = machine_1.working_time/program_time\n",
    "print(f\"ocupation_factor: {ocupation_factor}\")"
   ]
  },
  {
   "attachments": {},
   "cell_type": "markdown",
   "metadata": {},
   "source": [
    "Ocupation factor con dos maquinas"
   ]
  },
  {
   "cell_type": "code",
   "execution_count": 79,
   "metadata": {},
   "outputs": [
    {
     "name": "stdout",
     "output_type": "stream",
     "text": [
      "ocupation_factor: 0.48862282630935355\n"
     ]
    }
   ],
   "source": [
    "ocupation_factor = (machine_1.working_time + machine_2.working_time)/(program_time*2)\n",
    "print(f\"ocupation_factor: {ocupation_factor}\")"
   ]
  },
  {
   "attachments": {},
   "cell_type": "markdown",
   "metadata": {},
   "source": [
    "Cantidad media de elementos en el buffer: a cada segundo mido la cantidad de elementos en el buffer, luego divido la suma por la cantidad total de mediciones"
   ]
  },
  {
   "cell_type": "code",
   "execution_count": 105,
   "metadata": {},
   "outputs": [
    {
     "name": "stdout",
     "output_type": "stream",
     "text": [
      "cantidad media de elementos en el buffer: 1.89\n"
     ]
    }
   ],
   "source": [
    "cant = 0\n",
    "for i in amount:\n",
    "    cant += i\n",
    "\n",
    "cant = cant/len(amount)\n",
    "print(f\"cantidad media de elementos en el buffer: {cant}\")  "
   ]
  },
  {
   "attachments": {},
   "cell_type": "markdown",
   "metadata": {},
   "source": [
    "## EJERCICIO 3"
   ]
  },
  {
   "cell_type": "code",
   "execution_count": 23,
   "metadata": {},
   "outputs": [
    {
     "ename": "NameError",
     "evalue": "name 'gas_station_control' is not defined",
     "output_type": "error",
     "traceback": [
      "\u001b[1;31m---------------------------------------------------------------------------\u001b[0m",
      "\u001b[1;31mNameError\u001b[0m                                 Traceback (most recent call last)",
      "\u001b[1;32mc:\\Users\\Joaquin\\Desktop\\simulacion\\Los-Simuladores\\tp2.ipynb Cell 35\u001b[0m in \u001b[0;36m6\n\u001b[0;32m      <a href='vscode-notebook-cell:/c%3A/Users/Joaquin/Desktop/simulacion/Los-Simuladores/tp2.ipynb#X46sZmlsZQ%3D%3D?line=2'>3</a>\u001b[0m env \u001b[39m=\u001b[39m simpy\u001b[39m.\u001b[39mEnvironment()\n\u001b[0;32m      <a href='vscode-notebook-cell:/c%3A/Users/Joaquin/Desktop/simulacion/Los-Simuladores/tp2.ipynb#X46sZmlsZQ%3D%3D?line=3'>4</a>\u001b[0m processing_center \u001b[39m=\u001b[39m simpy\u001b[39m.\u001b[39mResource(env, \u001b[39m2\u001b[39m)\n\u001b[1;32m----> <a href='vscode-notebook-cell:/c%3A/Users/Joaquin/Desktop/simulacion/Los-Simuladores/tp2.ipynb#X46sZmlsZQ%3D%3D?line=5'>6</a>\u001b[0m env\u001b[39m.\u001b[39mprocess(gas_station_control(env, fuel_pump))\n\u001b[0;32m      <a href='vscode-notebook-cell:/c%3A/Users/Joaquin/Desktop/simulacion/Los-Simuladores/tp2.ipynb#X46sZmlsZQ%3D%3D?line=6'>7</a>\u001b[0m env\u001b[39m.\u001b[39mprocess(car_generator(env, gas_station, fuel_pump))\n",
      "\u001b[1;31mNameError\u001b[0m: name 'gas_station_control' is not defined"
     ]
    }
   ],
   "source": [
    "random.seed(22)\n",
    "\n",
    "env = simpy.Environment()\n",
    "processing_center = simpy.Resource(env, 2)\n",
    "\n",
    "env.process(gas_station_control(env, fuel_pump))\n",
    "env.process(car_generator(env, gas_station, fuel_pump))"
   ]
  },
  {
   "cell_type": "code",
   "execution_count": 48,
   "metadata": {},
   "outputs": [
    {
     "ename": "TypeError",
     "evalue": "'<=' not supported between instances of 'Person' and 'int'",
     "output_type": "error",
     "traceback": [
      "\u001b[1;31m---------------------------------------------------------------------------\u001b[0m",
      "\u001b[1;31mTypeError\u001b[0m                                 Traceback (most recent call last)",
      "\u001b[1;32mc:\\Users\\Joaquin\\Desktop\\simulacion\\Los-Simuladores\\tp2.ipynb Cell 36\u001b[0m in \u001b[0;36m1\n\u001b[0;32m     <a href='vscode-notebook-cell:/c%3A/Users/Joaquin/Desktop/simulacion/Los-Simuladores/tp2.ipynb#X50sZmlsZQ%3D%3D?line=15'>16</a>\u001b[0m person2 \u001b[39m=\u001b[39m Person(\u001b[39m\"\u001b[39m\u001b[39mBob\u001b[39m\u001b[39m\"\u001b[39m, \u001b[39m30\u001b[39m)\n\u001b[0;32m     <a href='vscode-notebook-cell:/c%3A/Users/Joaquin/Desktop/simulacion/Los-Simuladores/tp2.ipynb#X50sZmlsZQ%3D%3D?line=17'>18</a>\u001b[0m \u001b[39m# Store instances in the container\u001b[39;00m\n\u001b[1;32m---> <a href='vscode-notebook-cell:/c%3A/Users/Joaquin/Desktop/simulacion/Los-Simuladores/tp2.ipynb#X50sZmlsZQ%3D%3D?line=18'>19</a>\u001b[0m people_container\u001b[39m.\u001b[39;49mput(person1)\n\u001b[0;32m     <a href='vscode-notebook-cell:/c%3A/Users/Joaquin/Desktop/simulacion/Los-Simuladores/tp2.ipynb#X50sZmlsZQ%3D%3D?line=19'>20</a>\u001b[0m people_container\u001b[39m.\u001b[39mput(person2)\n\u001b[0;32m     <a href='vscode-notebook-cell:/c%3A/Users/Joaquin/Desktop/simulacion/Los-Simuladores/tp2.ipynb#X50sZmlsZQ%3D%3D?line=21'>22</a>\u001b[0m \u001b[39m# Retrieve instances from the container\u001b[39;00m\n",
      "File \u001b[1;32mc:\\Program Files\\python\\lib\\site-packages\\simpy\\resources\\container.py:28\u001b[0m, in \u001b[0;36mContainerPut.__init__\u001b[1;34m(self, container, amount)\u001b[0m\n\u001b[0;32m     27\u001b[0m \u001b[39mdef\u001b[39;00m \u001b[39m__init__\u001b[39m(\u001b[39mself\u001b[39m, container: \u001b[39m'\u001b[39m\u001b[39mContainer\u001b[39m\u001b[39m'\u001b[39m, amount: ContainerAmount):\n\u001b[1;32m---> 28\u001b[0m     \u001b[39mif\u001b[39;00m amount \u001b[39m<\u001b[39;49m\u001b[39m=\u001b[39;49m \u001b[39m0\u001b[39;49m:\n\u001b[0;32m     29\u001b[0m         \u001b[39mraise\u001b[39;00m \u001b[39mValueError\u001b[39;00m(\u001b[39mf\u001b[39m\u001b[39m'\u001b[39m\u001b[39mamount(=\u001b[39m\u001b[39m{\u001b[39;00mamount\u001b[39m}\u001b[39;00m\u001b[39m) must be > 0.\u001b[39m\u001b[39m'\u001b[39m)\n\u001b[0;32m     30\u001b[0m     \u001b[39mself\u001b[39m\u001b[39m.\u001b[39mamount \u001b[39m=\u001b[39m amount\n",
      "\u001b[1;31mTypeError\u001b[0m: '<=' not supported between instances of 'Person' and 'int'"
     ]
    }
   ],
   "source": [
    "import simpy\n",
    "\n",
    "class Person:\n",
    "    def __init__(self, name, age):\n",
    "        self.name = name\n",
    "        self.age = age\n",
    "\n",
    "# Create a SimPy environment\n",
    "env = simpy.Environment()\n",
    "\n",
    "# Create a container\n",
    "people_container = simpy.Container(env, init=0)\n",
    "\n",
    "# Create instances of the class\n",
    "person1 = Person(\"Alice\", 25)\n",
    "person2 = Person(\"Bob\", 30)\n",
    "\n",
    "# Store instances in the container\n",
    "people_container.put(person1)\n",
    "people_container.put(person2)\n",
    "\n",
    "# Retrieve instances from the container\n",
    "while people_container.level > 0:\n",
    "    person = people_container.get()\n",
    "    print(person.name)\n",
    "\n",
    "# Output: \"Alice\" followed by \"Bob\""
   ]
  }
 ],
 "metadata": {
  "kernelspec": {
   "display_name": "Python 3",
   "language": "python",
   "name": "python3"
  },
  "language_info": {
   "codemirror_mode": {
    "name": "ipython",
    "version": 3
   },
   "file_extension": ".py",
   "mimetype": "text/x-python",
   "name": "python",
   "nbconvert_exporter": "python",
   "pygments_lexer": "ipython3",
   "version": "3.9.0"
  },
  "orig_nbformat": 4
 },
 "nbformat": 4,
 "nbformat_minor": 2
}
