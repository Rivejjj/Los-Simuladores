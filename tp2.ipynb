{
 "cells": [
  {
   "attachments": {},
   "cell_type": "markdown",
   "metadata": {},
   "source": [
    "# TP 2"
   ]
  },
  {
   "attachments": {},
   "cell_type": "markdown",
   "metadata": {},
   "source": [
    "#### Grupo 4: Aschieri Juan Pablo, Civini Diego Emanuel, Rivero Joaquin, Rovira Rossel Francisco"
   ]
  },
  {
   "cell_type": "code",
   "execution_count": 1,
   "metadata": {},
   "outputs": [],
   "source": [
    "from math import e, log\n",
    "import time\n",
    "from heapq import heappush, heappop\n",
    "from scipy.stats import poisson\n",
    "import matplotlib.pyplot as plt\n",
    "import itertools\n",
    "import simpy\n",
    "import numpy as np\n",
    "import random"
   ]
  },
  {
   "attachments": {},
   "cell_type": "markdown",
   "metadata": {},
   "source": [
    "## Generador de numeros aleatorio del TP1"
   ]
  },
  {
   "cell_type": "code",
   "execution_count": 2,
   "metadata": {},
   "outputs": [],
   "source": [
    "class Xorshift_generator:\n",
    "    def __init__(self, seed):\n",
    "        self.x = seed\n",
    "        self.y = 463820370\n",
    "        self.z = 138409373\n",
    "        self.w = 12872349\n",
    "\n",
    "    def rand(self):\n",
    "        tmp = ( self.x^ (self.x <<13) ) \n",
    "        self.x = self.y\n",
    "        self.y = self.z\n",
    "        self.z = self.w\n",
    "        self.w = (self.w^(self.w>>17) ) ^ (tmp^(tmp>>5))\n",
    "        return self.w & 0xffffffff\n",
    "    \n",
    "    def get_n_rand(self, n):\n",
    "        rand_numbers = []\n",
    "        for i in range(n):\n",
    "            rand_numbers.append(self.rand())\n",
    "        return rand_numbers"
   ]
  },
  {
   "cell_type": "code",
   "execution_count": 3,
   "metadata": {},
   "outputs": [],
   "source": [
    "class Uniform_generator:\n",
    "    def __init__(self, seed, scale= 1, displacement= 0):\n",
    "        self.xorshift_genertor = Xorshift_generator(seed)\n",
    "        self.scale = scale\n",
    "        self.displacement = displacement\n",
    "\n",
    "    def rand(self):\n",
    "        n = self.xorshift_genertor.rand() / ((2**32)-1)\n",
    "        return n * self.scale + self.displacement\n",
    "    \n",
    "    def get_n_rand(self, n):\n",
    "        rand_numbers = []\n",
    "        for i in range(n):\n",
    "            rand_numbers.append(self.rand())\n",
    "        return rand_numbers"
   ]
  },
  {
   "cell_type": "code",
   "execution_count": 4,
   "metadata": {},
   "outputs": [],
   "source": [
    "class Exp_generator:\n",
    "    def __init__(self, seed, parameter=1):\n",
    "        self.parameter = parameter\n",
    "        self.Uniform_generator = Uniform_generator(seed)\n",
    "\n",
    "    def rand(self):\n",
    "        r = self.Uniform_generator.rand()\n",
    "        if self.parameter >=1:\n",
    "            return log(r/self.parameter) / (-1*self.parameter)\n",
    "        else: \n",
    "            return -log(1 - r) / self.parameter\n",
    "    def get_n_rand(self, n):\n",
    "        rand_numbers = []\n",
    "        for i in range(n):\n",
    "            rand_numbers.append(self.rand())\n",
    "        return rand_numbers"
   ]
  },
  {
   "attachments": {},
   "cell_type": "markdown",
   "metadata": {},
   "source": [
    "descubri que los primeros dos numeros del generador son muy distintos y despues se acomoda. lo de abajo hay que borrarlo  \n",
    "tambien sospecho que por lo general da media menor que 6 mas seguido que mayor que 6, creo que tienee sentido pero mmm"
   ]
  },
  {
   "cell_type": "code",
   "execution_count": 5,
   "metadata": {},
   "outputs": [
    {
     "name": "stdout",
     "output_type": "stream",
     "text": [
      "[3.4720628652967243, 1.6879000603819974, 4.82246052729987, 1.5784547786597023, 0.10960737429223617, 0.9492177722185041, 2.3698000337308662, 6.378662860759437, 0.7729936511654957, 10.710347432151561, 1.081614652476111, 11.446425474816301, 12.321550123620643, 8.875088624930424, 3.3746145074360787, 2.6902295470858935, 1.7400245017411162, 2.6575026388629213, 20.39090035752178, 6.652474598419391, 2.6199348870544394, 2.6169785579793605, 1.5654863564673183, 2.1263822351066928, 14.589585853447922, 10.070548058256897, 0.0748044357462746, 6.854171227732949, 0.9370651178894047, 2.354980259935771, 2.9565107237619226, 10.696737471488985, 7.700288919786854, 5.118871847494161, 6.235992086980878, 9.768337890950768, 2.629784453941872, 5.641278969881679, 4.4215978437683345, 5.374900018584821, 1.239223189508303, 0.719968847802321, 3.5316464859545507, 7.972031778346464, 6.740134921764759, 3.5275554098338398, 1.0382184929667695, 10.668870520671707, 1.8795544097380552, 0.8101111834130762, 5.9948545836790705, 1.5163278923947439, 10.494073400632711, 4.587653894492117, 10.39232960699039, 1.5982249469067513, 0.06808840231446946, 11.921233437791011, 8.271460543571079, 2.1023998447053205, 3.476521460461048, 4.528518119360581, 6.4073340819285125, 9.33002639653665, 6.815057395429376, 3.049729746330658, 13.110111750337731, 0.9688509001867786, 1.7633456453105323, 3.736010117445753, 4.720128060597674, 8.897944600444767, 8.761837363051942, 11.858326679342845, 0.37194785487089055, 2.5886018766747445, 5.737099569342087, 9.590574073690588, 4.384020206587405, 9.2267522542432, 9.345485092662122, 3.426460925024258, 4.392572145228305, 2.6483878476340057, 8.522567737288442, 0.12408066477107366, 1.931809396686635, 1.1126496532376056, 0.05463538287416419, 1.3746182240974123, 1.0771404611882691, 0.48686386888950794, 5.085066159593491, 1.2123890631903254, 33.68916271224831, 9.087276036293506, 2.3626885707566117, 0.8338276075392187, 3.2840866924659147, 9.436516703912055]\n",
      "5.2232115449035685\n"
     ]
    }
   ],
   "source": [
    "seed = int(time.time())\n",
    "\n",
    "exp_generator = Exp_generator(seed, 1/6)\n",
    "\n",
    "b = exp_generator.rand()\n",
    "b = exp_generator.rand()\n",
    "a = []\n",
    "\n",
    "for i in range(100):\n",
    "    n = exp_generator.rand()\n",
    "    a.append(n)\n",
    "    if n < 0:\n",
    "        print(n)\n",
    "\n",
    "print(a)\n",
    "print(sum(a)/len(a))"
   ]
  },
  {
   "attachments": {},
   "cell_type": "markdown",
   "metadata": {},
   "source": [
    "## Ejercicio 1"
   ]
  },
  {
   "cell_type": "code",
   "execution_count": 6,
   "metadata": {},
   "outputs": [],
   "source": [
    "def factorial(n):\n",
    "    resultado = 1\n",
    "    for i in range(1, n + 1):\n",
    "        resultado *= i\n",
    "    return resultado\n",
    "\n",
    "def poisson_probability(parameter, i, previous_probability):\n",
    "    if previous_probability == 0:\n",
    "        return poisson.pmf(i, parameter)\n",
    "    return (parameter/i)*previous_probability\n",
    "\n",
    "class Poisson_generator:\n",
    "    def __init__(self, seed, parameter):\n",
    "        self.parameter = parameter\n",
    "        self.Uniform_generator = Uniform_generator(seed)\n",
    "\n",
    "    def rand(self):\n",
    "        r = self.Uniform_generator.rand()\n",
    "\n",
    "        accumulated_probability = poisson_probability(self.parameter, 0, 0)\n",
    "        previous_probability = accumulated_probability\n",
    "        i = 0\n",
    "\n",
    "        while(accumulated_probability < r):\n",
    "            i += 1\n",
    "            previous_probability = poisson_probability(self.parameter, i, previous_probability)\n",
    "            accumulated_probability += previous_probability\n",
    "\n",
    "        return i\n",
    "    \n",
    "    def get_n_rand(self, n):\n",
    "        rand_numbers = []\n",
    "        for i in range(n):\n",
    "            rand_numbers.append(self.rand())\n",
    "        return rand_numbers"
   ]
  },
  {
   "attachments": {},
   "cell_type": "markdown",
   "metadata": {},
   "source": [
    "Asumimos que el satélite da la vuelta al mundo en 24 horas y que llegan un promedio de 10 solicitudes de imagenes por dia (como el tiempo entre solicitudes de imágenes se modelan como tiempos exponenciales de parámetro 10, el proceso de poisson obtenido tiene media 10)"
   ]
  },
  {
   "cell_type": "code",
   "execution_count": 7,
   "metadata": {},
   "outputs": [],
   "source": [
    "def simulate_satelite_request_queue_length(time_step, iterations, request_per_unit_time, satelite_period):\n",
    "    generator_amount_of_request = Poisson_generator(int(time.time()) * 8647359734, request_per_unit_time*time_step)\n",
    "    generator_time_to_serve = Uniform_generator(int(time.time()) * 345678976, satelite_period)\n",
    "    simulated_queue = []\n",
    "    observed_queue_length = {}\n",
    "\n",
    "    for _ in range(iterations):\n",
    "        advance_time(simulated_queue, time_step)\n",
    "        get_acumulated_requests(generator_amount_of_request, simulated_queue, generator_time_to_serve)    \n",
    "        observed_queue_length[len(simulated_queue)] = observed_queue_length.get(len(simulated_queue), 0) + 1\n",
    "\n",
    "    return get_frequencies(observed_queue_length, iterations)"
   ]
  },
  {
   "cell_type": "code",
   "execution_count": 8,
   "metadata": {},
   "outputs": [],
   "source": [
    "def advance_time(simulated_queue, time_step):\n",
    "    for i in range(len(simulated_queue)):\n",
    "        simulated_queue[i] -= time_step\n",
    "\n",
    "    while (len(simulated_queue) != 0 and simulated_queue[0] <= 0):\n",
    "        item = heappop(simulated_queue)\n",
    "        #print(f'Se elimino una request de tiempo: {item}')\n",
    "\n",
    "def get_acumulated_requests(generator_amount_of_request, simulated_queue, generator_time_to_serve):\n",
    "    amount_of_requests = generator_amount_of_request.rand()\n",
    "    for request in range(amount_of_requests):\n",
    "        #por ahora asumimos que el time to serve es uniforme, porque se hacen requests uniformemente alrededor del mundo\n",
    "        heappush(simulated_queue, generator_time_to_serve.rand())\n",
    "\n",
    "def get_frequencies(observed_queue_length, iterations):\n",
    "    #print(f'Entro a get_frequencies con dicc = {observed_queue_length}')\n",
    "    observed_frequencies = []\n",
    "    #print(f'El maximo es: {max(observed_queue_length.keys())}')\n",
    "    for j in range(max(observed_queue_length.keys()) + 1):\n",
    "        times_observed = observed_queue_length.get(j, 0)\n",
    "        #print(f'Para {j} se observo {times_observed}')\n",
    "        observed_frequencies.append(times_observed/iterations)\n",
    "    return observed_frequencies"
   ]
  },
  {
   "cell_type": "code",
   "execution_count": 9,
   "metadata": {},
   "outputs": [],
   "source": [
    "l = simulate_satelite_request_queue_length(0.5, 100000, 5/12, 48)"
   ]
  },
  {
   "cell_type": "code",
   "execution_count": 10,
   "metadata": {},
   "outputs": [
    {
     "data": {
      "text/plain": [
       "25"
      ]
     },
     "execution_count": 10,
     "metadata": {},
     "output_type": "execute_result"
    }
   ],
   "source": [
    "len(l)"
   ]
  },
  {
   "cell_type": "code",
   "execution_count": 11,
   "metadata": {},
   "outputs": [],
   "source": [
    "#l[10]"
   ]
  },
  {
   "cell_type": "code",
   "execution_count": 12,
   "metadata": {},
   "outputs": [],
   "source": [
    "aux = 0\n",
    "for i in l:\n",
    "    aux += i"
   ]
  },
  {
   "cell_type": "code",
   "execution_count": 13,
   "metadata": {},
   "outputs": [
    {
     "data": {
      "text/plain": [
       "1.0"
      ]
     },
     "execution_count": 13,
     "metadata": {},
     "output_type": "execute_result"
    }
   ],
   "source": [
    "aux"
   ]
  },
  {
   "cell_type": "code",
   "execution_count": 14,
   "metadata": {},
   "outputs": [
    {
     "data": {
      "image/png": "[encoded data removed]",
      "text/plain": [
       "<Figure size 640x480 with 1 Axes>"
      ]
     },
     "metadata": {},
     "output_type": "display_data"
    }
   ],
   "source": [
    "x_axis = list(range(len(l)))\n",
    "y_axis = l\n",
    "plt.plot(x_axis, y_axis)\n",
    "plt.show()"
   ]
  },
  {
   "attachments": {},
   "cell_type": "markdown",
   "metadata": {},
   "source": [
    "## Ejercicio 2"
   ]
  },
  {
   "cell_type": "code",
   "execution_count": 15,
   "metadata": {},
   "outputs": [],
   "source": [
    "BUFFER_SIZE = 100\n",
    "SIM_TIME = 100"
   ]
  },
  {
   "attachments": {},
   "cell_type": "markdown",
   "metadata": {},
   "source": [
    "De esta manera cada maquina es un proceso y desp hay otro proceso que se encarga de llenar las lista con requests para que cada maquina vaya desencolando \n",
    "y procesando requests"
   ]
  },
  {
   "cell_type": "code",
   "execution_count": 16,
   "metadata": {},
   "outputs": [],
   "source": [
    "class Machine:\n",
    "    def __init__(self,id):\n",
    "        self.working_time = 0\n",
    "        self.requests_taken = 0\n",
    "        self.id = id\n",
    "    \n",
    "    def process_request(self, request):\n",
    "        self.requests_taken += 1\n",
    "        self.working_time += request\n"
   ]
  },
  {
   "cell_type": "code",
   "execution_count": 17,
   "metadata": {},
   "outputs": [],
   "source": [
    "\"\"\"\n",
    "Con esta implementacion, las maquinas chequean que haya requests en la cola cada 1 seg. Osea, que si la cola estaa vacia, la maquina cada 1 seg va a \n",
    "chequear si llego un nuevo mensaje. Ver con los chicos si estan de acuerdo con esto (o tamb preguntar al de la practica). Porque otro caso que CREO que se puede\n",
    "hacer es que apenas llegue un request, la maquina ya sepa y lo empieze a procesar all instante.\n",
    "Tambien ver que onda el arrribo de mensajes, estan llegando cada mucho tiempo y los procesa re rapido entonces la cola siempre esta vacia\n",
    "\"\"\"\n",
    "def request_generator(env, requests_center, requests_buffer, seed):\n",
    "    \"\"\"Las solicitudes llegan siguiendo un proceso Poisson con una frecuencia media de 10\n",
    "    por minuto. Por ende el tiempo entre 2 solicitudes consecutivas seguira una distribucion\n",
    "    Exponencial de paremtro 10.\"\"\"\n",
    "    #exponential_gen = Exp_generator(seed, 1/6) # We turn the 10 minutes into seconds TO-DO: VER QUUE CON NUESTRO GEN ME DA NUMERO NEGATIVOS\n",
    "    #exponential_gen.rand()\n",
    "    #exponential_gen.rand() \n",
    "    \n",
    "    print(\"Requests start to arrive\")\n",
    "    for i in itertools.count():\n",
    "        #time_for_next_request = exponential_gen.rand()\n",
    "        time_for_next_request = np.random.exponential(6) # El parametro en esta lib tiene que ser b=1/lambda\n",
    "        \n",
    "        print(f\"The next request will arrive in {time_for_next_request}, we are at {env.now}\")\n",
    "        yield env.timeout(time_for_next_request)\n",
    "        with requests_center.request() as req:\n",
    "            yield req\n",
    "            if requests_buffer.level == BUFFER_SIZE:\n",
    "                print(f\"The buffer is full and cannot accept more requests. This requests has been dropped at time {env.now}\")\n",
    "            else:\n",
    "                print(f\"A request arrived and was buffered at time {env.now}\")\n",
    "                yield requests_buffer.put(1)\n",
    "    print(\"Requests will stop to arrive\")\n"
   ]
  },
  {
   "cell_type": "code",
   "execution_count": 27,
   "metadata": {},
   "outputs": [],
   "source": [
    "def processing_machine(env, requests_center, requests_buffer, seed, machine):\n",
    "    #exponential_gen = Exp_generator(seed, 10) TO-DO: VER QUUE CON NUESTRO GEN ME DA NUMERO NEGATIVOS\n",
    "    print(f\"The machine {machine.id} starts.\")\n",
    "    while True:\n",
    "        time_to_process = 1\n",
    "        request_processed = False\n",
    "        print(f\"The machine {machine.id} will try to process a request at {env.now}\")\n",
    "        with requests_center.request() as req:\n",
    "            yield req\n",
    "            if requests_buffer.level != 0:\n",
    "                print(f\"A request is starting to be processed by machine {machine.id} at {env.now}\")\n",
    "                yield requests_buffer.get(1)\n",
    "                print(f\"La cantidad de requests en el buffer es {requests_buffer.level}\")\n",
    "                #time_to_process = exponential_gen.rand()\n",
    "                time_to_process = np.random.exponential(10)\n",
    "                machine.process_request(time_to_process)\n",
    "                print(f\"Machine {machine.id} will finish at {time_to_process + env.now}\")\n",
    "                request_processed = True\n",
    "        # If there are no requests to process in the buffer, the timeout is of 0 seconds.\n",
    "        yield env.timeout(time_to_process)\n",
    "        if request_processed:\n",
    "            print(f\"Machine {machine.id} has finished processing the request at {env.now}\")"
   ]
  },
  {
   "attachments": {},
   "cell_type": "markdown",
   "metadata": {},
   "source": [
    "podemos usar nuestro generador, ronda cantidad de llegadas 11/12 en el primer minuto (empiricamente), varias veces se pasa y muy pocas veces de menos, el otro es mas uniforme, puede dar 8 o 13.  \n",
    "voy a dejar el otro por ahora"
   ]
  },
  {
   "cell_type": "code",
   "execution_count": 28,
   "metadata": {},
   "outputs": [
    {
     "name": "stdout",
     "output_type": "stream",
     "text": [
      "Requests start to arrive\n",
      "The next request will arrive in 3.968039262571052, we are at 0\n",
      "The machine 1 starts.\n",
      "The machine 1 will try to process a request at 0\n",
      "The machine 2 starts.\n",
      "The machine 2 will try to process a request at 0\n",
      "The machine 1 will try to process a request at 1\n",
      "The machine 2 will try to process a request at 1\n",
      "The machine 1 will try to process a request at 2\n",
      "The machine 2 will try to process a request at 2\n",
      "The machine 1 will try to process a request at 3\n",
      "The machine 2 will try to process a request at 3\n",
      "A request arrived and was buffered at time 3.968039262571052\n",
      "The next request will arrive in 4.172168787994131, we are at 3.968039262571052\n",
      "The machine 1 will try to process a request at 4\n",
      "The machine 2 will try to process a request at 4\n",
      "A request is starting to be processed by machine 1 at 4\n",
      "La cantidad de requests en el buffer es 0\n",
      "Machine 1 will finish at 6.176059365009514\n",
      "The machine 2 will try to process a request at 5\n",
      "The machine 2 will try to process a request at 6\n",
      "Machine 1 has finished processing the request at 6.176059365009514\n",
      "The machine 1 will try to process a request at 6.176059365009514\n",
      "The machine 2 will try to process a request at 7\n",
      "The machine 1 will try to process a request at 7.176059365009514\n",
      "The machine 2 will try to process a request at 8\n",
      "A request arrived and was buffered at time 8.140208050565183\n",
      "The next request will arrive in 7.527563098425896, we are at 8.140208050565183\n",
      "The machine 1 will try to process a request at 8.176059365009515\n",
      "A request is starting to be processed by machine 1 at 8.176059365009515\n",
      "La cantidad de requests en el buffer es 0\n",
      "Machine 1 will finish at 25.503651581893713\n",
      "The machine 2 will try to process a request at 9\n",
      "The machine 2 will try to process a request at 10\n",
      "The machine 2 will try to process a request at 11\n",
      "The machine 2 will try to process a request at 12\n",
      "The machine 2 will try to process a request at 13\n",
      "The machine 2 will try to process a request at 14\n",
      "The machine 2 will try to process a request at 15\n",
      "A request arrived and was buffered at time 15.66777114899108\n",
      "The next request will arrive in 1.0358912945218732, we are at 15.66777114899108\n",
      "The machine 2 will try to process a request at 16\n",
      "A request is starting to be processed by machine 2 at 16\n",
      "La cantidad de requests en el buffer es 0\n",
      "Machine 2 will finish at 23.023639828778588\n",
      "A request arrived and was buffered at time 16.703662443512954\n",
      "The next request will arrive in 0.4980355559832216, we are at 16.703662443512954\n",
      "A request arrived and was buffered at time 17.201697999496176\n",
      "The next request will arrive in 9.738125901225917, we are at 17.201697999496176\n",
      "Machine 2 has finished processing the request at 23.023639828778588\n",
      "The machine 2 will try to process a request at 23.023639828778588\n",
      "A request is starting to be processed by machine 2 at 23.023639828778588\n",
      "La cantidad de requests en el buffer es 1\n",
      "Machine 2 will finish at 38.96311537189274\n",
      "Machine 1 has finished processing the request at 25.503651581893713\n",
      "The machine 1 will try to process a request at 25.503651581893713\n",
      "A request is starting to be processed by machine 1 at 25.503651581893713\n",
      "La cantidad de requests en el buffer es 0\n",
      "Machine 1 will finish at 50.62079890985686\n",
      "A request arrived and was buffered at time 26.939823900722093\n",
      "The next request will arrive in 4.196722095514618, we are at 26.939823900722093\n",
      "A request arrived and was buffered at time 31.136545996236713\n",
      "The next request will arrive in 2.520328038899183, we are at 31.136545996236713\n",
      "A request arrived and was buffered at time 33.65687403513589\n",
      "The next request will arrive in 3.840247575317962, we are at 33.65687403513589\n",
      "A request arrived and was buffered at time 37.49712161045385\n",
      "The next request will arrive in 0.5174937465185574, we are at 37.49712161045385\n",
      "A request arrived and was buffered at time 38.01461535697241\n",
      "The next request will arrive in 1.171359193351794, we are at 38.01461535697241\n",
      "Machine 2 has finished processing the request at 38.96311537189274\n",
      "The machine 2 will try to process a request at 38.96311537189274\n",
      "A request is starting to be processed by machine 2 at 38.96311537189274\n",
      "La cantidad de requests en el buffer es 4\n",
      "Machine 2 will finish at 67.74567193283414\n",
      "A request arrived and was buffered at time 39.185974550324204\n",
      "The next request will arrive in 8.274109931389422, we are at 39.185974550324204\n",
      "A request arrived and was buffered at time 47.46008448171362\n",
      "The next request will arrive in 0.5166305811903451, we are at 47.46008448171362\n",
      "A request arrived and was buffered at time 47.97671506290397\n",
      "The next request will arrive in 3.7361130982803408, we are at 47.97671506290397\n",
      "Machine 1 has finished processing the request at 50.62079890985686\n",
      "The machine 1 will try to process a request at 50.62079890985686\n",
      "A request is starting to be processed by machine 1 at 50.62079890985686\n",
      "La cantidad de requests en el buffer es 6\n",
      "Machine 1 will finish at 64.47717203181571\n",
      "A request arrived and was buffered at time 51.71282816118431\n",
      "The next request will arrive in 3.9185915119096633, we are at 51.71282816118431\n",
      "A request arrived and was buffered at time 55.63141967309397\n",
      "The next request will arrive in 10.825472537154834, we are at 55.63141967309397\n",
      "Machine 1 has finished processing the request at 64.47717203181571\n",
      "The machine 1 will try to process a request at 64.47717203181571\n",
      "A request is starting to be processed by machine 1 at 64.47717203181571\n",
      "La cantidad de requests en el buffer es 7\n",
      "Machine 1 will finish at 67.17669543822521\n",
      "A request arrived and was buffered at time 66.45689221024881\n",
      "The next request will arrive in 12.212882836308253, we are at 66.45689221024881\n",
      "Machine 1 has finished processing the request at 67.17669543822521\n",
      "The machine 1 will try to process a request at 67.17669543822521\n",
      "A request is starting to be processed by machine 1 at 67.17669543822521\n",
      "La cantidad de requests en el buffer es 7\n",
      "Machine 1 will finish at 112.65781225060611\n",
      "Machine 2 has finished processing the request at 67.74567193283414\n",
      "The machine 2 will try to process a request at 67.74567193283414\n",
      "A request is starting to be processed by machine 2 at 67.74567193283414\n",
      "La cantidad de requests en el buffer es 6\n",
      "Machine 2 will finish at 74.83835574678812\n",
      "Machine 2 has finished processing the request at 74.83835574678812\n",
      "The machine 2 will try to process a request at 74.83835574678812\n",
      "A request is starting to be processed by machine 2 at 74.83835574678812\n",
      "La cantidad de requests en el buffer es 5\n",
      "Machine 2 will finish at 77.21849638188208\n",
      "Machine 2 has finished processing the request at 77.21849638188208\n",
      "The machine 2 will try to process a request at 77.21849638188208\n",
      "A request is starting to be processed by machine 2 at 77.21849638188208\n",
      "La cantidad de requests en el buffer es 4\n",
      "Machine 2 will finish at 86.18257771522936\n",
      "A request arrived and was buffered at time 78.66977504655706\n",
      "The next request will arrive in 31.20316161041076, we are at 78.66977504655706\n",
      "Machine 2 has finished processing the request at 86.18257771522936\n",
      "The machine 2 will try to process a request at 86.18257771522936\n",
      "A request is starting to be processed by machine 2 at 86.18257771522936\n",
      "La cantidad de requests en el buffer es 4\n",
      "Machine 2 will finish at 86.2172730458004\n",
      "Machine 2 has finished processing the request at 86.2172730458004\n",
      "The machine 2 will try to process a request at 86.2172730458004\n",
      "A request is starting to be processed by machine 2 at 86.2172730458004\n",
      "La cantidad de requests en el buffer es 3\n",
      "Machine 2 will finish at 87.58090899190694\n",
      "Machine 2 has finished processing the request at 87.58090899190694\n",
      "The machine 2 will try to process a request at 87.58090899190694\n",
      "A request is starting to be processed by machine 2 at 87.58090899190694\n",
      "La cantidad de requests en el buffer es 2\n",
      "Machine 2 will finish at 91.41764422150374\n",
      "Machine 2 has finished processing the request at 91.41764422150374\n",
      "The machine 2 will try to process a request at 91.41764422150374\n",
      "A request is starting to be processed by machine 2 at 91.41764422150374\n",
      "La cantidad de requests en el buffer es 1\n",
      "Machine 2 will finish at 93.27898564727043\n",
      "Machine 2 has finished processing the request at 93.27898564727043\n",
      "The machine 2 will try to process a request at 93.27898564727043\n",
      "A request is starting to be processed by machine 2 at 93.27898564727043\n",
      "La cantidad de requests en el buffer es 0\n",
      "Machine 2 will finish at 107.81498540209375\n"
     ]
    }
   ],
   "source": [
    "env = simpy.Environment()\n",
    "init = env.now\n",
    "requests_center = simpy.Resource(env, 1)\n",
    "requests_buffer = simpy.Container(env, BUFFER_SIZE, init=0)\n",
    "env.process(request_generator(env, requests_center, requests_buffer, int(time.time())))\n",
    "\n",
    "machine_1 = Machine(1)\n",
    "env.process(processing_machine(env, requests_center, requests_buffer, int(time.time()), machine_1))\n",
    "machine_2 = Machine(2)\n",
    "env.process(processing_machine(env, requests_center, requests_buffer, int(time.time()), machine_2))\n",
    "\n",
    "env.run(until=SIM_TIME)\n",
    "\n",
    "end = env.now"
   ]
  },
  {
   "attachments": {},
   "cell_type": "markdown",
   "metadata": {},
   "source": [
    "Ocupation factor con una maquina"
   ]
  },
  {
   "cell_type": "code",
   "execution_count": 21,
   "metadata": {},
   "outputs": [
    {
     "name": "stdout",
     "output_type": "stream",
     "text": [
      "ocupation_factor: 0.8715926275638256\n"
     ]
    }
   ],
   "source": [
    "program_time = end - init\n",
    "ocupation_factor = machine_1.working_time/program_time\n",
    "print(f\"ocupation_factor: {ocupation_factor}\")"
   ]
  },
  {
   "attachments": {},
   "cell_type": "markdown",
   "metadata": {},
   "source": [
    "Ocupation factor con dos maquinas"
   ]
  },
  {
   "cell_type": "code",
   "execution_count": 25,
   "metadata": {},
   "outputs": [
    {
     "name": "stdout",
     "output_type": "stream",
     "text": [
      "ocupation_factor: 0.6581637259790537\n"
     ]
    }
   ],
   "source": [
    "ocupation_factor = (machine_1.working_time + machine_2.working_time)/(program_time*2)\n",
    "print(f\"ocupation_factor: {ocupation_factor}\")"
   ]
  },
  {
   "cell_type": "code",
   "execution_count": null,
   "metadata": {},
   "outputs": [
    {
     "ename": "NameError",
     "evalue": "name 'gas_station_control' is not defined",
     "output_type": "error",
     "traceback": [
      "\u001b[1;31m---------------------------------------------------------------------------\u001b[0m",
      "\u001b[1;31mNameError\u001b[0m                                 Traceback (most recent call last)",
      "\u001b[1;32mc:\\Users\\Joaquin\\Desktop\\simulacion\\Los-Simuladores\\tp2.ipynb Cell 27\u001b[0m in \u001b[0;36m6\n\u001b[0;32m      <a href='vscode-notebook-cell:/c%3A/Users/Joaquin/Desktop/simulacion/Los-Simuladores/tp2.ipynb#X35sZmlsZQ%3D%3D?line=2'>3</a>\u001b[0m env \u001b[39m=\u001b[39m simpy\u001b[39m.\u001b[39mEnvironment()\n\u001b[0;32m      <a href='vscode-notebook-cell:/c%3A/Users/Joaquin/Desktop/simulacion/Los-Simuladores/tp2.ipynb#X35sZmlsZQ%3D%3D?line=3'>4</a>\u001b[0m processing_center \u001b[39m=\u001b[39m simpy\u001b[39m.\u001b[39mResource(env, \u001b[39m2\u001b[39m)\n\u001b[1;32m----> <a href='vscode-notebook-cell:/c%3A/Users/Joaquin/Desktop/simulacion/Los-Simuladores/tp2.ipynb#X35sZmlsZQ%3D%3D?line=5'>6</a>\u001b[0m env\u001b[39m.\u001b[39mprocess(gas_station_control(env, fuel_pump))\n\u001b[0;32m      <a href='vscode-notebook-cell:/c%3A/Users/Joaquin/Desktop/simulacion/Los-Simuladores/tp2.ipynb#X35sZmlsZQ%3D%3D?line=6'>7</a>\u001b[0m env\u001b[39m.\u001b[39mprocess(car_generator(env, gas_station, fuel_pump))\n",
      "\u001b[1;31mNameError\u001b[0m: name 'gas_station_control' is not defined"
     ]
    }
   ],
   "source": [
    "random.seed(22)\n",
    "\n",
    "env = simpy.Environment()\n",
    "processing_center = simpy.Resource(env, 2)\n",
    "\n",
    "env.process(gas_station_control(env, fuel_pump))\n",
    "env.process(car_generator(env, gas_station, fuel_pump))"
   ]
  }
 ],
 "metadata": {
  "kernelspec": {
   "display_name": "Python 3",
   "language": "python",
   "name": "python3"
  },
  "language_info": {
   "codemirror_mode": {
    "name": "ipython",
    "version": 3
   },
   "file_extension": ".py",
   "mimetype": "text/x-python",
   "name": "python",
   "nbconvert_exporter": "python",
   "pygments_lexer": "ipython3",
   "version": "3.9.0"
  },
  "orig_nbformat": 4
 },
 "nbformat": 4,
 "nbformat_minor": 2
}
