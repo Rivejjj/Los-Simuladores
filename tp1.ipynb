{
 "cells": [
  {
   "cell_type": "markdown",
   "metadata": {},
   "source": [
    "# Simulacion - 75.26\n",
    "## TP1 - Xorshift RNGs\n",
    "### Grupo 4 \n",
    "### Integrantes: Joaquín Rivero, Juan Pablo Aschieri, Diego Civini, Francisco Rovira Rossel"
   ]
  },
  {
   "cell_type": "code",
   "execution_count": 147,
   "metadata": {},
   "outputs": [],
   "source": [
    "import matplotlib.pyplot as plt"
   ]
  },
  {
   "cell_type": "markdown",
   "metadata": {},
   "source": [
    "## Ejercicio 1"
   ]
  },
  {
   "cell_type": "markdown",
   "metadata": {},
   "source": [
    "Hacemos una clase `xorshift_generator` que dada una semilla devuelve un generador de numeros aleatorios de 32 bits realizando operaciones logicas de shifteo y xor. Los valores usados para la cantidad de shifteos fueron sacados del paper."
   ]
  },
  {
   "cell_type": "code",
   "execution_count": 148,
   "metadata": {},
   "outputs": [],
   "source": [
    "class xorshift_generator:\n",
    "    def __init__(self, seed):\n",
    "        self.x = seed\n",
    "        self.y = 463820370\n",
    "        self.z = 138409373\n",
    "        self.w = 12872349\n",
    "\n",
    "\n",
    "    def rand(self):\n",
    "        tmp = ( self.x^ (self.x <<13) ) \n",
    "        self.x = self.y\n",
    "        self.y = self.z\n",
    "        self.z = self.w\n",
    "        self.w = (self.w^(self.w>>17) ) ^ (tmp^(tmp>>5))\n",
    "        return self.w & 0xffffffff\n",
    "    \n",
    "    def normalized_rand(self):\n",
    "        return self.rand() / (2**32 -1)"
   ]
  },
  {
   "cell_type": "markdown",
   "metadata": {},
   "source": [
    "Obtenemos un generador con una semilla y obtenemos 100000 numeros para analizar los resultados."
   ]
  },
  {
   "cell_type": "code",
   "execution_count": 149,
   "metadata": {},
   "outputs": [],
   "source": [
    "generator = xorshift_generator(123456789)"
   ]
  },
  {
   "cell_type": "code",
   "execution_count": 150,
   "metadata": {},
   "outputs": [
    {
     "name": "stdout",
     "output_type": "stream",
     "text": [
      "[634047618, 827895943, 4188086042, 2971408131, 1743656811]\n"
     ]
    }
   ],
   "source": [
    "rand_numbers = []\n",
    "for i in range(100000):\n",
    "    rand_numbers.append(generator.rand())\n",
    "print(rand_numbers[:5])"
   ]
  },
  {
   "cell_type": "markdown",
   "metadata": {},
   "source": [
    "Graficamos los numeros en un histograma para obtener una representacion visual aproximada de su distribucion. Como buscamos numeros aleatorios entre 0 y 2^32 -1 deberia ser un grafico similar a una dist uniforme ente 0 y 2^32 -1"
   ]
  },
  {
   "cell_type": "code",
   "execution_count": 151,
   "metadata": {},
   "outputs": [
    {
     "data": {
      "image/png": "[encoded data removed]",
      "text/plain": [
       "<Figure size 640x480 with 1 Axes>"
      ]
     },
     "metadata": {},
     "output_type": "display_data"
    }
   ],
   "source": [
    "plt.hist(rand_numbers, bins = 100)\n",
    "plt.show()"
   ]
  },
  {
   "cell_type": "markdown",
   "metadata": {},
   "source": [
    "Si bien no es perfecto se puede ver como aproximadamente los distintos box tienen la misma cantidad de ocurrencias, haciendo que el grafico dado se paresca a una meseta, que es el grafico que deberia tener una uniforme."
   ]
  },
  {
   "cell_type": "markdown",
   "metadata": {},
   "source": [
    "Si queremos obtener numero aleatorios entre 0 y 1 utilizando el xorshift generator, basta con generar un numero aleatorio de la misma manera y luego normalizarlo. Para ello dividimos al numero por el mayor valor posible, 2^32 -1. De esta manera optenemos un numero aleatorio entre 0 y 1 con el metodo normalized_rand"
   ]
  },
  {
   "cell_type": "code",
   "execution_count": 152,
   "metadata": {},
   "outputs": [
    {
     "name": "stdout",
     "output_type": "stream",
     "text": [
      "[0.24394065706151088, 0.5719659192422325, 0.2779104933789723, 0.8770274484709435, 0.9444620914162282]\n"
     ]
    }
   ],
   "source": [
    "rand_numbers_normalized = []\n",
    "for i in range(100000):\n",
    "    rand_numbers_normalized.append(generator.normalized_rand())\n",
    "print(rand_numbers_normalized[:5])"
   ]
  },
  {
   "cell_type": "markdown",
   "metadata": {},
   "source": [
    "De la misma forma graficamos un histograma para ver si la distribucion de los numeros se asemeja a una distribucion uniforme entre 0 y 1."
   ]
  },
  {
   "cell_type": "code",
   "execution_count": 153,
   "metadata": {},
   "outputs": [
    {
     "data": {
      "image/png": "[encoded data removed]",
      "text/plain": [
       "<Figure size 640x480 with 1 Axes>"
      ]
     },
     "metadata": {},
     "output_type": "display_data"
    }
   ],
   "source": [
    "plt.hist(rand_numbers_normalized, bins = 100)\n",
    "plt.show()"
   ]
  },
  {
   "cell_type": "markdown",
   "metadata": {},
   "source": [
    "## Ejercicio 2"
   ]
  },
  {
   "cell_type": "markdown",
   "metadata": {},
   "source": [
    "enunciado"
   ]
  },
  {
   "cell_type": "markdown",
   "metadata": {},
   "source": [
    "### Test chi2\n"
   ]
  },
  {
   "attachments": {},
   "cell_type": "markdown",
   "metadata": {},
   "source": [
    "Si bien el test dela chi2 necesita que la dist sea discreta, nosotros tenes una distribucion continua, uniforme. Esto presenta un problema, sin se puede resolver facilmente. Para poder realizar este test, podemos discretizar la distribucion juntando valores de intervalos en bins. En este caso vamos a usar 100 bins."
   ]
  },
  {
   "attachments": {},
   "cell_type": "markdown",
   "metadata": {},
   "source": [
    "Este test nos permite saber con un nivel de significacion alfa (usaremos 0.05) si los valores que generamos NO tienen distribucion uniforme. Para ello tomamos como hipotesis nula que la distribucion es uniforme en el intervalo correspondiente. Si se rechaza la hipotesis entonces afirmaremos que no es uniforme. Sin embargo de no ser uniforme esto no nos permite decir que la distribucion es uniforme."
   ]
  },
  {
   "attachments": {},
   "cell_type": "markdown",
   "metadata": {},
   "source": [
    "Tomo como h0 que la dist es uniforme. Este test NO SIRVE para decir si una dist es uniforme. Sirve para decir, si se rechaza h0 puedo decir con un nivel de significacion alfa que la dist no es uniforme. Si no se rechaza H0 entonce NO ES QUE ES UNIFORME, si no que PUEDE ser uniforme."
   ]
  },
  {
   "cell_type": "code",
   "execution_count": 201,
   "metadata": {},
   "outputs": [],
   "source": [
    "from scipy.stats import chi2"
   ]
  },
  {
   "cell_type": "code",
   "execution_count": 202,
   "metadata": {},
   "outputs": [],
   "source": [
    "def get_frequency(rand_numbers, bins, max):\n",
    "    frequency = [0 for i in range(bins)]\n",
    "    bin_size = max/bins\n",
    "\n",
    "    for i in rand_numbers:\n",
    "        j = 0\n",
    "        seguir = True\n",
    "        while seguir:\n",
    "            if i < bin_size:\n",
    "                frequency[j] += 1\n",
    "                seguir = False\n",
    "            else:\n",
    "                j += 1\n",
    "                i -= bin_size\n",
    "\n",
    "    return frequency"
   ]
  },
  {
   "cell_type": "code",
   "execution_count": 203,
   "metadata": {},
   "outputs": [],
   "source": [
    "def test_chi2_for_uniform_distribution(rand_numbers, bins, max, significance_level):\n",
    "    frequency = get_frequency(rand_numbers, bins, max)\n",
    "\n",
    "    expected_frecuency = len(rand_numbers)/bins\n",
    "    aux = 0\n",
    "    for i in frequency:\n",
    "        aux += (i - expected_frecuency)**2\n",
    "    d2 = aux/expected_frecuency\n",
    "\n",
    "    upper_limit = chi2.ppf(1 - significance_level, df=bins-1)\n",
    "\n",
    "    print(f\"D2: {d2}\")\n",
    "    print(f\"Valor del cuantil de una Chi-cuadrado de (bins-1) grados de libertad: {upper_limit}\")\n",
    "    if d2 > upper_limit:\n",
    "        print(\"Hay suf evidencia para rechazar h0, es decir que podemos afirmar que la distribucion no es uniforme con un nivel de significacion de 0.05\")\n",
    "    else:\n",
    "        print(\"No hay suf evidencia para rechazar h0, es decir que la distribucion podria ser uniforme\")"
   ]
  },
  {
   "cell_type": "code",
   "execution_count": 204,
   "metadata": {},
   "outputs": [
    {
     "data": {
      "text/plain": [
       "42949672"
      ]
     },
     "execution_count": 204,
     "metadata": {},
     "output_type": "execute_result"
    }
   ],
   "source": [
    "int((2**32-1)/100)\n"
   ]
  },
  {
   "attachments": {},
   "cell_type": "markdown",
   "metadata": {},
   "source": [
    "Creamos un xorshift generator y le aplicamos el test de la chi2 para tanto el generador de numeros entre 0 y 2^32-1 y el de numeros entre 0 y 1, probando generar 1000, 10000 y 100000 numeros."
   ]
  },
  {
   "cell_type": "code",
   "execution_count": 205,
   "metadata": {},
   "outputs": [],
   "source": [
    "generator = xorshift_generator(565555555)"
   ]
  },
  {
   "attachments": {},
   "cell_type": "markdown",
   "metadata": {},
   "source": [
    "#### Pruebas para generador"
   ]
  },
  {
   "attachments": {},
   "cell_type": "markdown",
   "metadata": {},
   "source": [
    "Probamos el generador con una muestra de 100 numeros"
   ]
  },
  {
   "cell_type": "code",
   "execution_count": 206,
   "metadata": {},
   "outputs": [
    {
     "name": "stdout",
     "output_type": "stream",
     "text": [
      "D2: 64.0\n",
      "Valor del cuantil de una Chi-cuadrado de (bins-1) grados de libertad: 123.2252214533618\n",
      "No hay suf evidencia para rechazar h0, es decir que la distribucion podria ser uniforme\n"
     ]
    }
   ],
   "source": [
    "rand_numbers =[]\n",
    "for i in range(100):\n",
    "    rand_numbers.append(generator.rand())\n",
    "\n",
    "test_chi2_for_uniform_distribution(rand_numbers, 100, 2**32 - 1, 0.05)"
   ]
  },
  {
   "attachments": {},
   "cell_type": "markdown",
   "metadata": {},
   "source": [
    "Esto se debe a que no hay grandes diferencias entre los distintos bins. Como se muestra en el siguiente grafico."
   ]
  },
  {
   "cell_type": "code",
   "execution_count": 207,
   "metadata": {},
   "outputs": [
    {
     "data": {
      "image/png": "[encoded data removed]",
      "text/plain": [
       "<Figure size 640x480 with 1 Axes>"
      ]
     },
     "metadata": {},
     "output_type": "display_data"
    }
   ],
   "source": [
    "plt.hist(rand_numbers, bins = 100)\n",
    "plt.show()"
   ]
  },
  {
   "attachments": {},
   "cell_type": "markdown",
   "metadata": {},
   "source": [
    "Sin embargo esto depende enteramente de la suerte que tengamos al generar la muestra, yo que a pesar de que sea poco probable, se podria dar el caso de que los 100 numeros estan en el mismo bin. Por ejemplo en el siguiente caso"
   ]
  },
  {
   "cell_type": "code",
   "execution_count": 208,
   "metadata": {},
   "outputs": [
    {
     "name": "stdout",
     "output_type": "stream",
     "text": [
      "D2: 132.0\n",
      "Valor del cuantil de una Chi-cuadrado de (bins-1) grados de libertad: 123.2252214533618\n",
      "Hay suf evidencia para rechazar h0, es decir que podemos afirmar que la distribucion no es uniforme con un nivel de significacion de 0.05\n"
     ]
    }
   ],
   "source": [
    "#dejamos pasar 100 numeros de la semilla\n",
    "for i in range(300):\n",
    "    generator.rand()\n",
    "\n",
    "rand_numbers =[]\n",
    "for i in range(100):\n",
    "    rand_numbers.append(generator.rand())\n",
    "\n",
    "test_chi2_for_uniform_distribution(rand_numbers, 100, 2**32 - 1, 0.05)"
   ]
  },
  {
   "attachments": {},
   "cell_type": "markdown",
   "metadata": {},
   "source": [
    "En este caso vemos que se rechaza h0, es decir que podemos asegurar bajo un nivel de significancia 0.05 que la distribucion no es de tipo uniforme. Sin embargo esto se debe a que tuvimos \"mala suerte\" a la hora de obtener los numeros. Lo que se ve en el sigueinte grafico que contiene muchas mas irregularidades que el anterior"
   ]
  },
  {
   "cell_type": "code",
   "execution_count": 209,
   "metadata": {},
   "outputs": [
    {
     "data": {
      "image/png": "[encoded data removed]",
      "text/plain": [
       "<Figure size 640x480 with 1 Axes>"
      ]
     },
     "metadata": {},
     "output_type": "display_data"
    }
   ],
   "source": [
    "plt.hist(rand_numbers, bins = 100)\n",
    "plt.show()"
   ]
  },
  {
   "attachments": {},
   "cell_type": "markdown",
   "metadata": {},
   "source": [
    "Para evitar que nuestros resultados esten muy influenciados por la \"suerte\" que tengamos al obtener numeros, los generamos en magnitudes mas grandes, esto hara que sea mucho menos probable que el test de que se rechaza la hipotesis nula por \"mala suerte.\""
   ]
  },
  {
   "attachments": {},
   "cell_type": "markdown",
   "metadata": {},
   "source": [
    "Probamos el generador con una muestra de 10000 numeros"
   ]
  },
  {
   "cell_type": "code",
   "execution_count": 210,
   "metadata": {},
   "outputs": [
    {
     "name": "stdout",
     "output_type": "stream",
     "text": [
      "D2: 92.0\n",
      "Valor del cuantil de una Chi-cuadrado de (bins-1) grados de libertad: 123.2252214533618\n",
      "No hay suf evidencia para rechazar h0, es decir que la distribucion podria ser uniforme\n"
     ]
    }
   ],
   "source": [
    "rand_numbers =[]\n",
    "for i in range(10000):\n",
    "    rand_numbers.append(generator.rand())\n",
    "\n",
    "test_chi2_for_uniform_distribution(rand_numbers, 100, 2**32 - 1, 0.05)"
   ]
  },
  {
   "attachments": {},
   "cell_type": "markdown",
   "metadata": {},
   "source": [
    "Probamos el generador con una muestra de 10000 numeros"
   ]
  },
  {
   "cell_type": "code",
   "execution_count": 211,
   "metadata": {},
   "outputs": [
    {
     "name": "stdout",
     "output_type": "stream",
     "text": [
      "D2: 111.282\n",
      "Valor del cuantil de una Chi-cuadrado de (bins-1) grados de libertad: 123.2252214533618\n",
      "No hay suf evidencia para rechazar h0, es decir que la distribucion podria ser uniforme\n"
     ]
    }
   ],
   "source": [
    "rand_numbers = []\n",
    "for i in range(100000):\n",
    "    rand_numbers.append(generator.rand())\n",
    "test_chi2_for_uniform_distribution(rand_numbers, 100, 2**32 - 1, 0.05)"
   ]
  },
  {
   "attachments": {},
   "cell_type": "markdown",
   "metadata": {},
   "source": [
    "#### Pruebas para generador normalizado"
   ]
  },
  {
   "attachments": {},
   "cell_type": "markdown",
   "metadata": {},
   "source": [
    "A partir de aquí, se prueba el generador para numeros randoms entre 0 y 1, para 100, 10000 y 100000 numeros. Es muy similar a lo obtenido en el caso anterior ya que para generat numeros entre 0 y 1 se utiliza el generador testeado anteriormente."
   ]
  },
  {
   "cell_type": "code",
   "execution_count": 212,
   "metadata": {},
   "outputs": [
    {
     "name": "stdout",
     "output_type": "stream",
     "text": [
      "D2: 100.0\n",
      "Valor del cuantil de una Chi-cuadrado de (bins-1) grados de libertad: 123.2252214533618\n",
      "No hay suf evidencia para rechazar h0, es decir que la distribucion podria ser uniforme\n"
     ]
    }
   ],
   "source": [
    "rand_numbers = []\n",
    "for i in range(100):\n",
    "    rand_numbers.append(generator.normalized_rand())\n",
    "test_chi2_for_uniform_distribution(rand_numbers, 100, 1, 0.05)"
   ]
  },
  {
   "cell_type": "code",
   "execution_count": 213,
   "metadata": {},
   "outputs": [
    {
     "data": {
      "image/png": "[encoded data removed]",
      "text/plain": [
       "<Figure size 640x480 with 1 Axes>"
      ]
     },
     "metadata": {},
     "output_type": "display_data"
    }
   ],
   "source": [
    "plt.hist(rand_numbers, bins = 100)\n",
    "plt.show()"
   ]
  },
  {
   "attachments": {},
   "cell_type": "markdown",
   "metadata": {},
   "source": [
    "De la misma manera que en el generador anterior, al ser muy pocos los numeros que generamos nuestro test tiene altas chances de dar resultados diferentes segun que tanta \"suerte\" tengamos al generar los 100 numeros"
   ]
  },
  {
   "cell_type": "code",
   "execution_count": 214,
   "metadata": {},
   "outputs": [
    {
     "name": "stdout",
     "output_type": "stream",
     "text": [
      "D2: 130.0\n",
      "Valor del cuantil de una Chi-cuadrado de (bins-1) grados de libertad: 123.2252214533618\n",
      "Hay suf evidencia para rechazar h0, es decir que podemos afirmar que la distribucion no es uniforme con un nivel de significacion de 0.05\n"
     ]
    }
   ],
   "source": [
    "rand_numbers = []\n",
    "for i in range(100):\n",
    "    rand_numbers.append(generator.normalized_rand())\n",
    "test_chi2_for_uniform_distribution(rand_numbers, 100, 1, 0.05)"
   ]
  },
  {
   "cell_type": "code",
   "execution_count": 215,
   "metadata": {},
   "outputs": [
    {
     "data": {
      "image/png": "[encoded data removed]",
      "text/plain": [
       "<Figure size 640x480 with 1 Axes>"
      ]
     },
     "metadata": {},
     "output_type": "display_data"
    }
   ],
   "source": [
    "plt.hist(rand_numbers, bins = 100)\n",
    "plt.show()"
   ]
  },
  {
   "attachments": {},
   "cell_type": "markdown",
   "metadata": {},
   "source": [
    "Probamos el generador con una muestra de 10000 numeros"
   ]
  },
  {
   "cell_type": "code",
   "execution_count": 216,
   "metadata": {},
   "outputs": [
    {
     "name": "stdout",
     "output_type": "stream",
     "text": [
      "D2: 92.48\n",
      "Valor del cuantil de una Chi-cuadrado de (bins-1) grados de libertad: 123.2252214533618\n",
      "No hay suf evidencia para rechazar h0, es decir que la distribucion podria ser uniforme\n"
     ]
    }
   ],
   "source": [
    "rand_numbers = []\n",
    "for i in range(10000):\n",
    "    rand_numbers.append(generator.normalized_rand())\n",
    "test_chi2_for_uniform_distribution(rand_numbers, 100, 1, 0.05)"
   ]
  },
  {
   "attachments": {},
   "cell_type": "markdown",
   "metadata": {},
   "source": [
    "Probamos el generador con una muestra de 100000 numeros"
   ]
  },
  {
   "cell_type": "code",
   "execution_count": 217,
   "metadata": {},
   "outputs": [
    {
     "name": "stdout",
     "output_type": "stream",
     "text": [
      "D2: 80.902\n",
      "Valor del cuantil de una Chi-cuadrado de (bins-1) grados de libertad: 123.2252214533618\n",
      "No hay suf evidencia para rechazar h0, es decir que la distribucion podria ser uniforme\n"
     ]
    }
   ],
   "source": [
    "rand_numbers = []\n",
    "for i in range(100000):\n",
    "    rand_numbers.append(generator.normalized_rand())\n",
    "test_chi2_for_uniform_distribution(rand_numbers, 100, 1, 0.05)"
   ]
  },
  {
   "attachments": {},
   "cell_type": "markdown",
   "metadata": {},
   "source": [
    "### Test TCL"
   ]
  }
 ],
 "metadata": {
  "kernelspec": {
   "display_name": "Python 3.10.1 64-bit",
   "language": "python",
   "name": "python3"
  },
  "language_info": {
   "codemirror_mode": {
    "name": "ipython",
    "version": 3
   },
   "file_extension": ".py",
   "mimetype": "text/x-python",
   "name": "python",
   "nbconvert_exporter": "python",
   "pygments_lexer": "ipython3",
   "version": "3.10.6"
  },
  "orig_nbformat": 4,
  "vscode": {
   "interpreter": {
    "hash": "aee8b7b246df8f9039afb4144a1f6fd8d2ca17a180786b69acc140d282b71a49"
   }
  }
 },
 "nbformat": 4,
 "nbformat_minor": 2
}
