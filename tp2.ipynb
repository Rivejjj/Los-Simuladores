{
 "cells": [
  {
   "attachments": {},
   "cell_type": "markdown",
   "metadata": {},
   "source": [
    "# TP 2"
   ]
  },
  {
   "attachments": {},
   "cell_type": "markdown",
   "metadata": {},
   "source": [
    "#### Grupo 4: Aschieri Juan Pablo, Civini Diego Emanuel, Rivero Joaquin, Rovira Rossel Francisco"
   ]
  },
  {
   "cell_type": "code",
   "execution_count": 171,
   "metadata": {},
   "outputs": [],
   "source": [
    "from math import e, log\n",
    "import time\n",
    "from heapq import heappush, heappop\n",
    "from scipy.stats import poisson\n",
    "import matplotlib.pyplot as plt\n",
    "import itertools\n",
    "import simpy\n",
    "import numpy as np\n",
    "import random\n",
    "from statistics import mean"
   ]
  },
  {
   "attachments": {},
   "cell_type": "markdown",
   "metadata": {},
   "source": [
    "## Generador de numeros aleatorio del TP1"
   ]
  },
  {
   "cell_type": "code",
   "execution_count": 142,
   "metadata": {},
   "outputs": [],
   "source": [
    "class Xorshift_generator:\n",
    "    def __init__(self, seed):\n",
    "        self.x = seed\n",
    "        self.y = 463820370\n",
    "        self.z = 138409373\n",
    "        self.w = 12872349\n",
    "\n",
    "    def rand(self):\n",
    "        tmp = ( self.x^ (self.x <<13) ) \n",
    "        self.x = self.y\n",
    "        self.y = self.z\n",
    "        self.z = self.w\n",
    "        self.w = (self.w^(self.w>>17) ) ^ (tmp^(tmp>>5))\n",
    "        return self.w & 0xffffffff\n",
    "    \n",
    "    def get_n_rand(self, n):\n",
    "        rand_numbers = []\n",
    "        for i in range(n):\n",
    "            rand_numbers.append(self.rand())\n",
    "        return rand_numbers"
   ]
  },
  {
   "cell_type": "code",
   "execution_count": 143,
   "metadata": {},
   "outputs": [],
   "source": [
    "class Uniform_generator:\n",
    "    def __init__(self, seed, scale= 1, displacement= 0):\n",
    "        self.xorshift_genertor = Xorshift_generator(seed)\n",
    "        self.scale = scale\n",
    "        self.displacement = displacement\n",
    "\n",
    "    def rand(self):\n",
    "        n = self.xorshift_genertor.rand() / ((2**32)-1)\n",
    "        return n * self.scale + self.displacement\n",
    "    \n",
    "    def get_n_rand(self, n):\n",
    "        rand_numbers = []\n",
    "        for i in range(n):\n",
    "            rand_numbers.append(self.rand())\n",
    "        return rand_numbers"
   ]
  },
  {
   "cell_type": "code",
   "execution_count": 144,
   "metadata": {},
   "outputs": [],
   "source": [
    "class Exp_generator:\n",
    "    def __init__(self, seed, parameter=1):\n",
    "        self.parameter = parameter\n",
    "        self.Uniform_generator = Uniform_generator(seed)\n",
    "\n",
    "    def rand(self):\n",
    "        r = self.Uniform_generator.rand()\n",
    "        if self.parameter >=1:\n",
    "            return log(r/self.parameter) / (-1*self.parameter)\n",
    "        else: \n",
    "            return -log(1 - r) / self.parameter\n",
    "\n",
    "    def get_n_rand(self, n):\n",
    "        rand_numbers = []\n",
    "        for i in range(n):\n",
    "            rand_numbers.append(self.rand())\n",
    "        return rand_numbers"
   ]
  },
  {
   "attachments": {},
   "cell_type": "markdown",
   "metadata": {},
   "source": [
    "descubri que los primeros dos numeros del generador son muy distintos y despues se acomoda. lo de abajo hay que borrarlo  \n",
    "tambien sospecho que por lo general da media menor que 6 mas seguido que mayor que 6, creo que tienee sentido pero mmm"
   ]
  },
  {
   "cell_type": "code",
   "execution_count": 145,
   "metadata": {},
   "outputs": [
    {
     "name": "stdout",
     "output_type": "stream",
     "text": [
      "[0.4529455914998052, 2.676836078476345, 16.931406239723316, 2.5928427055844065, 3.8396765840682994, 1.9674026472238866, 3.1243274120090416, 3.6969424005494154, 2.9408806694326635, 7.574070005951264, 5.484340091548873, 3.345898188046458, 23.323926787821396, 8.515700636470296, 1.549858136120757, 4.861197133553371, 9.79892676165755, 3.6443400990095647, 8.229818874488204, 5.183044000922176, 5.837570942519065, 4.4995779038364985, 0.605100405180614, 10.42779347835347, 5.43133263582364, 4.215978243685426, 8.045923238722773, 4.4326229067041, 2.2627843673239334, 0.690454560358275, 0.9655684741059198, 3.1137927294762084, 3.200452864075284, 2.440227027595981, 0.5833390326656334, 2.2801787565786293, 0.16420203947744408, 2.530712091839689, 1.2319944159845069, 2.4204301662178054, 1.8878304157310841, 10.918794708781029, 1.540294098399468, 0.8440336548803655, 6.375936990033535, 2.6343689938566657, 1.9336158809823965, 1.944865983825561, 0.2281728601967421, 1.0675664629958679, 5.905074473088323, 0.16954836265829898, 2.791962319918095, 7.636311701854794, 11.96160475855299, 4.220525246415895, 1.5426574729450924, 5.260522085179732, 1.1260990774977453, 0.4778475379092066, 3.77970140319775, 1.393816495502756, 1.3128837796272592, 2.570004791745505, 9.17154421610102, 7.632012672363202, 2.1302684687837146, 5.404937936548517, 12.162887644501668, 3.7646473482413323, 5.03165312313884, 0.7685001749076622, 1.9049405639230217, 0.5982608610233946, 3.730490753771057, 2.7361976187210013, 2.419563815861553, 2.259041778538338, 5.289356689063643, 0.3778362274073313, 5.418137499244859, 12.3013543675074, 6.3069173828568985, 9.110633120877996, 2.9439525457652715, 11.638631260958224, 13.044465722919648, 1.3959409174607436, 11.451522746649863, 0.3746280006457181, 10.99088840325556, 7.476099464966969, 12.070613537721757, 0.6785493643541122, 0.6285050917531916, 0.04125814967880491, 4.379072631427412, 2.168683546722485, 9.695350237975472, 17.590188264246212]\n",
      "4.697259890303421\n"
     ]
    }
   ],
   "source": [
    "seed = int(time.time())\n",
    "\n",
    "exp_generator = Exp_generator(seed, 1/6)\n",
    "\n",
    "b = exp_generator.rand()\n",
    "b = exp_generator.rand()\n",
    "a = []\n",
    "\n",
    "for i in range(100):\n",
    "    n = exp_generator.rand()\n",
    "    a.append(n)\n",
    "    if n < 0:\n",
    "        print(n)\n",
    "\n",
    "print(a)\n",
    "print(sum(a)/len(a))"
   ]
  },
  {
   "attachments": {},
   "cell_type": "markdown",
   "metadata": {},
   "source": [
    "## Ejercicio 1"
   ]
  },
  {
   "attachments": {},
   "cell_type": "markdown",
   "metadata": {},
   "source": [
    "Definimos un generador de una distribucion de poisson porque lo utilizaremos mas adelante."
   ]
  },
  {
   "cell_type": "code",
   "execution_count": 146,
   "metadata": {},
   "outputs": [],
   "source": [
    "def factorial(n):\n",
    "    resultado = 1\n",
    "    for i in range(1, n + 1):\n",
    "        resultado *= i\n",
    "    return resultado\n",
    "\n",
    "def poisson_probability(parameter, i, previous_probability):\n",
    "    if previous_probability == 0:\n",
    "        return poisson.pmf(i, parameter)\n",
    "    return (parameter/i)*previous_probability\n",
    "\n",
    "class Poisson_generator:\n",
    "    def __init__(self, seed, parameter):\n",
    "        self.parameter = parameter\n",
    "        self.Uniform_generator = Uniform_generator(seed)\n",
    "\n",
    "    def rand(self):\n",
    "        r = self.Uniform_generator.rand()\n",
    "\n",
    "        accumulated_probability = poisson_probability(self.parameter, 0, 0)\n",
    "        previous_probability = accumulated_probability\n",
    "        i = 0\n",
    "\n",
    "        while(accumulated_probability < r):\n",
    "            i += 1\n",
    "            previous_probability = poisson_probability(self.parameter, i, previous_probability)\n",
    "            accumulated_probability += previous_probability\n",
    "\n",
    "        return i\n",
    "    \n",
    "    def get_n_rand(self, n):\n",
    "        rand_numbers = []\n",
    "        for i in range(n):\n",
    "            rand_numbers.append(self.rand())\n",
    "        return rand_numbers"
   ]
  },
  {
   "attachments": {},
   "cell_type": "markdown",
   "metadata": {},
   "source": [
    "Asumimos que el satélite da siempre la misma vuelta al mundo que tarda lo mismo, y que se puede pensar al tiempo en que tarda el satelite en llegar a una posicion a la que puede sacar una foto de la request como una uniforme entre 0 y el tiempo en que tarda en dar la vuelta al mundo, ya que los puntos sobre el globo se distribuyen uniformemente."
   ]
  },
  {
   "attachments": {},
   "cell_type": "markdown",
   "metadata": {},
   "source": [
    "Para simular el problema lo que hacemos es definir un delta de tiempo (time step), que sera de cada que intervalo discreto avanzaremos el tiempo de la simulacion. Por cada iteracion generamos un valor de una distribucion de poisson que representa la cantidad de arribos de solicitudes que llegaron en el ultimo intervalo de tiempo. Por cada solicitud de tiempo que halla llegado luego generamos un valor de tiempo con una distribucion uniforme entre 0 y el satelite_perior (tiempo en dar la vuelta al mundo del satelite), que representa el tiempo que tardara el satelite en estar en posicion para poder sacar la foto. Por cada iteracion avanzamos el tiempo de todas las request en la cola, y agregamos las nuevas, ademas de ir anotando datos como cuantas veces hubo cada longitud de cola en todas las iteraciones, y cuanto fue el tiempo para servir a la primera request para cada longitud de cola."
   ]
  },
  {
   "cell_type": "code",
   "execution_count": 147,
   "metadata": {},
   "outputs": [],
   "source": [
    "def simulate_satelite_request_queue_length(time_step, iterations, request_per_unit_time, satelite_period):\n",
    "    generator_amount_of_request = Poisson_generator(int(time.time()) * 8647359734, request_per_unit_time*time_step)\n",
    "    generator_time_to_serve = Uniform_generator(int(time.time()) * 345678976, satelite_period)\n",
    "    simulated_queue = []\n",
    "    observed_queue_length = {}\n",
    "    time_to_serve_first_for_queue_length = {}\n",
    "\n",
    "    for _ in range(iterations):\n",
    "        advance_time(simulated_queue, time_step)\n",
    "        get_acumulated_requests(generator_amount_of_request, simulated_queue, generator_time_to_serve)    \n",
    "        observed_queue_length[len(simulated_queue)] = observed_queue_length.get(len(simulated_queue), 0) + 1\n",
    "        if len(simulated_queue) != 0:\n",
    "            time_to_serve_first_for_queue_length.setdefault(len(simulated_queue), []).append(simulated_queue[0])\n",
    "            \n",
    "    return get_frequencies(observed_queue_length, iterations), get_mean_times(time_to_serve_first_for_queue_length)"
   ]
  },
  {
   "cell_type": "code",
   "execution_count": 148,
   "metadata": {},
   "outputs": [],
   "source": [
    "def advance_time(simulated_queue, time_step):\n",
    "    for i in range(len(simulated_queue)):\n",
    "        simulated_queue[i] -= time_step\n",
    "\n",
    "    while (len(simulated_queue) != 0 and simulated_queue[0] <= 0):\n",
    "        item = heappop(simulated_queue)\n",
    "        #print(f'Se elimino una request de tiempo: {item}')\n",
    "\n",
    "def get_acumulated_requests(generator_amount_of_request, simulated_queue, generator_time_to_serve):\n",
    "    amount_of_requests = generator_amount_of_request.rand()\n",
    "    for request in range(amount_of_requests):\n",
    "        #por ahora asumimos que el time to serve es uniforme, porque se hacen requests uniformemente alrededor del mundo\n",
    "        heappush(simulated_queue, generator_time_to_serve.rand())\n",
    "\n",
    "def get_frequencies(observed_queue_length, iterations):\n",
    "    #print(f'Entro a get_frequencies con dicc = {observed_queue_length}')\n",
    "    observed_frequencies = []\n",
    "    #print(f'El maximo es: {max(observed_queue_length.keys())}')\n",
    "    for j in range(max(observed_queue_length.keys()) + 1):\n",
    "        times_observed = observed_queue_length.get(j, 0)\n",
    "        #print(f'Para {j} se observo {times_observed}')\n",
    "        observed_frequencies.append(times_observed/iterations)\n",
    "    return observed_frequencies\n",
    "\n",
    "def get_mean_times(time_to_serve_for_queue_length):\n",
    "    mean_times = {}\n",
    "\n",
    "    for key in time_to_serve_for_queue_length:\n",
    "        sum_of_times = 0\n",
    "        for j in time_to_serve_for_queue_length[key]:\n",
    "            sum_of_times += j\n",
    "        mean_times[key] = sum_of_times/len(time_to_serve_for_queue_length[key])\n",
    "    \n",
    "    return mean_times"
   ]
  },
  {
   "attachments": {},
   "cell_type": "markdown",
   "metadata": {},
   "source": [
    "Simulamos un ejemplo donde tomamos que el satelite tarde 48 horas en dar la vuelta al mundo, y que llegan 10 requests por dia en promedio. Usamos un intervalo de media hora y realizamos 50 000 horas de simulacion"
   ]
  },
  {
   "cell_type": "code",
   "execution_count": 149,
   "metadata": {},
   "outputs": [],
   "source": [
    "frequencies, times = simulate_satelite_request_queue_length(0.5, 100000, 5/12, 48)"
   ]
  },
  {
   "attachments": {},
   "cell_type": "markdown",
   "metadata": {},
   "source": [
    "Podemos ver que como en general se acumulan las request hasta llegar al rededor de 10 y luego tiende a disminuir la cantidad que hay"
   ]
  },
  {
   "cell_type": "code",
   "execution_count": null,
   "metadata": {},
   "outputs": [],
   "source": [
    "x_axis = list(range(len(frequencies)))\n",
    "y_axis = frequencies\n",
    "plt.plot(x_axis, y_axis)\n",
    "plt.show()"
   ]
  },
  {
   "attachments": {},
   "cell_type": "markdown",
   "metadata": {},
   "source": [
    "El paper llegaba a la conclusion de que cuantas mas solicitudes hayan en la cola, el tiempo que se tarda en servir estas request es menor. Para verificar esto miramos el siguiente grafico que muestra el tiempo promedio que tarda el satelite en servir al request mas cercano"
   ]
  },
  {
   "cell_type": "code",
   "execution_count": 176,
   "metadata": {},
   "outputs": [
    {
     "data": {
      "image/png": "[encoded data removed]",
      "text/plain": [
       "<Figure size 640x480 with 1 Axes>"
      ]
     },
     "metadata": {},
     "output_type": "display_data"
    }
   ],
   "source": [
    "plt.bar(times.keys(), times.values())\n",
    "plt.xlabel(\"Queue length\")\n",
    "plt.ylabel(\"Avarege time to serve first request\")\n",
    "plt.show()"
   ]
  },
  {
   "attachments": {},
   "cell_type": "markdown",
   "metadata": {},
   "source": [
    "Vemos que en este caso asi sucede, cuantas mas solicitudes hay en la cola menor es el tiempo para tomar la foto. Esto tiene sentido ya que cuantas mas request hayan en espera mas chances habra de que haya alguna mas cercana.\n",
    "Si bien el grafico solo muestra la primera requet, como esto se modela como un proceso de poisson, por propiedad de perdidad de memoria se puede ver que se cumplira para el tiempo entre todos los arribos. "
   ]
  },
  {
   "attachments": {},
   "cell_type": "markdown",
   "metadata": {},
   "source": [
    "## Ejercicio 2"
   ]
  },
  {
   "cell_type": "code",
   "execution_count": 116,
   "metadata": {},
   "outputs": [],
   "source": [
    "BUFFER_SIZE = 100\n",
    "SIM_TIME = 100"
   ]
  },
  {
   "attachments": {},
   "cell_type": "markdown",
   "metadata": {},
   "source": [
    "- Factor de ocupación del sistema. (listo)\n",
    "- Cantidad media de solicitudes en el buffer (listo)\n",
    "- Cantidad media de solicitudes en el sistema (listo)\n",
    "- Tiempo medio que las solicitudes están en el buffer (listo)\n",
    "- Tiempo medio de solicitudes en el sistema (listo)\n",
    "- Determinar el tamaña del buffer para que la probabilidad de que haya lugar para recibir solicitudes sea\n",
    "como mucho 3%.\n",
    "- Evaluar la posibilidad de reemplazar las dos máquinas por una sola que procesa todos las solicitudes en\n",
    "un tiempo fijo de 5 segundos. Si el costo de tener solicitudes en el buffer es 0,2 USD/minuto y el costo\n",
    "de modificar la máquina es 2000 USD, Cuánto tiempo tomará amortizar el inversión?"
   ]
  },
  {
   "attachments": {},
   "cell_type": "markdown",
   "metadata": {},
   "source": [
    "De esta manera cada maquina es un proceso y desp hay otro proceso que se encarga de llenar las lista con requests para que cada maquina vaya desencolando \n",
    "y procesando requests"
   ]
  },
  {
   "cell_type": "code",
   "execution_count": 117,
   "metadata": {},
   "outputs": [],
   "source": [
    "class Machine:\n",
    "    \n",
    "    def __init__(self,id):\n",
    "        self.working_time = 0\n",
    "        self.requests_taken = 0\n",
    "        self.id = id\n",
    "        self.req_time_stats = []\n",
    "    \n",
    "    def process_request(self, request):\n",
    "        self.requests_taken += 1\n",
    "        self.working_time += request\n",
    "\n",
    "    def add_req_time_stat(self, time_tup):\n",
    "        # The tuple has the following format: (req_buffer_time, req_system_time, req_finish_time)\n",
    "        self.req_time_stats.append(time_tup)\n"
   ]
  },
  {
   "cell_type": "code",
   "execution_count": 118,
   "metadata": {},
   "outputs": [],
   "source": [
    "class Request:\n",
    "    def __init__(self, arrival_time):\n",
    "        self.arrival_time = arrival_time\n",
    "        self.time_at_buffer = 0\n",
    "        \n",
    "    \n"
   ]
  },
  {
   "cell_type": "code",
   "execution_count": 156,
   "metadata": {},
   "outputs": [],
   "source": [
    "\"\"\"\n",
    "Con esta implementacion, las maquinas chequean que haya requests en la cola cada 1 seg. Osea, que si la cola estaa vacia, la maquina cada 1 seg va a \n",
    "chequear si llego un nuevo mensaje. Ver con los chicos si estan de acuerdo con esto (o tamb preguntar al de la practica). Porque otro caso que CREO que se puede\n",
    "hacer es que apenas llegue un request, la maquina ya sepa y lo empieze a procesar all instante.\n",
    "Tambien ver que onda el arrribo de mensajes, estan llegando cada mucho tiempo y los procesa re rapido entonces la cola siempre esta vacia\n",
    "\"\"\"\n",
    "def request_generator(env, requests_center, requests_buffer, seed):\n",
    "    \"\"\"Las solicitudes llegan siguiendo un proceso Poisson con una frecuencia media de 10\n",
    "    por minuto. Por ende el tiempo entre 2 solicitudes consecutivas seguira una distribucion\n",
    "    Exponencial de paremtro 10.\"\"\"\n",
    "    exponential_gen = Exp_generator(seed, 1/6) \n",
    "    \n",
    "    print(\"Requests start to arrive\")\n",
    "    for i in itertools.count():\n",
    "        time_for_next_request = exponential_gen.rand()\n",
    "        #time_for_next_request = np.random.exponential(6) # El parametro en esta lib tiene que ser b=1/lambda\n",
    "\n",
    "        print(f\"The next request will arrive in {time_for_next_request}, we are at {env.now}\")\n",
    "        yield env.timeout(time_for_next_request)\n",
    "        with requests_center.request() as req:\n",
    "            yield req\n",
    "            if len(requests_buffer.items) == BUFFER_SIZE:\n",
    "                print(f\"The buffer is full and cannot accept more requests. This requests has been dropped at time {env.now}\")\n",
    "            else:\n",
    "                print(f\"A request arrived and was buffered at time {env.now}\")\n",
    "                yield requests_buffer.put(env.now)\n",
    "    print(\"Requests will stop to arrive\")\n"
   ]
  },
  {
   "cell_type": "code",
   "execution_count": 164,
   "metadata": {},
   "outputs": [],
   "source": [
    "def processing_machine(env, requests_center, requests_buffer, seed, machine):\n",
    "    exponential_gen = Exp_generator(seed, 1/10)\n",
    "    print(f\"The machine {machine.id} starts.\")\n",
    "    while True:\n",
    "        \n",
    "        time_to_process = 0.001\n",
    "        request_processed = False\n",
    "        #print(f\"Machine {machine.id} will try to process a request at {env.now}\")\n",
    "        with requests_center.request() as req:\n",
    "            yield req\n",
    "            \n",
    "            if len(requests_buffer.items) != 0:\n",
    "                print(f\"A request is starting to be processed by machine {machine.id} at {env.now}\")\n",
    "                arrival_time = yield requests_buffer.get()\n",
    "                print(arrival_time)\n",
    "                buffer_time = env.now - arrival_time\n",
    "                print(f\"La cantidad de requests en el buffer es {len(requests_buffer.items)}\")\n",
    "                time_to_process = exponential_gen.rand()\n",
    "                #time_to_process = np.random.exponential(10)\n",
    "                machine.process_request(time_to_process)\n",
    "                print(f\"Machine {machine.id} will finish at {time_to_process + env.now}\")\n",
    "                request_processed = True\n",
    "                \n",
    "        # If there are no requests to process in the buffer, the timeout is of 0 seconds.\n",
    "        yield env.timeout(time_to_process)\n",
    "        if request_processed:\n",
    "            system_time = env.now - arrival_time\n",
    "            finish_time = arrival_time + system_time\n",
    "            time_tup = (buffer_time, system_time, finish_time)\n",
    "            machine.add_req_time_stat(time_tup)\n",
    "            print(f\"Machine {machine.id} has finished processing the request at {env.now}\")"
   ]
  },
  {
   "cell_type": "code",
   "execution_count": 160,
   "metadata": {},
   "outputs": [],
   "source": [
    "def buffer_stats(env, buffer, amount):\n",
    "    while True:\n",
    "        amount.append(len(buffer.items))\n",
    "        yield env.timeout(1)"
   ]
  },
  {
   "attachments": {},
   "cell_type": "markdown",
   "metadata": {},
   "source": [
    "podemos usar nuestro generador, ronda cantidad de llegadas 11/12 en el primer minuto (empiricamente), varias veces se pasa y muy pocas veces de menos, el otro es mas uniforme, puede dar 8 o 13.  \n",
    "voy a dejar el otro por ahora"
   ]
  },
  {
   "cell_type": "code",
   "execution_count": 165,
   "metadata": {},
   "outputs": [
    {
     "name": "stdout",
     "output_type": "stream",
     "text": [
      "Requests start to arrive\n",
      "The next request will arrive in 9.903289714840097, we are at 0\n",
      "The machine 1 starts.\n",
      "A request arrived and was buffered at time 9.903289714840097\n",
      "The next request will arrive in 11.819796556773825, we are at 9.903289714840097\n",
      "A request is starting to be processed by machine 1 at 9.90399999999995\n",
      "9.903289714840097\n",
      "La cantidad de requests en el buffer es 0\n",
      "Machine 1 will finish at 26.409482858066777\n",
      "A request arrived and was buffered at time 21.723086271613923\n",
      "The next request will arrive in 0.45552905963801965, we are at 21.723086271613923\n",
      "A request arrived and was buffered at time 22.178615331251944\n",
      "The next request will arrive in 2.6730956815281606, we are at 22.178615331251944\n",
      "A request arrived and was buffered at time 24.851711012780104\n",
      "The next request will arrive in 5.052719772173712, we are at 24.851711012780104\n",
      "Machine 1 has finished processing the request at 26.409482858066777\n",
      "A request is starting to be processed by machine 1 at 26.409482858066777\n",
      "21.723086271613923\n",
      "La cantidad de requests en el buffer es 2\n",
      "Machine 1 will finish at 46.109143786023154\n",
      "A request arrived and was buffered at time 29.904430784953817\n",
      "The next request will arrive in 2.5981845794967, we are at 29.904430784953817\n",
      "A request arrived and was buffered at time 32.50261536445052\n",
      "The next request will arrive in 0.6023474366438158, we are at 32.50261536445052\n",
      "A request arrived and was buffered at time 33.10496280109434\n",
      "The next request will arrive in 1.9727708303117677, we are at 33.10496280109434\n",
      "A request arrived and was buffered at time 35.077733631406105\n",
      "The next request will arrive in 0.5877707204322209, we are at 35.077733631406105\n",
      "A request arrived and was buffered at time 35.66550435183832\n",
      "The next request will arrive in 1.261017240335812, we are at 35.66550435183832\n",
      "A request arrived and was buffered at time 36.92652159217413\n",
      "The next request will arrive in 0.053210060712957086, we are at 36.92652159217413\n",
      "A request arrived and was buffered at time 36.97973165288709\n",
      "The next request will arrive in 7.582347211469553, we are at 36.97973165288709\n",
      "A request arrived and was buffered at time 44.56207886435664\n",
      "The next request will arrive in 16.942857600944944, we are at 44.56207886435664\n",
      "Machine 1 has finished processing the request at 46.109143786023154\n",
      "A request is starting to be processed by machine 1 at 46.109143786023154\n",
      "22.178615331251944\n",
      "La cantidad de requests en el buffer es 9\n",
      "Machine 1 will finish at 46.86835888541985\n",
      "Machine 1 has finished processing the request at 46.86835888541985\n",
      "A request is starting to be processed by machine 1 at 46.86835888541985\n",
      "24.851711012780104\n",
      "La cantidad de requests en el buffer es 8\n",
      "Machine 1 will finish at 51.32351835463345\n",
      "Machine 1 has finished processing the request at 51.32351835463345\n",
      "A request is starting to be processed by machine 1 at 51.32351835463345\n",
      "29.904430784953817\n",
      "La cantidad de requests en el buffer es 7\n",
      "Machine 1 will finish at 59.74471797492297\n",
      "Machine 1 has finished processing the request at 59.74471797492297\n",
      "A request is starting to be processed by machine 1 at 59.74471797492297\n",
      "32.50261536445052\n",
      "La cantidad de requests en el buffer es 6\n",
      "Machine 1 will finish at 64.07502560741747\n",
      "A request arrived and was buffered at time 61.50493646530158\n",
      "The next request will arrive in 9.29007017751686, we are at 61.50493646530158\n",
      "Machine 1 has finished processing the request at 64.07502560741747\n",
      "A request is starting to be processed by machine 1 at 64.07502560741747\n",
      "33.10496280109434\n",
      "La cantidad de requests en el buffer es 6\n",
      "Machine 1 will finish at 65.07893800182383\n",
      "Machine 1 has finished processing the request at 65.07893800182383\n",
      "A request is starting to be processed by machine 1 at 65.07893800182383\n",
      "35.077733631406105\n",
      "La cantidad de requests en el buffer es 5\n",
      "Machine 1 will finish at 68.36688938567677\n",
      "Machine 1 has finished processing the request at 68.36688938567677\n",
      "A request is starting to be processed by machine 1 at 68.36688938567677\n",
      "35.66550435183832\n",
      "La cantidad de requests en el buffer es 4\n",
      "Machine 1 will finish at 69.3465072530638\n",
      "Machine 1 has finished processing the request at 69.3465072530638\n",
      "A request is starting to be processed by machine 1 at 69.3465072530638\n",
      "36.92652159217413\n",
      "La cantidad de requests en el buffer es 3\n",
      "Machine 1 will finish at 71.4482026536235\n",
      "A request arrived and was buffered at time 70.79500664281844\n",
      "The next request will arrive in 4.131698752484505, we are at 70.79500664281844\n",
      "Machine 1 has finished processing the request at 71.4482026536235\n",
      "A request is starting to be processed by machine 1 at 71.4482026536235\n",
      "36.97973165288709\n",
      "La cantidad de requests en el buffer es 3\n",
      "Machine 1 will finish at 71.5368860881451\n",
      "Machine 1 has finished processing the request at 71.5368860881451\n",
      "A request is starting to be processed by machine 1 at 71.5368860881451\n",
      "44.56207886435664\n",
      "La cantidad de requests en el buffer es 2\n",
      "Machine 1 will finish at 84.17413144059435\n",
      "A request arrived and was buffered at time 74.92670539530295\n",
      "The next request will arrive in 0.8957778899575117, we are at 74.92670539530295\n",
      "A request arrived and was buffered at time 75.82248328526046\n",
      "The next request will arrive in 13.473266984191824, we are at 75.82248328526046\n",
      "Machine 1 has finished processing the request at 84.17413144059435\n",
      "A request is starting to be processed by machine 1 at 84.17413144059435\n",
      "61.50493646530158\n",
      "La cantidad de requests en el buffer es 3\n",
      "Machine 1 will finish at 112.41222744216925\n",
      "A request arrived and was buffered at time 89.29575026945228\n",
      "The next request will arrive in 3.8235563284359615, we are at 89.29575026945228\n",
      "A request arrived and was buffered at time 93.11930659788824\n",
      "The next request will arrive in 5.629450709290801, we are at 93.11930659788824\n",
      "A request arrived and was buffered at time 98.74875730717903\n",
      "The next request will arrive in 5.916099520323228, we are at 98.74875730717903\n"
     ]
    }
   ],
   "source": [
    "env = simpy.Environment()\n",
    "init = env.now\n",
    "requests_center = simpy.Resource(env, 1)\n",
    "requests_buffer = simpy.Store(env, BUFFER_SIZE)\n",
    "env.process(request_generator(env, requests_center, requests_buffer, int(time.time())))\n",
    "\n",
    "amount = []\n",
    "machine_1 = Machine(1)\n",
    "machine_2 = Machine(2)\n",
    "env.process(buffer_stats(env, requests_buffer, amount))\n",
    "env.process(processing_machine(env, requests_center, requests_buffer, int(time.time()), machine_1))\n",
    "#env.process(processing_machine(env, requests_center, requests_buffer, int(time.time()), machine_2))\n",
    "\n",
    "env.run(until=SIM_TIME)\n",
    "\n",
    "end = env.now"
   ]
  },
  {
   "attachments": {},
   "cell_type": "markdown",
   "metadata": {},
   "source": [
    "Ocupation factor con una maquina"
   ]
  },
  {
   "cell_type": "code",
   "execution_count": 175,
   "metadata": {},
   "outputs": [
    {
     "name": "stdout",
     "output_type": "stream",
     "text": [
      "ocupation_factor: 1.0250822744216928\n",
      "102.50822744216929\n"
     ]
    }
   ],
   "source": [
    "program_time = end - init\n",
    "ocupation_factor = machine_1.working_time/SIM_TIME\n",
    "print(f\"ocupation_factor: {ocupation_factor}\")\n",
    "print(machine_1.working_time)"
   ]
  },
  {
   "attachments": {},
   "cell_type": "markdown",
   "metadata": {},
   "source": [
    "Ocupation factor con dos maquinas"
   ]
  },
  {
   "cell_type": "code",
   "execution_count": 167,
   "metadata": {},
   "outputs": [
    {
     "name": "stdout",
     "output_type": "stream",
     "text": [
      "ocupation_factor: 0.5125411372108464\n"
     ]
    }
   ],
   "source": [
    "ocupation_factor = (machine_1.working_time + machine_2.working_time)/(program_time*2)\n",
    "print(f\"ocupation_factor: {ocupation_factor}\")"
   ]
  },
  {
   "attachments": {},
   "cell_type": "markdown",
   "metadata": {},
   "source": [
    "Cantidad media de elementos en el buffer: a cada segundo mido la cantidad de elementos en el buffer, luego divido la suma por la cantidad total de mediciones"
   ]
  },
  {
   "cell_type": "code",
   "execution_count": 168,
   "metadata": {},
   "outputs": [
    {
     "name": "stdout",
     "output_type": "stream",
     "text": [
      "cantidad media de elementos en el buffer: 4.07\n"
     ]
    }
   ],
   "source": [
    "cant = 0\n",
    "for i in amount:\n",
    "    cant += i\n",
    "\n",
    "cant = cant/len(amount)\n",
    "print(f\"cantidad media de elementos en el buffer: {cant}\")  "
   ]
  },
  {
   "attachments": {},
   "cell_type": "markdown",
   "metadata": {},
   "source": [
    "Sacamos la cantidad media de solicitudes en el sistema"
   ]
  },
  {
   "cell_type": "code",
   "execution_count": 172,
   "metadata": {},
   "outputs": [
    {
     "name": "stdout",
     "output_type": "stream",
     "text": [
      "[0, 0, 0, 0, 0, 0, 0, 0, 0, 0, 1, 1, 1, 1, 1, 1, 1, 1, 1, 1, 1, 1, 2, 3, 3, 4, 4, 3, 3, 3, 4, 4, 4, 5, 6, 6, 8, 10, 10, 10, 10, 10, 10, 10, 10, 11, 11, 9, 9, 9, 9, 9, 8, 8, 8, 8, 8, 8, 8, 8, 7, 7, 7, 7, 7, 6, 5, 5, 5, 4, 3, 3, 1, 1, 1, 1, 1, 1, 1, 1, 1, 1, 1, 1, 1, 0, 0, 0, 0, 0, 0, 0, 0, 0, 0, 0, 0, 0, 0, 0]\n",
      "3.64\n"
     ]
    }
   ],
   "source": [
    "total_req_time_stats = machine_1.req_time_stats + machine_2.req_time_stats\n",
    "\n",
    "req_quantity = []\n",
    "for second in range(SIM_TIME):\n",
    "    interval_req_quantity = 0\n",
    "    for time_tup in total_req_time_stats:\n",
    "        finish_time = time_tup[2]\n",
    "        arrival_time = finish_time - time_tup[1] # finish_time - system_time\n",
    "        if arrival_time < second < finish_time:\n",
    "            \"\"\" \n",
    "            If the second we are checking is between the finish time and arrival time\n",
    "            it means that the request was living on the system at that second.\n",
    "            \"\"\"\n",
    "            interval_req_quantity += 1\n",
    "    req_quantity.append(interval_req_quantity)\n",
    "print(req_quantity)\n",
    "print(mean(req_quantity))\n",
    "\n",
    "\n",
    "    \n",
    "    "
   ]
  },
  {
   "attachments": {},
   "cell_type": "markdown",
   "metadata": {},
   "source": [
    "## EJERCICIO 3"
   ]
  },
  {
   "cell_type": "code",
   "execution_count": null,
   "metadata": {},
   "outputs": [
    {
     "ename": "NameError",
     "evalue": "name 'gas_station_control' is not defined",
     "output_type": "error",
     "traceback": [
      "\u001b[0;31m---------------------------------------------------------------------------\u001b[0m",
      "\u001b[0;31mNameError\u001b[0m                                 Traceback (most recent call last)",
      "Cell \u001b[0;32mIn[25], line 6\u001b[0m\n\u001b[1;32m      3\u001b[0m env \u001b[39m=\u001b[39m simpy\u001b[39m.\u001b[39mEnvironment()\n\u001b[1;32m      4\u001b[0m processing_center \u001b[39m=\u001b[39m simpy\u001b[39m.\u001b[39mResource(env, \u001b[39m2\u001b[39m)\n\u001b[0;32m----> 6\u001b[0m env\u001b[39m.\u001b[39mprocess(gas_station_control(env, fuel_pump))\n\u001b[1;32m      7\u001b[0m env\u001b[39m.\u001b[39mprocess(car_generator(env, gas_station, fuel_pump))\n",
      "\u001b[0;31mNameError\u001b[0m: name 'gas_station_control' is not defined"
     ]
    }
   ],
   "source": [
    "random.seed(22)\n",
    "\n",
    "env = simpy.Environment()\n",
    "processing_center = simpy.Resource(env, 2)\n",
    "\n",
    "env.process(gas_station_control(env, fuel_pump))\n",
    "env.process(car_generator(env, gas_station, fuel_pump))"
   ]
  },
  {
   "cell_type": "code",
   "execution_count": null,
   "metadata": {},
   "outputs": [
    {
     "ename": "TypeError",
     "evalue": "'<=' not supported between instances of 'Person' and 'int'",
     "output_type": "error",
     "traceback": [
      "\u001b[1;31m---------------------------------------------------------------------------\u001b[0m",
      "\u001b[1;31mTypeError\u001b[0m                                 Traceback (most recent call last)",
      "\u001b[1;32mc:\\Users\\Joaquin\\Desktop\\simulacion\\Los-Simuladores\\tp2.ipynb Cell 36\u001b[0m in \u001b[0;36m1\n\u001b[0;32m     <a href='vscode-notebook-cell:/c%3A/Users/Joaquin/Desktop/simulacion/Los-Simuladores/tp2.ipynb#X50sZmlsZQ%3D%3D?line=15'>16</a>\u001b[0m person2 \u001b[39m=\u001b[39m Person(\u001b[39m\"\u001b[39m\u001b[39mBob\u001b[39m\u001b[39m\"\u001b[39m, \u001b[39m30\u001b[39m)\n\u001b[0;32m     <a href='vscode-notebook-cell:/c%3A/Users/Joaquin/Desktop/simulacion/Los-Simuladores/tp2.ipynb#X50sZmlsZQ%3D%3D?line=17'>18</a>\u001b[0m \u001b[39m# Store instances in the container\u001b[39;00m\n\u001b[1;32m---> <a href='vscode-notebook-cell:/c%3A/Users/Joaquin/Desktop/simulacion/Los-Simuladores/tp2.ipynb#X50sZmlsZQ%3D%3D?line=18'>19</a>\u001b[0m people_container\u001b[39m.\u001b[39;49mput(person1)\n\u001b[0;32m     <a href='vscode-notebook-cell:/c%3A/Users/Joaquin/Desktop/simulacion/Los-Simuladores/tp2.ipynb#X50sZmlsZQ%3D%3D?line=19'>20</a>\u001b[0m people_container\u001b[39m.\u001b[39mput(person2)\n\u001b[0;32m     <a href='vscode-notebook-cell:/c%3A/Users/Joaquin/Desktop/simulacion/Los-Simuladores/tp2.ipynb#X50sZmlsZQ%3D%3D?line=21'>22</a>\u001b[0m \u001b[39m# Retrieve instances from the container\u001b[39;00m\n",
      "File \u001b[1;32mc:\\Program Files\\python\\lib\\site-packages\\simpy\\resources\\container.py:28\u001b[0m, in \u001b[0;36mContainerPut.__init__\u001b[1;34m(self, container, amount)\u001b[0m\n\u001b[0;32m     27\u001b[0m \u001b[39mdef\u001b[39;00m \u001b[39m__init__\u001b[39m(\u001b[39mself\u001b[39m, container: \u001b[39m'\u001b[39m\u001b[39mContainer\u001b[39m\u001b[39m'\u001b[39m, amount: ContainerAmount):\n\u001b[1;32m---> 28\u001b[0m     \u001b[39mif\u001b[39;00m amount \u001b[39m<\u001b[39;49m\u001b[39m=\u001b[39;49m \u001b[39m0\u001b[39;49m:\n\u001b[0;32m     29\u001b[0m         \u001b[39mraise\u001b[39;00m \u001b[39mValueError\u001b[39;00m(\u001b[39mf\u001b[39m\u001b[39m'\u001b[39m\u001b[39mamount(=\u001b[39m\u001b[39m{\u001b[39;00mamount\u001b[39m}\u001b[39;00m\u001b[39m) must be > 0.\u001b[39m\u001b[39m'\u001b[39m)\n\u001b[0;32m     30\u001b[0m     \u001b[39mself\u001b[39m\u001b[39m.\u001b[39mamount \u001b[39m=\u001b[39m amount\n",
      "\u001b[1;31mTypeError\u001b[0m: '<=' not supported between instances of 'Person' and 'int'"
     ]
    }
   ],
   "source": [
    "import simpy\n",
    "\n",
    "class Person:\n",
    "    def __init__(self, name, age):\n",
    "        self.name = name\n",
    "        self.age = age\n",
    "\n",
    "# Create a SimPy environment\n",
    "env = simpy.Environment()\n",
    "\n",
    "# Create a container\n",
    "people_container = simpy.Container(env, init=0)\n",
    "\n",
    "# Create instances of the class\n",
    "person1 = Person(\"Alice\", 25)\n",
    "person2 = Person(\"Bob\", 30)\n",
    "\n",
    "# Store instances in the container\n",
    "people_container.put(person1)\n",
    "people_container.put(person2)\n",
    "\n",
    "# Retrieve instances from the container\n",
    "while people_container.level > 0:\n",
    "    person = people_container.get()\n",
    "    print(person.name)\n",
    "\n",
    "# Output: \"Alice\" followed by \"Bob\""
   ]
  }
 ],
 "metadata": {
  "kernelspec": {
   "display_name": "Python 3",
   "language": "python",
   "name": "python3"
  },
  "language_info": {
   "codemirror_mode": {
    "name": "ipython",
    "version": 3
   },
   "file_extension": ".py",
   "mimetype": "text/x-python",
   "name": "python",
   "nbconvert_exporter": "python",
   "pygments_lexer": "ipython3",
   "version": "3.10.6"
  },
  "orig_nbformat": 4
 },
 "nbformat": 4,
 "nbformat_minor": 2
}
