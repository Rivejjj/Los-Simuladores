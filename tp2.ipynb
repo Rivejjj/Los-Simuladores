{
 "cells": [
  {
   "cell_type": "code",
   "execution_count": null,
   "metadata": {},
   "outputs": [],
   "source": [
    "from math import e, log\n",
    "import time\n",
    "from heapq import heappush, heappop\n",
    "from scipy.stats import poisson\n",
    "import matplotlib.pyplot as plt\n",
    "import itertools\n",
    "import simpy\n",
    "import numpy as np\n",
    "import random\n",
    "from statistics import mean\n",
    "import seaborn as sns\n",
    "import pandas as pd"
   ]
  },
  {
   "attachments": {},
   "cell_type": "markdown",
   "metadata": {},
   "source": [
    "## Generador de numeros aleatorio del TP1"
   ]
  },
  {
   "cell_type": "code",
   "execution_count": null,
   "metadata": {},
   "outputs": [],
   "source": [
    "class Xorshift_generator:\n",
    "    def __init__(self, seed):\n",
    "        self.x = seed\n",
    "        self.y = 463820370\n",
    "        self.z = 138409373\n",
    "        self.w = 12872349\n",
    "\n",
    "    def rand(self):\n",
    "        tmp = ( self.x ^ (self.x << 13) ) \n",
    "        self.x = self.y\n",
    "        self.y = self.z\n",
    "        self.z = self.w\n",
    "        self.w = (self.w^(self.w>>17) ) ^ (tmp^(tmp>>5))\n",
    "        return self.w & 0xffffffff\n",
    "    \n",
    "    def get_n_rand(self, n):\n",
    "        rand_numbers = []\n",
    "        for i in range(n):\n",
    "            rand_numbers.append(self.rand())\n",
    "        return rand_numbers"
   ]
  },
  {
   "cell_type": "code",
   "execution_count": null,
   "metadata": {},
   "outputs": [],
   "source": [
    "class Uniform_generator:\n",
    "    def __init__(self, seed, scale= 1, displacement= 0):\n",
    "        self.xorshift_genertor = Xorshift_generator(seed)\n",
    "        self.scale = scale\n",
    "        self.displacement = displacement\n",
    "\n",
    "    def rand(self):\n",
    "        n = self.xorshift_genertor.rand() / ((2**32)-1)\n",
    "        return n * self.scale + self.displacement\n",
    "    \n",
    "    def get_n_rand(self, n):\n",
    "        rand_numbers = []\n",
    "        for i in range(n):\n",
    "            rand_numbers.append(self.rand())\n",
    "        return rand_numbers"
   ]
  },
  {
   "cell_type": "code",
   "execution_count": null,
   "metadata": {},
   "outputs": [],
   "source": [
    "class Exp_generator:\n",
    "    def __init__(self, seed, parameter=1):\n",
    "        self.parameter = parameter\n",
    "        self.Uniform_generator = Uniform_generator(seed)\n",
    "\n",
    "    def rand(self):\n",
    "        r = self.Uniform_generator.rand()\n",
    "        if self.parameter >=1:\n",
    "            return log(r) / (-1 * self.parameter)\n",
    "        else: \n",
    "            return -log(1 - r) / self.parameter\n",
    "\n",
    "    def get_n_rand(self, n):\n",
    "        rand_numbers = []\n",
    "        for i in range(n):\n",
    "            rand_numbers.append(self.rand())\n",
    "        return rand_numbers"
   ]
  },
  {
   "cell_type": "code",
   "execution_count": null,
   "metadata": {},
   "outputs": [],
   "source": [
    "seed = int(time.time())\n",
    "\n",
    "exp_generator = Exp_generator(seed, 1/6)\n",
    "\n",
    "#b = exp_generator.rand()\n",
    "#b = exp_generator.rand()\n",
    "a = []\n",
    "\n",
    "for i in range(100):\n",
    "    n = exp_generator.rand()\n",
    "    a.append(n)\n",
    "    if n < 0:\n",
    "        print(n)\n",
    "\n",
    "print(a)\n",
    "print(sum(a)/len(a))"
   ]
  },
  {
   "attachments": {},
   "cell_type": "markdown",
   "metadata": {},
   "source": [
    "## Ejercicio 1"
   ]
  },
  {
   "attachments": {},
   "cell_type": "markdown",
   "metadata": {},
   "source": [
    "### Programacion tradicional"
   ]
  },
  {
   "attachments": {},
   "cell_type": "markdown",
   "metadata": {},
   "source": [
    "Definimos un generador de una distribucion de poisson porque lo utilizaremos mas adelante."
   ]
  },
  {
   "cell_type": "code",
   "execution_count": null,
   "metadata": {},
   "outputs": [],
   "source": [
    "def factorial(n):\n",
    "    resultado = 1\n",
    "    for i in range(1, n + 1):\n",
    "        resultado *= i\n",
    "    return resultado\n",
    "\n",
    "def poisson_probability(parameter, i, previous_probability):\n",
    "    if previous_probability == 0:\n",
    "        return poisson.pmf(i, parameter)\n",
    "    return (parameter/i)*previous_probability\n",
    "\n",
    "class Poisson_generator:\n",
    "    def __init__(self, seed, parameter):\n",
    "        self.parameter = parameter\n",
    "        self.Uniform_generator = Uniform_generator(seed)\n",
    "\n",
    "    def rand(self):\n",
    "        r = self.Uniform_generator.rand()\n",
    "\n",
    "        accumulated_probability = poisson_probability(self.parameter, 0, 0)\n",
    "        previous_probability = accumulated_probability\n",
    "        i = 0\n",
    "\n",
    "        while(accumulated_probability < r):\n",
    "            i += 1\n",
    "            previous_probability = poisson_probability(self.parameter, i, previous_probability)\n",
    "            accumulated_probability += previous_probability\n",
    "\n",
    "        return i\n",
    "    \n",
    "    def get_n_rand(self, n):\n",
    "        rand_numbers = []\n",
    "        for i in range(n):\n",
    "            rand_numbers.append(self.rand())\n",
    "        return rand_numbers"
   ]
  },
  {
   "attachments": {},
   "cell_type": "markdown",
   "metadata": {},
   "source": [
    "Asumimos que el satélite da siempre la misma vuelta al mundo que tarda lo mismo, y que se puede pensar al tiempo en que tarda el satelite en llegar a una posicion a la que puede sacar una foto de la request como una uniforme entre 0 y el tiempo en que tarda en dar la vuelta al mundo, ya que los puntos sobre el globo se distribuyen uniformemente."
   ]
  },
  {
   "attachments": {},
   "cell_type": "markdown",
   "metadata": {},
   "source": [
    "Para simular el problema lo que hacemos es definir un delta de tiempo (time step), que sera de cada que intervalo discreto avanzaremos el tiempo de la simulacion. Por cada iteracion generamos un valor de una distribucion de poisson que representa la cantidad de arribos de solicitudes que llegaron en el ultimo intervalo de tiempo. Por cada solicitud de tiempo que halla llegado luego generamos un valor de tiempo con una distribucion uniforme entre 0 y el satelite_perior (tiempo en dar la vuelta al mundo del satelite), que representa el tiempo que tardara el satelite en estar en posicion para poder sacar la foto. Por cada iteracion avanzamos el tiempo de todas las request en la cola, y agregamos las nuevas, ademas de ir anotando datos como cuantas veces hubo cada longitud de cola en todas las iteraciones, y cuanto fue el tiempo para servir a la primera request para cada longitud de cola."
   ]
  },
  {
   "cell_type": "code",
   "execution_count": null,
   "metadata": {},
   "outputs": [],
   "source": [
    "def simulate_satelite_request_queue_length(time_step, iterations, request_per_unit_time, satelite_period):\n",
    "    generator_amount_of_request = Poisson_generator(int(time.time()) * 8647359734, request_per_unit_time*time_step)\n",
    "    generator_time_to_serve = Uniform_generator(int(time.time()) * 345678976, satelite_period)\n",
    "    simulated_queue = []\n",
    "    observed_queue_length = {}\n",
    "    time_to_serve_first_for_queue_length = {}\n",
    "\n",
    "    for _ in range(iterations):\n",
    "        advance_time(simulated_queue, time_step)\n",
    "        get_acumulated_requests(generator_amount_of_request, simulated_queue, generator_time_to_serve)    \n",
    "        observed_queue_length[len(simulated_queue)] = observed_queue_length.get(len(simulated_queue), 0) + 1\n",
    "        if len(simulated_queue) != 0:\n",
    "            time_to_serve_first_for_queue_length.setdefault(len(simulated_queue), []).append(simulated_queue[0])\n",
    "            \n",
    "    return get_frequencies(observed_queue_length, iterations), get_mean_times(time_to_serve_first_for_queue_length)"
   ]
  },
  {
   "cell_type": "code",
   "execution_count": null,
   "metadata": {},
   "outputs": [],
   "source": [
    "def advance_time(simulated_queue, time_step):\n",
    "    for i in range(len(simulated_queue)):\n",
    "        simulated_queue[i] -= time_step\n",
    "\n",
    "    while (len(simulated_queue) != 0 and simulated_queue[0] <= 0):\n",
    "        item = heappop(simulated_queue)\n",
    "        #print(f'Se elimino una request de tiempo: {item}')\n",
    "\n",
    "def get_acumulated_requests(generator_amount_of_request, simulated_queue, generator_time_to_serve):\n",
    "    amount_of_requests = generator_amount_of_request.rand()\n",
    "    for request in range(amount_of_requests):\n",
    "        #por ahora asumimos que el time to serve es uniforme, porque se hacen requests uniformemente alrededor del mundo\n",
    "        heappush(simulated_queue, generator_time_to_serve.rand())\n",
    "\n",
    "def get_frequencies(observed_queue_length, iterations):\n",
    "    #print(f'Entro a get_frequencies con dicc = {observed_queue_length}')\n",
    "    observed_frequencies = []\n",
    "    #print(f'El maximo es: {max(observed_queue_length.keys())}')\n",
    "    for j in range(max(observed_queue_length.keys()) + 1):\n",
    "        times_observed = observed_queue_length.get(j, 0)\n",
    "        #print(f'Para {j} se observo {times_observed}')\n",
    "        observed_frequencies.append(times_observed/iterations)\n",
    "    return observed_frequencies\n",
    "\n",
    "def get_mean_times(time_to_serve_for_queue_length):\n",
    "    mean_times = {}\n",
    "\n",
    "    for key in time_to_serve_for_queue_length:\n",
    "        sum_of_times = 0\n",
    "        for j in time_to_serve_for_queue_length[key]:\n",
    "            sum_of_times += j\n",
    "        mean_times[key] = sum_of_times/len(time_to_serve_for_queue_length[key])\n",
    "    \n",
    "    return mean_times"
   ]
  },
  {
   "attachments": {},
   "cell_type": "markdown",
   "metadata": {},
   "source": [
    "Simulamos un ejemplo donde tomamos que el satelite tarde 48 horas en dar la vuelta al mundo, y que llegan 10 requests por dia en promedio. Usamos un intervalo de media hora y realizamos 50 000 horas de simulacion"
   ]
  },
  {
   "cell_type": "code",
   "execution_count": null,
   "metadata": {},
   "outputs": [],
   "source": [
    "frequencies, times_to_serve_first = simulate_satelite_request_queue_length(0.5, 100000, 5/12, 48)"
   ]
  },
  {
   "attachments": {},
   "cell_type": "markdown",
   "metadata": {},
   "source": [
    "Podemos ver que como en general se acumulan las request hasta llegar al rededor de 10 y luego tiende a disminuir la cantidad que hay"
   ]
  },
  {
   "cell_type": "code",
   "execution_count": null,
   "metadata": {},
   "outputs": [],
   "source": [
    "def satelite_frequencies_graph(frequencies):\n",
    "    x_axis = list(range(len(frequencies)))\n",
    "    y_axis = frequencies\n",
    "    plt.plot(x_axis, y_axis)\n",
    "    plt.show()"
   ]
  },
  {
   "cell_type": "code",
   "execution_count": null,
   "metadata": {},
   "outputs": [],
   "source": [
    "satelite_frequencies_graph(frequencies)"
   ]
  },
  {
   "attachments": {},
   "cell_type": "markdown",
   "metadata": {},
   "source": [
    "El paper llegaba a la conclusion de que cuantas mas solicitudes hayan en la cola, el tiempo que se tarda en servir estas request es menor. Para verificar esto miramos el siguiente grafico que muestra el tiempo promedio que tarda el satelite en servir al request mas cercano"
   ]
  },
  {
   "cell_type": "code",
   "execution_count": null,
   "metadata": {},
   "outputs": [],
   "source": [
    "def satelite_times_to_serve_first(times_to_serve_first):\n",
    "    plt.bar(times_to_serve_first.keys(), times_to_serve_first.values())\n",
    "    plt.xlabel(\"Queue length\")\n",
    "    plt.ylabel(\"Avarege time to serve first request\")\n",
    "    plt.show()"
   ]
  },
  {
   "cell_type": "code",
   "execution_count": null,
   "metadata": {},
   "outputs": [],
   "source": [
    "satelite_times_to_serve_first(times_to_serve_first)"
   ]
  },
  {
   "attachments": {},
   "cell_type": "markdown",
   "metadata": {},
   "source": [
    "Vemos que en este caso asi sucede, cuantas mas solicitudes hay en la cola menor es el tiempo para tomar la foto. Esto tiene sentido ya que cuantas mas request hayan en espera mas chances habra de que haya alguna mas cercana.\n",
    "Si bien el grafico solo muestra la primera requet, como esto se modela como un proceso de poisson, por propiedad de perdidad de memoria se puede ver que se cumplira para el tiempo entre todos los arribos. "
   ]
  },
  {
   "attachments": {},
   "cell_type": "markdown",
   "metadata": {},
   "source": [
    "### Simpy "
   ]
  },
  {
   "attachments": {},
   "cell_type": "markdown",
   "metadata": {},
   "source": [
    "Para realizar la simulacion utilizando simpy vamos a definir dos procesos. Por un lado el satelite_request_generator que va a generar request, cada un lapso de tiempo aleatorio segun una distribucion exponencial de parametro request_per_unit_time. Cada request tiene un tiempo uniforme entre 0 y satellite_period y es pusheada al heap."
   ]
  },
  {
   "cell_type": "code",
   "execution_count": null,
   "metadata": {},
   "outputs": [],
   "source": [
    "def satelite_process_queue(env, simulated_queue, time_step, observed_queue_length, time_to_serve_first_for_queue_length):\n",
    "    while True:\n",
    "        yield env.timeout(time_step)\n",
    "        advance_time(simulated_queue, time_step) \n",
    "        observed_queue_length[len(simulated_queue)] = observed_queue_length.get(len(simulated_queue), 0) + 1\n",
    "        if len(simulated_queue) != 0:\n",
    "            time_to_serve_first_for_queue_length.setdefault(len(simulated_queue), []).append(simulated_queue[0])"
   ]
  },
  {
   "cell_type": "code",
   "execution_count": null,
   "metadata": {},
   "outputs": [],
   "source": [
    "def satellite_request_gen(env, simulated_queue, satellite_period, request_per_unit_time):\n",
    "    exp_generator = Exp_generator(int(time.time()) * 324324234, request_per_unit_time)\n",
    "    uni_generator = Uniform_generator(int(time.time()) * 54735235, satellite_period)\n",
    "    while True:\n",
    "        time_for_next_req = exp_generator.rand()\n",
    "        time_for_image = uni_generator.rand()\n",
    "        yield env.timeout(time_for_next_req)\n",
    "        heappush(simulated_queue, time_for_image)\n",
    "        "
   ]
  },
  {
   "cell_type": "code",
   "execution_count": null,
   "metadata": {},
   "outputs": [],
   "source": [
    "env = simpy.Environment()\n",
    "\n",
    "simulated_queue = []\n",
    "observed_queue_length = {}\n",
    "time_to_serve_first_for_queue_length = {}\n",
    "satellite_period = 48\n",
    "request_per_unit_time = 5/12\n",
    "time_step = 0.5\n",
    "iterations = 100000\n",
    "env.process(satellite_request_gen(env, simulated_queue, satellite_period, request_per_unit_time))\n",
    "env.process(satelite_process_queue(env, simulated_queue, time_step, observed_queue_length, time_to_serve_first_for_queue_length))\n",
    "env.run(time_step*iterations)"
   ]
  },
  {
   "cell_type": "code",
   "execution_count": null,
   "metadata": {},
   "outputs": [],
   "source": [
    "frequencies, times_to_serve_first = get_frequencies(observed_queue_length, iterations), get_mean_times(time_to_serve_first_for_queue_length)"
   ]
  },
  {
   "cell_type": "code",
   "execution_count": null,
   "metadata": {},
   "outputs": [],
   "source": [
    "satelite_frequencies_graph(frequencies)"
   ]
  },
  {
   "cell_type": "code",
   "execution_count": null,
   "metadata": {},
   "outputs": [],
   "source": [
    "satelite_times_to_serve_first(times_to_serve_first)"
   ]
  },
  {
   "attachments": {},
   "cell_type": "markdown",
   "metadata": {},
   "source": [
    "## Ejercicio 2"
   ]
  },
  {
   "cell_type": "code",
   "execution_count": null,
   "metadata": {},
   "outputs": [],
   "source": [
    "SIM_TIME = 7*24*60 # Minutos "
   ]
  },
  {
   "attachments": {},
   "cell_type": "markdown",
   "metadata": {},
   "source": [
    "- Factor de ocupación del sistema. (listo)\n",
    "- Cantidad media de solicitudes en el buffer (listo)\n",
    "- Cantidad media de solicitudes en el sistema (listo)\n",
    "- Tiempo medio que las solicitudes están en el buffer (listo)\n",
    "- Tiempo medio de solicitudes en el sistema (listo)\n",
    "- Determinar el tamaña del buffer para que la probabilidad de que haya lugar para recibir solicitudes sea\n",
    "como mucho 3%.\n",
    "- Evaluar la posibilidad de reemplazar las dos máquinas por una sola que procesa todos las solicitudes en\n",
    "un tiempo fijo de 5 segundos. Si el costo de tener solicitudes en el buffer es 0,2 USD/minuto y el costo\n",
    "de modificar la máquina es 2000 USD, Cuánto tiempo tomará amortizar el inversión?"
   ]
  },
  {
   "attachments": {},
   "cell_type": "markdown",
   "metadata": {},
   "source": [
    "De esta manera cada maquina es un proceso y desp hay otro proceso que se encarga de llenar las lista con requests para que cada maquina vaya desencolando \n",
    "y procesando requests"
   ]
  },
  {
   "cell_type": "code",
   "execution_count": null,
   "metadata": {},
   "outputs": [],
   "source": [
    "class Machine:\n",
    "    \n",
    "    def __init__(self,id):\n",
    "        self.working_time = 0\n",
    "        self.requests_taken = 0\n",
    "        self.id = id\n",
    "        self.req_time_stats = []\n",
    "        self.procesing_requests = False\n",
    "    \n",
    "    def process_request(self, request):\n",
    "        self.requests_taken += 1\n",
    "        self.working_time += request\n",
    "\n",
    "    def add_req_time_stat(self, time_tup):\n",
    "        # The tuple has the following format: (req_buffer_time, req_system_time, req_finish_time)\n",
    "        self.req_time_stats.append(time_tup)\n",
    "\n",
    "    def is_processing_requests(self):\n",
    "        return self.procesing_requests\n",
    "\n",
    "class RequestQueueStats:\n",
    "    def __init__(self, queue_length):\n",
    "        self.queue_length = queue_length\n",
    "        self.rejected_requests = 0\n",
    "        self.total_requests = 0\n",
    "        self.amount_of_requests_in_queue = []\n",
    "        self.amount_of_requests_in_system = []\n",
    "\n",
    "    def inc_rejected_requests(self):\n",
    "        self.rejected_requests +=1\n",
    "        self.total_requests +=1\n",
    "    \n",
    "    def inc_accepted_requests(self):\n",
    "        self.total_requests +=1\n",
    "\n",
    "    def rejected_ratio(self):\n",
    "        return self.rejected_requests / self.total_requests\n",
    "    \n",
    "    def add_amount_of_requests_in_queue(self, amount_of_requests):\n",
    "        self.amount_of_requests_in_queue.append(amount_of_requests)\n",
    "\n",
    "    def add_amount_of_requests_in_system(self, amount_of_requests):\n",
    "        self.amount_of_requests_in_system.append(amount_of_requests)\n",
    "\n",
    "    def mean_amount_of_requests_in_queue(self):\n",
    "        aux = mean(self.amount_of_requests_in_queue)\n",
    "        print(f\"cantidad media de elementos en el buffer: {aux}\")\n",
    "        return aux\n",
    "\n",
    "    def mean_amount_of_requests_in_system(self):\n",
    "        aux = mean(self.amount_of_requests_in_system)\n",
    "        print(f\"cantidad media de elementos en el buffer: {mean(self.amount_of_requests_in_system)}\")\n",
    "        return aux\n",
    "        "
   ]
  },
  {
   "cell_type": "code",
   "execution_count": null,
   "metadata": {},
   "outputs": [],
   "source": [
    "\"\"\"\n",
    "Con esta implementacion, las maquinas chequean que haya requests en la cola cada 1 seg. Osea, que si la cola estaa vacia, la maquina cada 1 seg va a \n",
    "chequear si llego un nuevo mensaje. Ver con los chicos si estan de acuerdo con esto (o tamb preguntar al de la practica). Porque otro caso que CREO que se puede\n",
    "hacer es que apenas llegue un request, la maquina ya sepa y lo empieze a procesar all instante.\n",
    "Tambien ver que onda el arrribo de mensajes, estan llegando cada mucho tiempo y los procesa re rapido entonces la cola siempre esta vacia\n",
    "\"\"\"\n",
    "def request_generator(env, requests_buffer, seed, requests_stats, request_queue_size):\n",
    "    \"\"\"Las solicitudes llegan siguiendo un proceso Poisson con una frecuencia media de 10\n",
    "    por minuto. Por ende el tiempo entre 2 solicitudes consecutivas seguira una distribucion\n",
    "    Exponencial de paremtro 10.\"\"\"\n",
    "    exponential_gen = Exp_generator(seed, 10) \n",
    "    \n",
    "    #print(\"Requests start to arrive\")\n",
    "    for i in itertools.count():\n",
    "        time_for_next_request = exponential_gen.rand()\n",
    "        #time_for_next_request = np.random.exponential(1/10) # El parametro en esta lib tiene que ser b=1/lambda\n",
    "\n",
    "        #print(f\"The next request will arrive in {time_for_next_request}, we are at {env.now}\")\n",
    "        yield env.timeout(time_for_next_request)\n",
    "        #with requests_center.request() as req:\n",
    "            #yield req\n",
    "        if len(requests_buffer.items) == request_queue_size:\n",
    "            requests_stats.inc_rejected_requests() \n",
    "            #print(f\"The buffer is full and cannot accept more requests. This requests has been dropped at time {env.now}\")\n",
    "        else:\n",
    "            #print(f\"A request arrived and was buffered at time {env.now}\")\n",
    "            requests_stats.inc_accepted_requests()\n",
    "            yield requests_buffer.put(env.now)\n",
    "    #print(\"Requests will stop to arrive\")\n"
   ]
  },
  {
   "cell_type": "code",
   "execution_count": null,
   "metadata": {},
   "outputs": [],
   "source": [
    "def processing_machine(env, requests_center, requests_buffer, seed, machine, new_machine):\n",
    "    \n",
    "    '''Se procesan 6 requests por minuto'''\n",
    "    exponential_gen = Exp_generator(seed, 6)\n",
    "    \n",
    "    while True:\n",
    "        \n",
    "        time_to_process = 0.01\n",
    "        request_processed = False\n",
    "        with requests_center.request() as req:\n",
    "            yield req\n",
    "            \n",
    "            if len(requests_buffer.items) != 0:\n",
    "                machine.procesing_requests = True\n",
    "                arrival_time = yield requests_buffer.get()\n",
    "                #print(arrival_time)\n",
    "                buffer_time = env.now - arrival_time\n",
    "                #print(f\"La cantidad de requests en el buffer es {len(requests_buffer.items)}\")\n",
    "                if not new_machine:\n",
    "                    time_to_process = exponential_gen.rand()\n",
    "                    #time_to_process = np.random.exponential(1/6)\n",
    "                else: \n",
    "                    time_to_process = 5/60 # si 1 unidad de tiempo es 1 minuto, entonces 5 segundos son 5/60 minutos\n",
    "\n",
    "                #time_to_process = np.random.exponential(10)\n",
    "                machine.process_request(time_to_process)\n",
    "                #print(f\"Machine {machine.id} will finish at {time_to_process + env.now}\")\n",
    "                request_processed = True\n",
    "          \n",
    "        # If there are no requests to process in the buffer, the timeout is of 0 seconds.\n",
    "        yield env.timeout(time_to_process)\n",
    "        if request_processed:\n",
    "            machine.procesing_requests = False\n",
    "            system_time = env.now - arrival_time\n",
    "            finish_time = arrival_time + system_time\n",
    "            time_tup = (buffer_time, system_time, finish_time)\n",
    "            machine.add_req_time_stat(time_tup)\n",
    "            #print(f\"Machine {machine.id} has finished processing the request at {env.now}\")"
   ]
  },
  {
   "cell_type": "code",
   "execution_count": null,
   "metadata": {},
   "outputs": [],
   "source": [
    "def buffer_stats(env, buffer, requests_queue_stats, machines):\n",
    "    while True:\n",
    "        requests_in_buffer = len(buffer.items)\n",
    "        requests_queue_stats.add_amount_of_requests_in_queue(requests_in_buffer)\n",
    "        requests_in_system = requests_in_buffer\n",
    "        for machine in machines:\n",
    "            if machine.is_processing_requests():\n",
    "                requests_in_system += 1\n",
    "\n",
    "        requests_queue_stats.add_amount_of_requests_in_system(requests_in_system)\n",
    "        yield env.timeout(1/60)"
   ]
  },
  {
   "attachments": {},
   "cell_type": "markdown",
   "metadata": {},
   "source": [
    "podemos usar nuestro generador, ronda cantidad de llegadas 11/12 en el primer minuto (empiricamente), varias veces se pasa y muy pocas veces de menos, el otro es mas uniforme, puede dar 8 o 13.  \n",
    "voy a dejar el otro por ahora"
   ]
  },
  {
   "cell_type": "code",
   "execution_count": null,
   "metadata": {},
   "outputs": [],
   "source": [
    "def processing_center_simulation(request_queue_size, new_system):\n",
    "    env = simpy.Environment()\n",
    "    requests_center = simpy.Resource(env, 1)\n",
    "    requests_buffer = simpy.Store(env, request_queue_size)\n",
    "    requests_queue_stats = RequestQueueStats(request_queue_size)\n",
    "    env.process(request_generator(env, requests_buffer, int(time.time())*4564564522, requests_queue_stats, request_queue_size))\n",
    "\n",
    "    machines = []\n",
    "    if not new_system:\n",
    "        machine_1 = Machine(1)\n",
    "        machine_2 = Machine(2)\n",
    "        machines.append(machine_1)\n",
    "        machines.append(machine_2)\n",
    "        env.process(buffer_stats(env, requests_buffer, requests_queue_stats, machines))\n",
    "        env.process(processing_machine(env, requests_center, requests_buffer, int(time.time())* 1324568457, machine_1, new_system))\n",
    "        env.process(processing_machine(env, requests_center, requests_buffer, int(time.time()) * 124214123, machine_2, new_system))\n",
    "    else:\n",
    "        machine_0 = Machine(0)\n",
    "        machines.append(machine_0)\n",
    "        env.process(buffer_stats(env, requests_buffer, requests_queue_stats, machines))\n",
    "        env.process(processing_machine(env, requests_center, requests_buffer, int(time.time())* 1324568457, machine_0, new_system))\n",
    "\n",
    "\n",
    "    env.run(until=SIM_TIME)\n",
    "\n",
    "    return machines, requests_queue_stats\n"
   ]
  },
  {
   "cell_type": "code",
   "execution_count": null,
   "metadata": {},
   "outputs": [],
   "source": [
    "machines, request_queue_stats = processing_center_simulation(15, False)"
   ]
  },
  {
   "attachments": {},
   "cell_type": "markdown",
   "metadata": {},
   "source": [
    "Ocupation factor con una maquina"
   ]
  },
  {
   "cell_type": "code",
   "execution_count": null,
   "metadata": {},
   "outputs": [],
   "source": [
    "m1_ocupation_factor = machines[0].working_time/SIM_TIME\n",
    "m2_ocupation_factor = machines[1].working_time/SIM_TIME\n",
    "print(f\"machine 1 ocupation_factor: {m1_ocupation_factor}\")\n",
    "print(f\"machine 2 ocupation_factor: {m2_ocupation_factor}\")\n"
   ]
  },
  {
   "attachments": {},
   "cell_type": "markdown",
   "metadata": {},
   "source": [
    "Ocupation factor con dos maquinas"
   ]
  },
  {
   "cell_type": "code",
   "execution_count": null,
   "metadata": {},
   "outputs": [],
   "source": [
    "ocupation_factor = (machines[0].working_time + machines[1].working_time)/(SIM_TIME*2)\n",
    "print(f\"ocupation_factor: {ocupation_factor}\")"
   ]
  },
  {
   "attachments": {},
   "cell_type": "markdown",
   "metadata": {},
   "source": [
    "Cantidad media de elementos en el buffer: a cada segundo mido la cantidad de elementos en el buffer, luego divido la suma por la cantidad total de mediciones"
   ]
  },
  {
   "cell_type": "code",
   "execution_count": null,
   "metadata": {},
   "outputs": [],
   "source": [
    "mean_amount_of_requests_in_queue = request_queue_stats.mean_amount_of_requests_in_queue()"
   ]
  },
  {
   "attachments": {},
   "cell_type": "markdown",
   "metadata": {},
   "source": [
    "Calculamos la cantidad media de solicitudes en el sistema"
   ]
  },
  {
   "cell_type": "code",
   "execution_count": null,
   "metadata": {},
   "outputs": [],
   "source": [
    "request_queue_stats.mean_amount_of_requests_in_system()"
   ]
  },
  {
   "attachments": {},
   "cell_type": "markdown",
   "metadata": {},
   "source": [
    "avg time in buffer"
   ]
  },
  {
   "cell_type": "code",
   "execution_count": null,
   "metadata": {},
   "outputs": [],
   "source": [
    "def avg_time(requests, index):\n",
    "    time_in_buffer = 0\n",
    "    for time_tup in requests:\n",
    "        time_in_buffer += time_tup[index]\n",
    "    return time_in_buffer/len(requests)"
   ]
  },
  {
   "cell_type": "code",
   "execution_count": null,
   "metadata": {},
   "outputs": [],
   "source": [
    "machine1_buffer_time = avg_time(machines[0].req_time_stats, 0)\n",
    "machine2_buffer_time = avg_time(machines[1].req_time_stats, 0)\n",
    "\n",
    "avg_buff_time = (machine1_buffer_time + machine2_buffer_time)/2\n",
    "\n",
    "print(f\"avg time in buffer: {avg_buff_time} minutes\")\n",
    "print(f\"avg time in buffer: {avg_buff_time*60} seconds\")"
   ]
  },
  {
   "attachments": {},
   "cell_type": "markdown",
   "metadata": {},
   "source": [
    "avg time in system"
   ]
  },
  {
   "cell_type": "code",
   "execution_count": null,
   "metadata": {},
   "outputs": [],
   "source": [
    "machine1_sys_time = avg_time(machines[0].req_time_stats, 1)\n",
    "machine2_sys_time = avg_time(machines[1].req_time_stats, 1)\n",
    "\n",
    "avg_sys_time = (machine1_sys_time + machine2_sys_time)/2\n",
    "\n",
    "print(f\"avg time in system: {avg_sys_time} minutes\")\n",
    "print(f\"avg time in system: {avg_sys_time*60} seconds\")"
   ]
  },
  {
   "attachments": {},
   "cell_type": "markdown",
   "metadata": {},
   "source": [
    "Determinar el tamaño del buffer para que la probabilidad de que NO haya lugar para recibir solicitudes sea\n",
    "como mucho 3%."
   ]
  },
  {
   "attachments": {},
   "cell_type": "markdown",
   "metadata": {},
   "source": [
    "Para verificar que se rechazan como mucho 3% de las solucitudes lo que hacemos es calcular el rejected ratio, es decir cuantas solicitudes no entraron en el buffer dividio la cantidad de solicitudes totales. Si bien este resultado depende de la muestra, consideramos que es confiable debido a la alta cantidad de muestras (que se toman cada 1 segundo), dado a que simulamos una semana de tiempo"
   ]
  },
  {
   "attachments": {},
   "cell_type": "markdown",
   "metadata": {},
   "source": [
    "Usando lo ya simulado con una cola de tama;o 15 vemos que el rejected_ratio cumple con ser menor a 0.03"
   ]
  },
  {
   "cell_type": "code",
   "execution_count": null,
   "metadata": {},
   "outputs": [],
   "source": [
    "request_queue_stats.rejected_ratio()"
   ]
  },
  {
   "attachments": {},
   "cell_type": "markdown",
   "metadata": {},
   "source": [
    "Para obtener cual es el menor valor de longitud de la request_queue como ya sabemos que con 15 cumple, simulamos reduciendo la longitud de la request_queue hasta que no se cumpla la condicion."
   ]
  },
  {
   "cell_type": "code",
   "execution_count": null,
   "metadata": {},
   "outputs": [],
   "source": [
    "queue_size = 15\n",
    "rejected_ratio = request_queue_stats.rejected_ratio()\n",
    "while rejected_ratio < 0.03:\n",
    "    queue_size -= 1\n",
    "    _, aux_request_queue_stats = processing_center_simulation(queue_size, False)\n",
    "    rejected_ratio = aux_request_queue_stats.rejected_ratio()\n",
    "    print(f\"El rejected ratio con una longitud de cola {queue_size}  = {rejected_ratio}\")\n",
    "print(f'El mayor tamaño de cola que no cumple la condicion es {queue_size}, por lo que el menor tamaño de buffer con el que conseguimos un rejected ratio menor a 0.03 es {queue_size + 1}')"
   ]
  },
  {
   "attachments": {},
   "cell_type": "markdown",
   "metadata": {},
   "source": [
    "Evaluar la posibilidad de reemplazar las dos máquinas por una sola que procesa todos las solicitudes en\n",
    "un tiempo fijo de 5 segundos. Si el costo de tener solicitudes en el buffer es 0,2 USD/minuto y el costo\n",
    "de modificar la máquina es 2000 USD, Cuánto tiempo tomará amortizar el inversión?"
   ]
  },
  {
   "attachments": {},
   "cell_type": "markdown",
   "metadata": {},
   "source": [
    "Para ver en cuanto tiempo se amortiza la nueva maquina, consideramos que se debe pagar 0,2 por cada tarea por cada minuto que una tarea este en el sistema. Por que en promedio, cada sistema genera un gasto por miuto de cantidad_media_en_el_buffer * 0,2.Si queremos obtener en que momento se amortiza la inversion inicial de la nueva maquina tenemos que plantear la siguiente ecuacion.  \n",
    "(cantidad_media_en_el_buffer_del_viejo_sistema *0,2)t = (cantidad_media_en_el_buffer_del_nuevo_sistema*0,2)t + 2000  \n",
    "despejando t obtenemos  \n",
    "t = 2000 / (cantidad_media_en_el_buffer_del_viejo_sistema *0,2 - cantidad_media_en_el_buffer_del_nuevo_sistema*0,2) "
   ]
  },
  {
   "cell_type": "code",
   "execution_count": null,
   "metadata": {},
   "outputs": [],
   "source": [
    "mean_amount_of_requests_in_queue_old_system = mean_amount_of_requests_in_queue"
   ]
  },
  {
   "attachments": {},
   "cell_type": "markdown",
   "metadata": {},
   "source": [
    "Simulamos con una cola de igual longitud bajo el nuevo sistema"
   ]
  },
  {
   "cell_type": "code",
   "execution_count": null,
   "metadata": {},
   "outputs": [],
   "source": [
    "_, request_queue_stats = processing_center_simulation(15, True)\n",
    "mean_amount_of_requests_in_queue_new_system = request_queue_stats.mean_amount_of_requests_in_queue()"
   ]
  },
  {
   "attachments": {},
   "cell_type": "markdown",
   "metadata": {},
   "source": [
    "Calculamos el tiempo hasta amortizar la inversion inicial"
   ]
  },
  {
   "cell_type": "code",
   "execution_count": null,
   "metadata": {},
   "outputs": [],
   "source": [
    "time_to_break_even = 2000 / (mean_amount_of_requests_in_queue_old_system * 0.2 - mean_amount_of_requests_in_queue_new_system * 0.2)\n",
    "print(f\"Se tardarian {time_to_break_even} minutos\")\n",
    "time_to_break_even = time_to_break_even/60\n",
    "print(f\"Se tardarian {time_to_break_even} horas\")\n",
    "time_to_break_even = time_to_break_even/24\n",
    "print(f\"Se tardarian {time_to_break_even} dias\")"
   ]
  },
  {
   "attachments": {},
   "cell_type": "markdown",
   "metadata": {},
   "source": [
    "## EJERCICIO 3"
   ]
  },
  {
   "cell_type": "code",
   "execution_count": null,
   "metadata": {},
   "outputs": [],
   "source": [
    "SIM_TIME_3 = 30 * 24"
   ]
  },
  {
   "attachments": {},
   "cell_type": "markdown",
   "metadata": {},
   "source": [
    "### Primera version"
   ]
  },
  {
   "cell_type": "code",
   "execution_count": null,
   "metadata": {},
   "outputs": [],
   "source": [
    "class Truck:\n",
    "\n",
    "    def __init__(self, env, id, arrival_time):\n",
    "        self.env = env\n",
    "        self.id = id\n",
    "        self.arrival_time = arrival_time\n",
    "        self.download_shipment_time = None\n",
    "        self.finish_time = None\n",
    "\n",
    "\n",
    "    def download_shipment(self, distribution_center, exp_generator):\n",
    "        \n",
    "        with distribution_center.request() as req:\n",
    "            yield req\n",
    "            self.download_shipment_time = env.now\n",
    "            time_to_download = exp_generator.rand()\n",
    "            \n",
    "            yield env.timeout(time_to_download)\n",
    "        self.finish_time = env.now\n",
    "            \n",
    "\n",
    "def truck_generator(env, distribution_center, seed, trucks, type, trucks_per_unit_time):\n",
    "    arraival_time_generator = Exp_generator(seed, trucks_per_unit_time)\n",
    "    if type == 'barcode':\n",
    "        download_time_generator = Exp_generator(int(time.time()) * 345783456, 2)\n",
    "    else:\n",
    "        download_time_generator = Exp_generator(int(time.time()) * 345783456, 12/5)\n",
    "\n",
    "    for i in itertools.count():\n",
    "        time_for_next_truck = arraival_time_generator.rand()\n",
    "        yield env.timeout(time_for_next_truck)\n",
    "        \n",
    "        truck = Truck(env, i, env.now)\n",
    "        env.process(truck.download_shipment(distribution_center, download_time_generator))\n",
    "        trucks.append(truck)\n",
    "\n"
   ]
  },
  {
   "attachments": {},
   "cell_type": "markdown",
   "metadata": {},
   "source": [
    "Escenario en el que se usa codigo de barras para descargar y hay 4 darsenas"
   ]
  },
  {
   "cell_type": "code",
   "execution_count": null,
   "metadata": {},
   "outputs": [],
   "source": [
    "env = simpy.Environment()\n",
    "distribution_center = simpy.Resource(env, 4)\n",
    "\n",
    "trucks = []\n",
    "env.process(truck_generator(env, distribution_center, int(time.time()) * 235462324, trucks, 'barcode', 5))\n",
    "env.run(SIM_TIME_3)"
   ]
  },
  {
   "attachments": {},
   "cell_type": "markdown",
   "metadata": {},
   "source": [
    "Estadísticas:\n",
    "-  Simular ambos escenarios utilizando Simpy o programación tradicional.\n",
    "-  Cantidad media de camiones en el sistema (listo)\n",
    "-  Cantidad media de camiones en cola (listo)\n",
    "-  Tiempo medio de camiones en el sistema (listo)\n",
    "-  Tiempo medio de camiones en cola (listo)\n",
    "-  Qué recomendación se puede hacer sobre el cierre de la dársena propuesto"
   ]
  },
  {
   "cell_type": "code",
   "execution_count": null,
   "metadata": {},
   "outputs": [],
   "source": [
    "# We cheack for every second how many trucks were in the system, buffer, their times, etc.\n",
    "system_quantity = []\n",
    "buffer_quantity = []\n",
    "trucks_time_stats = []\n",
    "curr_time = 0\n",
    "while curr_time < SIM_TIME_3:\n",
    "    trucks_in_system = 0\n",
    "    trucks_in_buffer = 0\n",
    "    for truck in trucks:\n",
    "        #if curr_time < 20:\n",
    "        #    print(f\"arrival_time: {truck.arrival_time}      truck.download_shipment_time: {truck.download_shipment_time}      truck.finish_time: {truck.finish_time}\")\n",
    "        if not all([truck.download_shipment_time,truck.finish_time]):\n",
    "            # If the truck never got out of the buffer or system before the simulation ended, their times cannot be taken into account\n",
    "            continue\n",
    "\n",
    "        if truck.arrival_time < curr_time < truck.finish_time:\n",
    "            trucks_in_system += 1\n",
    "\n",
    "        if truck.arrival_time < curr_time < truck.download_shipment_time:\n",
    "            trucks_in_buffer += 1\n",
    "    system_quantity.append(trucks_in_system)\n",
    "    buffer_quantity.append(trucks_in_buffer)\n",
    "    curr_time += 0.2\n",
    "\n",
    "trucks_system_time = [truck.finish_time - truck.arrival_time for truck in trucks if all([truck.download_shipment_time,truck.finish_time])]\n",
    "trucks_buffer_time = [truck.download_shipment_time - truck.arrival_time for truck in trucks if all([truck.download_shipment_time,truck.finish_time])]\n",
    "\n",
    "print(\"mean system quantity\",mean(system_quantity))\n",
    "print(\"mean buffer quantity\",mean(buffer_quantity))\n",
    "print(\"mean trucks system time \",mean(trucks_system_time))\n",
    "print(\"mean trucks buffer time\",mean(trucks_buffer_time))\n",
    "print(\"buffer quantity\",buffer_quantity)"
   ]
  },
  {
   "attachments": {},
   "cell_type": "markdown",
   "metadata": {},
   "source": [
    "Escenario en el que se usa RFID para descargar y hay 3 darsenas"
   ]
  },
  {
   "cell_type": "code",
   "execution_count": null,
   "metadata": {},
   "outputs": [],
   "source": [
    "def run_simulation(seed):\n",
    "\n",
    "    random.seed(seed)\n",
    "\n",
    "    env = simpy.Environment()\n",
    "    distribution_center = simpy.Resource(env, 4)\n",
    "\n",
    "    trucks = []\n",
    "    env.process(truck_generator(env, distribution_center, int(time.time()), trucks, 'rfid',5))\n",
    "\n",
    "    env.run(2000)\n",
    "\n",
    "    print(\"trucks\", trucks)\n",
    "    buffer_quantity = []\n",
    "    for second in range(2000):\n",
    "        trucks_in_buffer = 0\n",
    "        for truck in trucks:\n",
    "            if not all([truck.download_shipment_time,truck.finish_time]):\n",
    "                # If the truck neever got out of the buffer or system before the simulation ended, their times cannot be taken into account.\n",
    "                continue\n",
    "            if truck.arrival_time < second < truck.download_shipment_time:\n",
    "                trucks_in_buffer += 1\n",
    "        buffer_quantity.append(trucks_in_buffer)\n",
    "    print(buffer_quantity)\n",
    "    return mean(buffer_quantity)\n",
    "\n",
    "#def get_trucks_in_buffer_mean(trucks):\n",
    "#    buffer_quantity = []\n",
    "#    for second in range(2000):\n",
    "#        trucks_in_buffer = 0\n",
    "#        for truck in trucks:\n",
    "#            print(f'{truck.arrival_time}    -    {truck.download_shipment_time}')\n",
    "#            if not all([truck.download_shipment_time,truck.finish_time]):\n",
    "#                # If the truck neever got out of the buffer or system before the simulation ended, their times cannot be taken into account.\n",
    "#                continue\n",
    "#            if truck.arrival_time < second < truck.download_shipment_time:\n",
    "#                trucks_in_buffer += 1\n",
    "#        buffer_quantity.append(trucks_in_buffer)\n",
    "#\n",
    "#    print(buffer_quantity)\n",
    "#    return mean(buffer_quantity)\n",
    "\n",
    "# NOSE PORQ ESTA FUNCION NO FUNCA, EL M QUE ME DEVUELVE run_simulation es siempre 0\n",
    "def rfid_analysis():\n",
    "    uniform_gen = Uniform_generator(int(time.time()))\n",
    "    mean_vector = []\n",
    "    for _ in range(2):\n",
    "        seed = uniform_gen.rand()\n",
    "        m = run_simulation(seed)\n",
    "        #print(len(trucks))\n",
    "        #m = get_trucks_in_buffer_mean(trucks)\n",
    "        print(m)\n",
    "        mean_vector.append(m)\n",
    "    \n",
    "    plt.hist(mean_vector)\n",
    "    plt.show()\n",
    "    \n",
    "    return mean_vector"
   ]
  },
  {
   "cell_type": "code",
   "execution_count": null,
   "metadata": {},
   "outputs": [],
   "source": [
    "l = rfid_analysis()"
   ]
  },
  {
   "cell_type": "code",
   "execution_count": null,
   "metadata": {},
   "outputs": [],
   "source": [
    "random.seed(22)\n",
    "\n",
    "env = simpy.Environment()\n",
    "distribution_center = simpy.Resource(env, 3)\n",
    "\n",
    "trucks = []\n",
    "env.process(truck_generator(env, distribution_center, int(time.time()), trucks, 'rfid', 5))\n",
    "\n",
    "env.run(SIM_TIME_3)\n",
    "\n",
    "\n",
    "buffer_quantity = []\n",
    "for second in range(SIM_TIME_3):\n",
    "    trucks_in_buffer = 0\n",
    "    for truck in trucks:\n",
    "        if not all([truck.download_shipment_time,truck.finish_time]):\n",
    "            # If the truck never got out of the buffer or system before the simulation ended, their times cannot be taken into account.\n",
    "            continue\n",
    "        if truck.arrival_time < second < truck.download_shipment_time:\n",
    "            trucks_in_buffer += 1\n",
    "    buffer_quantity.append(trucks_in_buffer)\n",
    "\n",
    "mean(buffer_quantity)"
   ]
  },
  {
   "cell_type": "code",
   "execution_count": null,
   "metadata": {},
   "outputs": [],
   "source": [
    "gen=Exp_generator(int(time.time()) * 1234124124124, 5)\n"
   ]
  },
  {
   "cell_type": "code",
   "execution_count": null,
   "metadata": {},
   "outputs": [],
   "source": [
    "l = gen.get_n_rand(10000)\n",
    "gen_py = np.random.exponential(1/5, 1000)\n",
    "mean(l)\n",
    "#mean(gen_py)\n"
   ]
  },
  {
   "cell_type": "code",
   "execution_count": null,
   "metadata": {},
   "outputs": [],
   "source": [
    "uni_gen = Uniform_generator(int(time.time()) * 1234124124124)"
   ]
  },
  {
   "cell_type": "code",
   "execution_count": null,
   "metadata": {},
   "outputs": [],
   "source": []
  },
  {
   "cell_type": "code",
   "execution_count": null,
   "metadata": {},
   "outputs": [],
   "source": [
    "l = gen.get_n_rand(10000)\n",
    "print(mean(l))\n",
    "plt.hist(l, bins = 100)\n",
    "plt.show()"
   ]
  },
  {
   "attachments": {},
   "cell_type": "markdown",
   "metadata": {},
   "source": [
    "## EJERCICIO 4"
   ]
  },
  {
   "attachments": {},
   "cell_type": "markdown",
   "metadata": {},
   "source": [
    "Una entidad financiera está analizando cambiar uno de sus cajeros automáticos por uno con la funcionalidad de\n",
    "reciclador de billetes (si un cliente realiza un depósito de efectivo, ese efectivo estará disponible para que lo\n",
    "pueda retirar otro cliente).  \n",
    "El cajero automático actual, que se quiere reemplazar, es de tipo estándar. No recicla los billetes, sino que\n",
    "posee dos compartimentos, uno con dinero para entregar y otro donde guarda el dinero que se deposita.\n",
    "Esto presenta los siguientes problemas:  \n",
    "\n",
    "+ Si no tiene más efectivo para entregar en el compartimento de retiro de dinero, no entrega efectivo\n",
    "aunque tenga en el compartimento de depósitos.\n",
    "+ Si el compartimento que recibe los depósitos se completa, no puede recibir más.\n",
    "\n",
    "La entidad conoce que con el cajero actual el 20% de los clientes se retiraba sin poder extraer dinero, y sólo\n",
    "acepta cambiarlo si este porcentaje disminuye.  \n",
    "Por simplicidad suponer que el cajero sólo expende billetes de $100, tiene una capacidad máxima de 2000\n",
    "billetes, y comienza el día con su carga completa.  \n",
    "Si un cliente quiere extraer dinero y el cajero no cuenta con la suma suficiente, se va del mismo sin retirar nada.  \n",
    "Algo similar ocurre cuando un cliente desea depositar efectivo y la capacidad máxima de billetes en el cajero fue\n",
    "alcanzada, retirándose sin poder depositar.  \n",
    "En el relevamiento que realizó la entidad diferenció a sus clientes en dos grupos:  \n",
    "+ Grupo 1: Sólo retiran efectivo, y corresponden al 75% de los clientes que arriban.  \n",
    "El tiempo que utilizan el cajero se puede modelar con una distribución exponencial de media 90\n",
    "segundos.  \n",
    "Cada cliente de este grupo, extrae una cantidad de billetes que sigue una distribución uniforme\n",
    "[3,50].  \n",
    "+ Grupo 2: Sólo realizan depósitos, son el 25% de los clientes totales.  \n",
    "Utilizando el cajero un tiempo que siguen una distribución exponencial de media 5 minutos.  \n",
    "Cada cliente de este grupo, deposita una cantidad de billetes que se puede modelar utilizando\n",
    "una distribución uniforme [10,110].\n",
    "\n",
    "La frecuencia de arribos de clientes es de 1 cliente cada 10 minutos con distribución exponencial.  \n",
    "Se pide:  \n",
    "1. Simular 1000 días completos de 24 hrs.\n",
    "1. Para un día en particular graficar la cantidad de billetes en el cajero luego de cada transacción.\n",
    "1. Calcular el tiempo medio que los clientes demoraron en el sistema (espera + utilización del cajero)\n",
    "1. ¿Recomienda a la entidad que implemente el cambio de cajero?\n",
    "\n",
    "El ejercicio se puede resolver utilizando Simpy o programación tradicional (a elección del grupo)"
   ]
  },
  {
   "cell_type": "code",
   "execution_count": null,
   "metadata": {},
   "outputs": [],
   "source": [
    "SIM_TIME_4 = 24 * 60 # 1000 dia en minutos\n",
    "TIMES_SIM = 1000 # Cantidad de dias a simular"
   ]
  },
  {
   "cell_type": "code",
   "execution_count": null,
   "metadata": {},
   "outputs": [],
   "source": [
    "class Atm:\n",
    "    def __init__(self):\n",
    "        self.operaciones_exitosas = 0\n",
    "        self.operaciones_fallidas = 0\n",
    "        self.billetes = 2000\n",
    "        self.billetes_depositados = 0\n",
    "        self.max_billetes = 2000\n",
    "\n",
    "    def extraction(self, cantidad):\n",
    "        if cantidad > self.billetes:\n",
    "            self.operaciones_fallidas +=1\n",
    "            return 0\n",
    "        self.billetes -= cantidad\n",
    "        self.operaciones_exitosas +=1\n",
    "        return cantidad\n",
    "    \n",
    "    def deposit(self, cantidad):\n",
    "        if cantidad + self.billetes_depositados > self.max_billetes:\n",
    "            self.operaciones_fallidas +=1\n",
    "            return 0\n",
    "        self.billetes_depositados += cantidad\n",
    "        self.operaciones_exitosas +=1\n",
    "        return cantidad\n",
    "    \n",
    "    def print_stats(self):\n",
    "        print(\"operaciones exitosas           \",self.operaciones_exitosas)\n",
    "        print(\"operaciones fallidas           \",self.operaciones_fallidas)\n",
    "        print(\"billetes                       \",self.billetes)\n",
    "        print(\"billetes depositados           \",self.billetes_depositados)\n",
    "        print(\"billetes + billetes depositados\",self.billetes + self.billetes_depositados)\n",
    "    \n",
    "    "
   ]
  },
  {
   "cell_type": "code",
   "execution_count": null,
   "metadata": {},
   "outputs": [],
   "source": [
    "class Cajero_Reciclador:\n",
    "    def __init__(self):\n",
    "        self.operaciones_exitosas = 0\n",
    "        self.operaciones_fallidas = 0\n",
    "        self.billetes = 2000\n",
    "        self.max_billetes = 2000\n",
    "\n",
    "    def deposit(self, cantidad):\n",
    "        if cantidad + self.billetes > self.max_billetes:\n",
    "            self.operaciones_fallidas +=1\n",
    "            return 0\n",
    "        self.billetes += cantidad\n",
    "        self.operaciones_exitosas +=1\n",
    "        return cantidad\n",
    "    \n",
    "    def extraction(self, cantidad):\n",
    "        if cantidad > self.billetes:\n",
    "            self.operaciones_fallidas +=1\n",
    "            return 0\n",
    "        self.billetes -= cantidad\n",
    "        self.operaciones_exitosas +=1\n",
    "        return cantidad"
   ]
  },
  {
   "cell_type": "code",
   "execution_count": null,
   "metadata": {},
   "outputs": [],
   "source": [
    "class Client:\n",
    "    def __init__(self, atm, resource):\n",
    "        self.atm = atm\n",
    "        self.resource = resource\n",
    "\n",
    "    def deposit(self, env, time_to_deposit, amount):\n",
    "        with self.resource.request() as req:\n",
    "            yield req\n",
    "            yield env.timeout(time_to_deposit)\n",
    "            self.atm.deposit(amount)\n",
    "\n",
    "    def extraction(self, env, time_to_extract, amount):\n",
    "        with self.resource.request() as req:\n",
    "            yield req\n",
    "            yield env.timeout(time_to_extract)\n",
    "            self.atm.extraction(amount)\n"
   ]
  },
  {
   "cell_type": "code",
   "execution_count": null,
   "metadata": {},
   "outputs": [],
   "source": [
    "def arrival_of_clients(env, atm, resource, day):\n",
    "    time_gen = Exp_generator(int(time.time()) * day * 8769567584, 1/30) # Generador de tiempo entre llegada de clientes\n",
    "    transaction_gen = Uniform_generator(int(time.time()) * day * 24579411) # Generador de probabilidad para extraccion o deposito\n",
    "    \n",
    "    extraction_time_gen = Exp_generator(int(time.time()) * day * 44859889, 2/3) # Generador de tiempo para extracciones\n",
    "    deposit_time_gen = Exp_generator(int(time.time() * day * 45621154), 1/5) # Generador de tiempo para depositos\n",
    "\n",
    "    extraction_amount_gen = Uniform_generator(int(time.time()) * day * 72895245, 3, 50) # Generador de cantidad de billetes a extraer\n",
    "    deposit_amount_gen = Uniform_generator(int(time.time()) * day * 5788932, 10, 110) # Generador de cantidad de billetes a depositar\n",
    "    \n",
    "    while True:\n",
    "        time_for_next_client = time_gen.rand()\n",
    "        #print(time_for_next_client)\n",
    "        yield env.timeout(time_for_next_client)\n",
    "        client = Client(atm, resource)\n",
    "\n",
    "        if transaction_gen.rand() < 0.75:\n",
    "            time_to_extract = extraction_time_gen.rand()\n",
    "            amount = int(extraction_amount_gen.rand())\n",
    "            env.process(client.extraction(env, time_to_extract, amount))\n",
    "        else:\n",
    "            time_to_deposit = deposit_time_gen.rand()\n",
    "            amount = int(deposit_amount_gen.rand())\n",
    "            env.process(client.deposit(env, time_to_deposit, amount))"
   ]
  },
  {
   "cell_type": "code",
   "execution_count": null,
   "metadata": {},
   "outputs": [],
   "source": [
    "atms = []\n",
    "def day_of_work(list, n):\n",
    "    for i in range(1, n + 1):\n",
    "        env = simpy.Environment()\n",
    "        resource = simpy.Resource(env, 1)\n",
    "        atm = Atm()\n",
    "        env.process(arrival_of_clients(env, atm, resource, i))\n",
    "        env.run(until=SIM_TIME_4)\n",
    "        list.append(atm)\n",
    "        print()"
   ]
  },
  {
   "cell_type": "code",
   "execution_count": null,
   "metadata": {},
   "outputs": [],
   "source": [
    "day_of_work(atms, 20)"
   ]
  },
  {
   "cell_type": "code",
   "execution_count": null,
   "metadata": {},
   "outputs": [],
   "source": [
    "for i in range(len(atms)):\n",
    "    print(f\"ATM {i}\")\n",
    "    atms[i].print_stats()\n",
    "    print(\"\\n\")"
   ]
  },
  {
   "attachments": {},
   "cell_type": "markdown",
   "metadata": {},
   "source": [
    "xq da siempre 56 operaciones exitosas ???"
   ]
  },
  {
   "cell_type": "code",
   "execution_count": null,
   "metadata": {},
   "outputs": [],
   "source": [
    "def foo(i):\n",
    "    gen = Exp_generator(int(time.time()) * 1234123 * i, 1/6)\n",
    "    uni = Uniform_generator(int(time.time()) * i * 5788932)\n",
    "    print('exp', gen.rand())\n",
    "    print('uni', uni.rand())\n",
    "\n",
    "for i in range(10):\n",
    "    foo(i)\n"
   ]
  },
  {
   "attachments": {},
   "cell_type": "markdown",
   "metadata": {},
   "source": [
    "# TP 2"
   ]
  },
  {
   "attachments": {},
   "cell_type": "markdown",
   "metadata": {},
   "source": [
    "#### Grupo 4: Aschieri Juan Pablo, Civini Diego Emanuel, Rivero Joaquin, Rovira Rossel Francisco"
   ]
  }
 ],
 "metadata": {
  "kernelspec": {
   "display_name": "Python 3",
   "language": "python",
   "name": "python3"
  },
  "language_info": {
   "codemirror_mode": {
    "name": "ipython",
    "version": 3
   },
   "file_extension": ".py",
   "mimetype": "text/x-python",
   "name": "python",
   "nbconvert_exporter": "python",
   "pygments_lexer": "ipython3",
   "version": "3.10.6"
  },
  "orig_nbformat": 4
 },
 "nbformat": 4,
 "nbformat_minor": 2
}
