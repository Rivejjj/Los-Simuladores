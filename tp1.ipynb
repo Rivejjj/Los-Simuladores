{
 "cells": [
  {
   "cell_type": "markdown",
   "metadata": {},
   "source": [
    "# Simulacion - 75.26\n",
    "## TP1 - Xorshift RNGs\n",
    "### Grupo 4 \n",
    "### Integrantes: Joaquín Rivero, Juan Pablo Aschieri, Diego Civini, Francisco Rovira Rossel"
   ]
  },
  {
   "cell_type": "code",
   "execution_count": 19,
   "metadata": {},
   "outputs": [],
   "source": [
    "import matplotlib.pyplot as plt"
   ]
  },
  {
   "cell_type": "markdown",
   "metadata": {},
   "source": [
    "## Ejercicio 1"
   ]
  },
  {
   "cell_type": "markdown",
   "metadata": {},
   "source": [
    "Hacemos una clase `xorshift_generator` que dada una semilla devuelve un generador de numeros aleatorios de 32 bits realizando operaciones logicas de shifteo y xor. Los valores usados para la cantidad de shifteos fueron sacados del paper."
   ]
  },
  {
   "cell_type": "code",
   "execution_count": 20,
   "metadata": {},
   "outputs": [],
   "source": [
    "class xorshift_generator:\n",
    "    def __init__(self, seed):\n",
    "        self.x = seed\n",
    "        self.y = 463820370\n",
    "        self.z = 138409373\n",
    "        self.w = 12872349\n",
    "\n",
    "\n",
    "    def rand(self):\n",
    "        tmp = ( self.x^ (self.x <<13) ) \n",
    "        self.x = self.y\n",
    "        self.y = self.z\n",
    "        self.z = self.w\n",
    "        self.w = (self.w^(self.w>>17) ) ^ (tmp^(tmp>>5))\n",
    "        return self.w & 0xffffffff\n",
    "    \n",
    "    def normalized_rand(self):\n",
    "        return self.rand() / (2**32 -1)"
   ]
  },
  {
   "cell_type": "markdown",
   "metadata": {},
   "source": [
    "Obtenemos un generador con una semilla y obtenemos 100000 numeros para analizar los resultados."
   ]
  },
  {
   "cell_type": "code",
   "execution_count": 21,
   "metadata": {},
   "outputs": [],
   "source": [
    "generator = xorshift_generator(123456789)"
   ]
  },
  {
   "cell_type": "code",
   "execution_count": 36,
   "metadata": {},
   "outputs": [
    {
     "name": "stdout",
     "output_type": "stream",
     "text": [
      "[766200517, 1934109686, 840266027, 3415840300, 3097790067]\n"
     ]
    }
   ],
   "source": [
    "rand_numers = []\n",
    "for i in range(100000):\n",
    "    rand_numers.append(generator.rand())\n",
    "print(rand_numers[:5])"
   ]
  },
  {
   "cell_type": "markdown",
   "metadata": {},
   "source": [
    "Graficamos los numeros en un histograma para obtener una representacion visual aproximada de su distribucion. Como buscamos numeros aleatorios entre 0 y 2^32 -1 deberia ser un grafico similar a una dist uniforme ente 0 y 2^32 -1"
   ]
  },
  {
   "cell_type": "code",
   "execution_count": 37,
   "metadata": {},
   "outputs": [
    {
     "data": {
      "image/png": "[encoded data removed]",
      "text/plain": [
       "<Figure size 640x480 with 1 Axes>"
      ]
     },
     "metadata": {},
     "output_type": "display_data"
    }
   ],
   "source": [
    "plt.hist(rand_numers, bins = 100)\n",
    "plt.show()"
   ]
  },
  {
   "cell_type": "markdown",
   "metadata": {},
   "source": [
    "Si bien no es perfecto se puede ver como aproximadamente los distintos box tienen la misma cantidad de ocurrencias, haciendo que el grafico dado se paresca a una meseta, que es el grafico que deberia tener una uniforme."
   ]
  },
  {
   "cell_type": "markdown",
   "metadata": {},
   "source": [
    "Si queremos obtener numero aleatorios entre 0 y 1 utilizando el xorshift generator, basta con generar un numero aleatorio de la misma manera y luego normalizarlo. Para ello dividimos al numero por el mayor valor posible, 2^32 -1. De esta manera optenemos un numero aleatorio entre 0 y 1 con el metodo normalized_rand"
   ]
  },
  {
   "cell_type": "code",
   "execution_count": 38,
   "metadata": {},
   "outputs": [
    {
     "name": "stdout",
     "output_type": "stream",
     "text": [
      "[0.4177938493475769, 0.51161216234593, 0.8245237941910801, 0.3845214700290285, 0.45587373512235324]\n"
     ]
    }
   ],
   "source": [
    "rand_numbers_normalized = []\n",
    "for i in range(100000):\n",
    "    rand_numbers_normalized.append(generator.normalized_rand())\n",
    "print(rand_numbers_normalized[:5])"
   ]
  },
  {
   "cell_type": "markdown",
   "metadata": {},
   "source": [
    "De la misma forma graficamos un histograma para ver si la distribucion de los numeros se asemeja a una distribucion uniforme entre 0 y 1."
   ]
  },
  {
   "cell_type": "code",
   "execution_count": 41,
   "metadata": {},
   "outputs": [
    {
     "data": {
      "image/png": "[encoded data removed]",
      "text/plain": [
       "<Figure size 640x480 with 1 Axes>"
      ]
     },
     "metadata": {},
     "output_type": "display_data"
    }
   ],
   "source": [
    "plt.hist(rand_numbers_normalized, bins = 100)\n",
    "plt.show()"
   ]
  },
  {
   "cell_type": "markdown",
   "metadata": {},
   "source": [
    "## Ejercicio 2"
   ]
  },
  {
   "cell_type": "markdown",
   "metadata": {},
   "source": [
    "enunciado"
   ]
  },
  {
   "cell_type": "markdown",
   "metadata": {},
   "source": [
    "### Test chi2\n"
   ]
  },
  {
   "cell_type": "code",
   "execution_count": null,
   "metadata": {},
   "outputs": [],
   "source": []
  },
  {
   "cell_type": "markdown",
   "metadata": {},
   "source": [
    "Si bien el test dela chi2 necesita que la dist sea discreta, lo cual presenta un problema ya que nosotros tenemos una uniforme continua. Sin embargo para poder realizar este test, podemos discretizar la distribucion juntando valores de intervalos en bins"
   ]
  },
  {
   "cell_type": "markdown",
   "metadata": {},
   "source": [
    "Tomo como ho que la dist es uniforme, "
   ]
  },
  {
   "cell_type": "code",
   "execution_count": 126,
   "metadata": {},
   "outputs": [],
   "source": [
    "from scipy.stats import chi2"
   ]
  },
  {
   "cell_type": "code",
   "execution_count": 127,
   "metadata": {},
   "outputs": [],
   "source": [
    "def get_frequency(rand_numbers, bins, max):\n",
    "    frequency = [0 for i in range(bins)]\n",
    "\n",
    "    for i in rand_numbers:\n",
    "        frequency[i // int(max/bins)] += 1\n",
    "    return frequency\n",
    "        "
   ]
  },
  {
   "cell_type": "code",
   "execution_count": 131,
   "metadata": {},
   "outputs": [],
   "source": [
    "def test_chi2_for_uniform_distribution(rand_numbers, bins, max, significance_level):\n",
    "    frequency = get_frequency(rand_numbers, bins, max)\n",
    "\n",
    "    expected_frecuency = len(rand_numbers)/bins\n",
    "    aux = 0\n",
    "    for i in frequency:\n",
    "        print(\"i\",i)\n",
    "        print(\"expected\",expected_frecuency)\n",
    "        aux += (i - expected_frecuency)**2\n",
    "    d2 = aux/expected_frecuency\n",
    "\n",
    "    upper_limit = chi2.ppf(1 - significance_level, df=bins-1)\n",
    "\n",
    "    print(d2)\n",
    "    print(upper_limit)\n",
    "    if d2 <= upper_limit:\n",
    "        print(\"hay suf evidencia para rechazar h0\")\n",
    "    else:\n",
    "        print(\"no hay suf evidencia para rechazar h0\")"
   ]
  },
  {
   "cell_type": "code",
   "execution_count": 129,
   "metadata": {},
   "outputs": [],
   "source": [
    "generator = xorshift_generator(55555555)\n",
    "lista =[]\n"
   ]
  },
  {
   "cell_type": "code",
   "execution_count": 130,
   "metadata": {},
   "outputs": [
    {
     "ename": "KeyboardInterrupt",
     "evalue": "",
     "output_type": "error",
     "traceback": [
      "\u001b[0;31m---------------------------------------------------------------------------\u001b[0m",
      "\u001b[0;31mKeyboardInterrupt\u001b[0m                         Traceback (most recent call last)",
      "Cell \u001b[0;32mIn [130], line 2\u001b[0m\n\u001b[1;32m      1\u001b[0m \u001b[38;5;28;01mfor\u001b[39;00m i \u001b[38;5;129;01min\u001b[39;00m \u001b[38;5;28mrange\u001b[39m(\u001b[38;5;241m100000\u001b[39m):\n\u001b[0;32m----> 2\u001b[0m     lista\u001b[38;5;241m.\u001b[39mappend(generator\u001b[38;5;241m.\u001b[39mrand())\n",
      "\u001b[0;31mKeyboardInterrupt\u001b[0m: "
     ]
    }
   ],
   "source": [
    "for i in range(100000):\n",
    "    lista.append(generator.rand())"
   ]
  },
  {
   "cell_type": "code",
   "execution_count": 135,
   "metadata": {},
   "outputs": [
    {
     "data": {
      "image/png": "[encoded data removed]",
      "text/plain": [
       "<Figure size 640x480 with 1 Axes>"
      ]
     },
     "metadata": {},
     "output_type": "display_data"
    }
   ],
   "source": [
    "plt.hist(lista, bins = 2**7)\n",
    "plt.axhline(y=len(lista)/2**7, color = 'red')\n",
    "plt.show()"
   ]
  },
  {
   "cell_type": "code",
   "execution_count": 132,
   "metadata": {},
   "outputs": [
    {
     "name": "stdout",
     "output_type": "stream",
     "text": [
      "i 684\n",
      "expected 671.94\n",
      "i 668\n",
      "expected 671.94\n",
      "i 656\n",
      "expected 671.94\n",
      "i 650\n",
      "expected 671.94\n",
      "i 665\n",
      "expected 671.94\n",
      "i 674\n",
      "expected 671.94\n",
      "i 628\n",
      "expected 671.94\n",
      "i 682\n",
      "expected 671.94\n",
      "i 704\n",
      "expected 671.94\n",
      "i 724\n",
      "expected 671.94\n",
      "i 672\n",
      "expected 671.94\n",
      "i 705\n",
      "expected 671.94\n",
      "i 648\n",
      "expected 671.94\n",
      "i 649\n",
      "expected 671.94\n",
      "i 709\n",
      "expected 671.94\n",
      "i 665\n",
      "expected 671.94\n",
      "i 682\n",
      "expected 671.94\n",
      "i 653\n",
      "expected 671.94\n",
      "i 676\n",
      "expected 671.94\n",
      "i 746\n",
      "expected 671.94\n",
      "i 629\n",
      "expected 671.94\n",
      "i 667\n",
      "expected 671.94\n",
      "i 667\n",
      "expected 671.94\n",
      "i 699\n",
      "expected 671.94\n",
      "i 654\n",
      "expected 671.94\n",
      "i 652\n",
      "expected 671.94\n",
      "i 629\n",
      "expected 671.94\n",
      "i 665\n",
      "expected 671.94\n",
      "i 698\n",
      "expected 671.94\n",
      "i 658\n",
      "expected 671.94\n",
      "i 670\n",
      "expected 671.94\n",
      "i 632\n",
      "expected 671.94\n",
      "i 661\n",
      "expected 671.94\n",
      "i 690\n",
      "expected 671.94\n",
      "i 690\n",
      "expected 671.94\n",
      "i 641\n",
      "expected 671.94\n",
      "i 647\n",
      "expected 671.94\n",
      "i 677\n",
      "expected 671.94\n",
      "i 667\n",
      "expected 671.94\n",
      "i 685\n",
      "expected 671.94\n",
      "i 698\n",
      "expected 671.94\n",
      "i 733\n",
      "expected 671.94\n",
      "i 645\n",
      "expected 671.94\n",
      "i 677\n",
      "expected 671.94\n",
      "i 652\n",
      "expected 671.94\n",
      "i 635\n",
      "expected 671.94\n",
      "i 698\n",
      "expected 671.94\n",
      "i 676\n",
      "expected 671.94\n",
      "i 679\n",
      "expected 671.94\n",
      "i 654\n",
      "expected 671.94\n",
      "i 632\n",
      "expected 671.94\n",
      "i 654\n",
      "expected 671.94\n",
      "i 669\n",
      "expected 671.94\n",
      "i 697\n",
      "expected 671.94\n",
      "i 684\n",
      "expected 671.94\n",
      "i 678\n",
      "expected 671.94\n",
      "i 674\n",
      "expected 671.94\n",
      "i 681\n",
      "expected 671.94\n",
      "i 669\n",
      "expected 671.94\n",
      "i 674\n",
      "expected 671.94\n",
      "i 721\n",
      "expected 671.94\n",
      "i 639\n",
      "expected 671.94\n",
      "i 663\n",
      "expected 671.94\n",
      "i 685\n",
      "expected 671.94\n",
      "i 646\n",
      "expected 671.94\n",
      "i 676\n",
      "expected 671.94\n",
      "i 657\n",
      "expected 671.94\n",
      "i 719\n",
      "expected 671.94\n",
      "i 650\n",
      "expected 671.94\n",
      "i 646\n",
      "expected 671.94\n",
      "i 701\n",
      "expected 671.94\n",
      "i 671\n",
      "expected 671.94\n",
      "i 667\n",
      "expected 671.94\n",
      "i 663\n",
      "expected 671.94\n",
      "i 717\n",
      "expected 671.94\n",
      "i 667\n",
      "expected 671.94\n",
      "i 696\n",
      "expected 671.94\n",
      "i 713\n",
      "expected 671.94\n",
      "i 662\n",
      "expected 671.94\n",
      "i 709\n",
      "expected 671.94\n",
      "i 656\n",
      "expected 671.94\n",
      "i 677\n",
      "expected 671.94\n",
      "i 708\n",
      "expected 671.94\n",
      "i 689\n",
      "expected 671.94\n",
      "i 692\n",
      "expected 671.94\n",
      "i 610\n",
      "expected 671.94\n",
      "i 644\n",
      "expected 671.94\n",
      "i 692\n",
      "expected 671.94\n",
      "i 685\n",
      "expected 671.94\n",
      "i 651\n",
      "expected 671.94\n",
      "i 681\n",
      "expected 671.94\n",
      "i 698\n",
      "expected 671.94\n",
      "i 662\n",
      "expected 671.94\n",
      "i 641\n",
      "expected 671.94\n",
      "i 654\n",
      "expected 671.94\n",
      "i 686\n",
      "expected 671.94\n",
      "i 657\n",
      "expected 671.94\n",
      "i 663\n",
      "expected 671.94\n",
      "i 650\n",
      "expected 671.94\n",
      "i 653\n",
      "expected 671.94\n",
      "94.5704080721493\n",
      "123.2252214533618\n",
      "no hay suf evidencia para rechazar h0\n"
     ]
    }
   ],
   "source": [
    "test_chi2_for_uniform_distribution(lista, 100, 2**32 - 1, 0.05)"
   ]
  },
  {
   "cell_type": "code",
   "execution_count": null,
   "metadata": {},
   "outputs": [],
   "source": []
  },
  {
   "cell_type": "code",
   "execution_count": null,
   "metadata": {},
   "outputs": [],
   "source": []
  }
 ],
 "metadata": {
  "kernelspec": {
   "display_name": "Python 3.10.1 64-bit",
   "language": "python",
   "name": "python3"
  },
  "language_info": {
   "codemirror_mode": {
    "name": "ipython",
    "version": 3
   },
   "file_extension": ".py",
   "mimetype": "text/x-python",
   "name": "python",
   "nbconvert_exporter": "python",
   "pygments_lexer": "ipython3",
   "version": "3.10.1"
  },
  "orig_nbformat": 4,
  "vscode": {
   "interpreter": {
    "hash": "aee8b7b246df8f9039afb4144a1f6fd8d2ca17a180786b69acc140d282b71a49"
   }
  }
 },
 "nbformat": 4,
 "nbformat_minor": 2
}
