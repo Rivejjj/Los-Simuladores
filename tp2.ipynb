{
 "cells": [
  {
   "cell_type": "code",
   "execution_count": 1,
   "metadata": {},
   "outputs": [],
   "source": [
    "from math import e, log\n",
    "import time\n",
    "from heapq import heappush, heappop\n",
    "from scipy.stats import poisson\n",
    "import matplotlib.pyplot as plt\n",
    "import itertools\n",
    "import simpy\n",
    "import numpy as np\n",
    "import random\n",
    "from statistics import mean\n",
    "import seaborn as sns\n",
    "import pandas as pd"
   ]
  },
  {
   "attachments": {},
   "cell_type": "markdown",
   "metadata": {},
   "source": [
    "## Generador de numeros aleatorio del TP1"
   ]
  },
  {
   "cell_type": "code",
   "execution_count": 2,
   "metadata": {},
   "outputs": [],
   "source": [
    "class Xorshift_generator:\n",
    "    def __init__(self, seed):\n",
    "        self.x = seed\n",
    "        self.y = 463820370\n",
    "        self.z = 138409373\n",
    "        self.w = 12872349\n",
    "\n",
    "    def rand(self):\n",
    "        tmp = ( self.x ^ (self.x << 13) ) \n",
    "        self.x = self.y\n",
    "        self.y = self.z\n",
    "        self.z = self.w\n",
    "        self.w = (self.w^(self.w>>17) ) ^ (tmp^(tmp>>5))\n",
    "        return self.w & 0xffffffff\n",
    "    \n",
    "    def get_n_rand(self, n):\n",
    "        rand_numbers = []\n",
    "        for i in range(n):\n",
    "            rand_numbers.append(self.rand())\n",
    "        return rand_numbers"
   ]
  },
  {
   "cell_type": "code",
   "execution_count": 3,
   "metadata": {},
   "outputs": [],
   "source": [
    "class Uniform_generator:\n",
    "    def __init__(self, seed, scale=1, displacement= 0):\n",
    "        self.xorshift_genertor = Xorshift_generator(seed)\n",
    "        self.scale = scale\n",
    "        self.displacement = displacement\n",
    "\n",
    "    def rand(self):\n",
    "        n = self.xorshift_genertor.rand() / ((2**32)-1)\n",
    "        return n * self.scale + self.displacement\n",
    "    \n",
    "    def get_n_rand(self, n):\n",
    "        rand_numbers = []\n",
    "        for i in range(n):\n",
    "            rand_numbers.append(self.rand())\n",
    "        return rand_numbers"
   ]
  },
  {
   "cell_type": "code",
   "execution_count": 4,
   "metadata": {},
   "outputs": [],
   "source": [
    "class Exp_generator:\n",
    "    def __init__(self, seed, parameter=1):\n",
    "        self.parameter = parameter\n",
    "        self.Uniform_generator = Uniform_generator(seed)\n",
    "\n",
    "    def rand(self):\n",
    "        r = self.Uniform_generator.rand()\n",
    "        if self.parameter >=1:\n",
    "            return log(r) / (-1 * self.parameter)\n",
    "        else: \n",
    "            return -log(1 - r) / self.parameter\n",
    "\n",
    "    def get_n_rand(self, n):\n",
    "        rand_numbers = []\n",
    "        for i in range(n):\n",
    "            rand_numbers.append(self.rand())\n",
    "        return rand_numbers"
   ]
  },
  {
   "attachments": {},
   "cell_type": "markdown",
   "metadata": {},
   "source": [
    "Definimos un seed_generator que usaremos a lo largo del tp, para obtener semillas"
   ]
  },
  {
   "cell_type": "code",
   "execution_count": 5,
   "metadata": {},
   "outputs": [],
   "source": [
    "class SeedGenerator:\n",
    "    def __init__(self, seed):\n",
    "        self.xorshift_genertor = Xorshift_generator(seed)\n",
    "\n",
    "    def rand(self, time_dependant=True):\n",
    "        seed = self.xorshift_genertor.rand()\n",
    "        if time_dependant:\n",
    "            seed *= int(time.time())\n",
    "        return seed"
   ]
  },
  {
   "cell_type": "code",
   "execution_count": 6,
   "metadata": {},
   "outputs": [],
   "source": [
    "seed_generator = SeedGenerator(123456789)"
   ]
  },
  {
   "attachments": {},
   "cell_type": "markdown",
   "metadata": {},
   "source": [
    "## Ejercicio 1"
   ]
  },
  {
   "attachments": {},
   "cell_type": "markdown",
   "metadata": {},
   "source": [
    "### Programacion tradicional"
   ]
  },
  {
   "attachments": {},
   "cell_type": "markdown",
   "metadata": {},
   "source": [
    "Definimos un generador de una distribucion de poisson porque lo utilizaremos mas adelante."
   ]
  },
  {
   "cell_type": "code",
   "execution_count": 7,
   "metadata": {},
   "outputs": [],
   "source": [
    "def poisson_probability(parameter, i, previous_probability):\n",
    "    if previous_probability == 0:\n",
    "        return poisson.pmf(i, parameter)\n",
    "    return (parameter/i)*previous_probability\n",
    "\n",
    "class Poisson_generator:\n",
    "    def __init__(self, seed, parameter):\n",
    "        self.parameter = parameter\n",
    "        self.Uniform_generator = Uniform_generator(seed)\n",
    "\n",
    "    def rand(self):\n",
    "        r = self.Uniform_generator.rand()\n",
    "\n",
    "        accumulated_probability = poisson_probability(self.parameter, 0, 0)\n",
    "        previous_probability = accumulated_probability\n",
    "        i = 0\n",
    "\n",
    "        while(accumulated_probability < r):\n",
    "            i += 1\n",
    "            previous_probability = poisson_probability(self.parameter, i, previous_probability)\n",
    "            accumulated_probability += previous_probability\n",
    "\n",
    "        return i\n",
    "    \n",
    "    def get_n_rand(self, n):\n",
    "        rand_numbers = []\n",
    "        for i in range(n):\n",
    "            rand_numbers.append(self.rand())\n",
    "        return rand_numbers"
   ]
  },
  {
   "cell_type": "code",
   "execution_count": 8,
   "metadata": {},
   "outputs": [],
   "source": [
    "def get_random_and_plot(generator, amount, bins):\n",
    "\n",
    "    rand_numbers = generator.get_n_rand(amount)\n",
    "\n",
    "    plt.hist(rand_numbers, bins = bins)\n",
    "    plt.xlabel(\"Valores\")\n",
    "    plt.ylabel(\"Cantidad de apariciones\")\n",
    "    plt.show()"
   ]
  },
  {
   "cell_type": "code",
   "execution_count": 9,
   "metadata": {},
   "outputs": [
    {
     "data": {
      "image/png": "[encoded data removed]",
      "text/plain": [
       "<Figure size 640x480 with 1 Axes>"
      ]
     },
     "metadata": {},
     "output_type": "display_data"
    }
   ],
   "source": [
    "\n",
    "get_random_and_plot(Poisson_generator(seed_generator.rand(), 25), 10000, 100)"
   ]
  },
  {
   "attachments": {},
   "cell_type": "markdown",
   "metadata": {},
   "source": [
    "Asumimos que el satélite da siempre la misma vuelta al mundo que tarda lo mismo, y que se puede pensar al tiempo en que tarda el satelite en llegar a una posicion a la que puede sacar una foto de la request, como una uniforme entre 0 y el tiempo en que tarda en dar la vuelta al mundo. Ya que los puntos sobre el globo se distribuyen uniformemente."
   ]
  },
  {
   "attachments": {},
   "cell_type": "markdown",
   "metadata": {},
   "source": [
    "Para simular el problema lo que hacemos es definir un delta de tiempo (time step), que sera el intervalo de tiempo discreto con el que avanzaremos la simulacion. Por cada iteracion generamos un valor de una distribucion de poisson que representa la cantidad de arribos de solicitudes que llegaron en el ultimo intervalo de tiempo. Por cada solicitud de tiempo que halla llegado, generamos un valor de tiempo con una distribucion uniforme entre 0 y el satelite_period (tiempo en el que tarda en dar la vuelta al mundo el satelite), que representa el tiempo que tardara el satelite en estar en posicion para poder sacar la foto. Por cada iteracion disminuimos el tiempo restante para sacar la foto de cada request en la cola, y agregamos las nuevas. Ademas de ir anotando datos como cuantas veces hubo cada longitud de la request queue, y cuanto fue el tiempo para servir a la primera request para cada longitud de cola."
   ]
  },
  {
   "cell_type": "code",
   "execution_count": 10,
   "metadata": {},
   "outputs": [],
   "source": [
    "def simulate_satelite_request_queue_length(time_step, iterations, request_per_unit_time, satelite_period):\n",
    "    generator_amount_of_request = Poisson_generator(seed_generator.rand(), request_per_unit_time*time_step)\n",
    "    generator_time_to_serve = Uniform_generator(seed_generator.rand(), satelite_period)\n",
    "    simulated_queue = []\n",
    "    observed_queue_length = {}\n",
    "    time_to_serve_first_for_queue_length = {}\n",
    "\n",
    "    for _ in range(iterations):\n",
    "        advance_time(simulated_queue, time_step)\n",
    "        get_acumulated_requests(generator_amount_of_request, simulated_queue, generator_time_to_serve)    \n",
    "        observed_queue_length[len(simulated_queue)] = observed_queue_length.get(len(simulated_queue), 0) + 1\n",
    "        if len(simulated_queue) != 0:\n",
    "            time_to_serve_first_for_queue_length.setdefault(len(simulated_queue), []).append(simulated_queue[0])\n",
    "            \n",
    "    return get_frequencies(observed_queue_length, iterations), get_mean_times(time_to_serve_first_for_queue_length)"
   ]
  },
  {
   "cell_type": "code",
   "execution_count": 11,
   "metadata": {},
   "outputs": [],
   "source": [
    "def advance_time(simulated_queue, time_step):\n",
    "    for i in range(len(simulated_queue)):\n",
    "        simulated_queue[i] -= time_step\n",
    "\n",
    "    while (len(simulated_queue) != 0 and simulated_queue[0] <= 0):\n",
    "        item = heappop(simulated_queue)\n",
    "\n",
    "def get_acumulated_requests(generator_amount_of_request, simulated_queue, generator_time_to_serve):\n",
    "    amount_of_requests = generator_amount_of_request.rand()\n",
    "    for request in range(amount_of_requests):\n",
    "        heappush(simulated_queue, generator_time_to_serve.rand())\n",
    "\n",
    "def get_frequencies(observed_queue_length, iterations):\n",
    "    observed_frequencies = []\n",
    "    for j in range(max(observed_queue_length.keys()) + 1):\n",
    "        times_observed = observed_queue_length.get(j, 0)\n",
    "        observed_frequencies.append(times_observed/iterations)\n",
    "    return observed_frequencies\n",
    "\n",
    "def get_mean_times(time_to_serve_for_queue_length):\n",
    "    mean_times = {}\n",
    "\n",
    "    for key in time_to_serve_for_queue_length:\n",
    "        sum_of_times = 0\n",
    "        for j in time_to_serve_for_queue_length[key]:\n",
    "            sum_of_times += j\n",
    "        mean_times[key] = sum_of_times/len(time_to_serve_for_queue_length[key])\n",
    "    \n",
    "    return mean_times"
   ]
  },
  {
   "attachments": {},
   "cell_type": "markdown",
   "metadata": {},
   "source": [
    "Simulamos un ejemplo donde tomamos que el satelite tarde 48 horas en dar la vuelta al mundo, y que llegan 10 requests por dia en promedio. Usamos un intervalo de media hora y realizamos 50 000 horas de simulacion"
   ]
  },
  {
   "cell_type": "code",
   "execution_count": 12,
   "metadata": {},
   "outputs": [],
   "source": [
    "frequencies, times_to_serve_first = simulate_satelite_request_queue_length(0.5, 100000, 5/12, 48)"
   ]
  },
  {
   "attachments": {},
   "cell_type": "markdown",
   "metadata": {},
   "source": [
    "Podemos ver que como en general se acumulan las request hasta llegar al rededor de 10 y luego tiende a disminuir la cantidad que hay"
   ]
  },
  {
   "cell_type": "code",
   "execution_count": 13,
   "metadata": {},
   "outputs": [],
   "source": [
    "def satelite_frequencies_graph(frequencies):\n",
    "    x_axis = list(range(len(frequencies)))\n",
    "    y_axis = frequencies\n",
    "    plt.plot(x_axis, y_axis)\n",
    "    plt.xlabel('Longitud de request queue')\n",
    "    plt.ylabel('Frecuencia')\n",
    "    plt.show()"
   ]
  },
  {
   "cell_type": "code",
   "execution_count": 14,
   "metadata": {},
   "outputs": [
    {
     "data": {
      "image/png": "[encoded data removed]",
      "text/plain": [
       "<Figure size 640x480 with 1 Axes>"
      ]
     },
     "metadata": {},
     "output_type": "display_data"
    }
   ],
   "source": [
    "satelite_frequencies_graph(frequencies)"
   ]
  },
  {
   "attachments": {},
   "cell_type": "markdown",
   "metadata": {},
   "source": [
    "El paper llegaba a la conclusion de que cuantas mas solicitudes hayan en la cola, el tiempo que se tarda en servir estas request es menor. Para verificar esto miramos el siguiente grafico que muestra el tiempo promedio que tarda el satelite en servir al primer request de la cola."
   ]
  },
  {
   "cell_type": "code",
   "execution_count": 15,
   "metadata": {},
   "outputs": [],
   "source": [
    "def satelite_times_to_serve_first(times_to_serve_first):\n",
    "    plt.bar(times_to_serve_first.keys(), times_to_serve_first.values())\n",
    "    plt.xlabel(\"Queue length\")\n",
    "    plt.ylabel(\"Avarege time to serve first request\")\n",
    "    plt.show()"
   ]
  },
  {
   "cell_type": "code",
   "execution_count": 16,
   "metadata": {},
   "outputs": [
    {
     "data": {
      "image/png": "[encoded data removed]",
      "text/plain": [
       "<Figure size 640x480 with 1 Axes>"
      ]
     },
     "metadata": {},
     "output_type": "display_data"
    }
   ],
   "source": [
    "satelite_times_to_serve_first(times_to_serve_first)"
   ]
  },
  {
   "attachments": {},
   "cell_type": "markdown",
   "metadata": {},
   "source": [
    "Cabe aclarar que los valores en los extremos de este grafico no son representativos debido a la poca aparicion de dichas longitudes de cola, como se puede ver en el grafico de las frecuencias. Por ejemplo el valor de longitud de cola 1, depende altamente de la corrida, y se han observado valores desde 12 a 24."
   ]
  },
  {
   "attachments": {},
   "cell_type": "markdown",
   "metadata": {},
   "source": [
    "Vemos que en este caso asi sucede, cuantas mas solicitudes hay en la cola menor es el tiempo para tomar la foto. Esto tiene sentido ya que cuantas mas request hayan en espera mas chances habra de que haya alguna mas cercana al satelite.  \n",
    "Si bien el grafico solo muestra la primera request, como esto se modela como un proceso de Poisson, por propiedad de perdidad de memoria se puede ver que se cumplira para el tiempo entre todos los arribos. "
   ]
  },
  {
   "attachments": {},
   "cell_type": "markdown",
   "metadata": {},
   "source": [
    "### Simpy "
   ]
  },
  {
   "attachments": {},
   "cell_type": "markdown",
   "metadata": {},
   "source": [
    "Para realizar la simulacion utilizando simpy vamos a definir dos procesos. Por un lado el satelite_request_generator que va a generar request, cada un lapso de tiempo aleatorio segun una distribucion exponencial de parametro request_per_unit_time. Cada request tiene un tiempo uniforme entre 0 y satellite_period y es pusheada a la request queue que se modela como un heap. Por el otro, tendremos un proceso satelite_process_queue, que se encarga de actualizar cada un tiempo time_slice los valores de las request de la cola, y sacar cualquiera que se haya cumplido en ese lapso"
   ]
  },
  {
   "cell_type": "code",
   "execution_count": 17,
   "metadata": {},
   "outputs": [],
   "source": [
    "def satelite_process_queue(env, simulated_queue, time_step, observed_queue_length, time_to_serve_first_for_queue_length):\n",
    "    while True:\n",
    "        yield env.timeout(time_step)\n",
    "        advance_time(simulated_queue, time_step) \n",
    "        observed_queue_length[len(simulated_queue)] = observed_queue_length.get(len(simulated_queue), 0) + 1\n",
    "        if len(simulated_queue) != 0:\n",
    "            time_to_serve_first_for_queue_length.setdefault(len(simulated_queue), []).append(simulated_queue[0])"
   ]
  },
  {
   "cell_type": "code",
   "execution_count": 18,
   "metadata": {},
   "outputs": [],
   "source": [
    "def satellite_request_gen(env, simulated_queue, satellite_period, request_per_unit_time):\n",
    "    exp_generator = Exp_generator(seed_generator.rand(), request_per_unit_time)\n",
    "    uni_generator = Uniform_generator(seed_generator.rand(), satellite_period)\n",
    "    while True:\n",
    "        time_for_next_req = exp_generator.rand()\n",
    "        time_for_image = uni_generator.rand()\n",
    "        yield env.timeout(time_for_next_req)\n",
    "        heappush(simulated_queue, time_for_image)\n",
    "        "
   ]
  },
  {
   "attachments": {},
   "cell_type": "markdown",
   "metadata": {},
   "source": [
    "Simulamos un ejemplo donde tomamos que el satelite tarde 48 horas en dar la vuelta al mundo, y que llegan 10 requests por dia en promedio. Usamos un intervalo de media hora y realizamos 50 000 horas de simulacion"
   ]
  },
  {
   "cell_type": "code",
   "execution_count": 19,
   "metadata": {},
   "outputs": [],
   "source": [
    "env = simpy.Environment()\n",
    "\n",
    "simulated_queue = []\n",
    "observed_queue_length = {}\n",
    "time_to_serve_first_for_queue_length = {}\n",
    "satellite_period = 48\n",
    "request_per_unit_time = 5/12\n",
    "time_step = 0.5\n",
    "iterations = 100000\n",
    "env.process(satellite_request_gen(env, simulated_queue, satellite_period, request_per_unit_time))\n",
    "env.process(satelite_process_queue(env, simulated_queue, time_step, observed_queue_length, time_to_serve_first_for_queue_length))\n",
    "env.run(time_step*iterations)"
   ]
  },
  {
   "attachments": {},
   "cell_type": "markdown",
   "metadata": {},
   "source": [
    "Graficamos nuevamente los graficos que se hicieron con el modelo simulado con programacion principal."
   ]
  },
  {
   "cell_type": "code",
   "execution_count": 20,
   "metadata": {},
   "outputs": [],
   "source": [
    "frequencies = get_frequencies(observed_queue_length, iterations)\n",
    "times_to_serve_first = get_mean_times(time_to_serve_first_for_queue_length)"
   ]
  },
  {
   "cell_type": "code",
   "execution_count": 21,
   "metadata": {},
   "outputs": [
    {
     "data": {
      "image/png": "[encoded data removed]",
      "text/plain": [
       "<Figure size 640x480 with 1 Axes>"
      ]
     },
     "metadata": {},
     "output_type": "display_data"
    }
   ],
   "source": [
    "satelite_frequencies_graph(frequencies)"
   ]
  },
  {
   "cell_type": "code",
   "execution_count": 22,
   "metadata": {},
   "outputs": [
    {
     "data": {
      "image/png": "[encoded data removed]",
      "text/plain": [
       "<Figure size 640x480 with 1 Axes>"
      ]
     },
     "metadata": {},
     "output_type": "display_data"
    }
   ],
   "source": [
    "satelite_times_to_serve_first(times_to_serve_first)"
   ]
  },
  {
   "attachments": {},
   "cell_type": "markdown",
   "metadata": {},
   "source": [
    "Como se dijo anteriormente los valores de los extremos no son representativos, por eso a pesar de cercano a 12 mientras que en la simulacion a mano daba cerca a 24, podemos decir que los resultados son similares."
   ]
  },
  {
   "attachments": {},
   "cell_type": "markdown",
   "metadata": {},
   "source": [
    "Vemos que los resultados obtenidos son muy similares, y podemos llegar a la misma conclusion, ya que nuevamente vemos como dismuye el tiempo que tarda en llegar a la posicion en la que se toma la primera foto a medida que aumentan las solicitudes en la cola."
   ]
  },
  {
   "attachments": {},
   "cell_type": "markdown",
   "metadata": {},
   "source": [
    "## Ejercicio 2"
   ]
  },
  {
   "attachments": {},
   "cell_type": "markdown",
   "metadata": {},
   "source": [
    "### Simulacion"
   ]
  },
  {
   "cell_type": "code",
   "execution_count": 23,
   "metadata": {},
   "outputs": [],
   "source": [
    "SIM_TIME = 7 * 24 * 60 # Una semana en minutos  "
   ]
  },
  {
   "attachments": {},
   "cell_type": "markdown",
   "metadata": {},
   "source": [
    "Para facilitar la simulacion de las dos maquinas definiremos una clase Machine, que nos permitira definir cuantas maquinas utilizamos en la simulacion. Dentro de esta clase guardamos informacion util, asi como tambien en una segunda clase auxiliar llamada RequestQueueStats. "
   ]
  },
  {
   "cell_type": "code",
   "execution_count": 24,
   "metadata": {},
   "outputs": [],
   "source": [
    "class Machine:\n",
    "    \n",
    "    def __init__(self,id):\n",
    "        self.working_time = 0\n",
    "        self.requests_taken = 0\n",
    "        self.id = id\n",
    "        self.req_time_stats = []\n",
    "        self.procesing_requests = False\n",
    "    \n",
    "    def process_request(self, request):\n",
    "        self.requests_taken += 1\n",
    "        self.working_time += request\n",
    "\n",
    "    def add_req_time_stat(self, time_tup):\n",
    "        # The tuple has the following format: (req_buffer_time, req_system_time)\n",
    "        self.req_time_stats.append(time_tup)\n",
    "\n",
    "    def is_processing_requests(self):\n",
    "        return self.procesing_requests\n",
    "\n",
    "class RequestQueueStats:\n",
    "    def __init__(self, queue_length):\n",
    "        self.queue_length = queue_length\n",
    "        self.rejected_requests = 0\n",
    "        self.total_requests = 0\n",
    "        self.amount_of_requests_in_queue = []\n",
    "        self.amount_of_requests_in_system = []\n",
    "\n",
    "    def inc_rejected_requests(self):\n",
    "        self.rejected_requests +=1\n",
    "        self.total_requests +=1\n",
    "    \n",
    "    def inc_accepted_requests(self):\n",
    "        self.total_requests +=1\n",
    "\n",
    "    def rejected_ratio(self):\n",
    "        return self.rejected_requests / self.total_requests\n",
    "    \n",
    "    def add_amount_of_requests_in_queue(self, amount_of_requests):\n",
    "        self.amount_of_requests_in_queue.append(amount_of_requests)\n",
    "\n",
    "    def add_amount_of_requests_in_system(self, amount_of_requests):\n",
    "        self.amount_of_requests_in_system.append(amount_of_requests)\n",
    "\n",
    "    def mean_amount_of_requests_in_queue(self):\n",
    "        aux = mean(self.amount_of_requests_in_queue)\n",
    "        print(f\"cantidad media de elementos en el buffer: {aux}\")\n",
    "        return aux\n",
    "\n",
    "    def mean_amount_of_requests_in_system(self):\n",
    "        aux = mean(self.amount_of_requests_in_system)\n",
    "        print(f\"cantidad media de elementos en el buffer: {mean(self.amount_of_requests_in_system)}\")\n",
    "        return aux\n",
    "        "
   ]
  },
  {
   "attachments": {},
   "cell_type": "markdown",
   "metadata": {},
   "source": [
    "Vamos a definir 3 procesos para la simulacion con simpy"
   ]
  },
  {
   "attachments": {},
   "cell_type": "markdown",
   "metadata": {},
   "source": [
    "Request_generator se encarga de generar la llegada de solicitudes al sistema, que llegan distribuidas como un proceso de poisson de parametro 10. Una vez generada la request se envia a una cola donde esperan que alguna de las maquinas de la simulacion las procese."
   ]
  },
  {
   "cell_type": "code",
   "execution_count": 25,
   "metadata": {},
   "outputs": [],
   "source": [
    "def request_generator(env, requests_buffer, seed, requests_stats, request_queue_size):\n",
    "    \"\"\"Las solicitudes llegan siguiendo un proceso Poisson con una frecuencia media de 10\n",
    "    por minuto. Por ende el tiempo entre 2 solicitudes consecutivas seguira una distribucion\n",
    "    Exponencial de parametro 10.\"\"\"\n",
    "    exponential_gen = Exp_generator(seed, 10) \n",
    "    \n",
    "    for i in itertools.count():\n",
    "        time_for_next_request = exponential_gen.rand()\n",
    "        yield env.timeout(time_for_next_request)\n",
    "\n",
    "        if len(requests_buffer.items) == request_queue_size:\n",
    "            requests_stats.inc_rejected_requests() \n",
    "        else:\n",
    "            requests_stats.inc_accepted_requests()\n",
    "            yield requests_buffer.put(env.now)\n"
   ]
  },
  {
   "attachments": {},
   "cell_type": "markdown",
   "metadata": {},
   "source": [
    "Procesing machine se encarga de simular el procesamiento de las maquinas, estas toman una request del request_buffer para simular el tiempo que se demora en procesar. Este tiempo dependera del tipo de maquina que se este usando"
   ]
  },
  {
   "cell_type": "code",
   "execution_count": 26,
   "metadata": {},
   "outputs": [],
   "source": [
    "def processing_machine(env, requests_center, requests_buffer, seed, machine, new_machine):\n",
    "    exponential_gen = Exp_generator(seed, 6)\n",
    "    \n",
    "    while True:\n",
    "        \n",
    "        time_to_process = 0.01\n",
    "        request_processed = False\n",
    "        with requests_center.request() as req:\n",
    "            yield req\n",
    "            \n",
    "            if len(requests_buffer.items) != 0:\n",
    "                machine.procesing_requests = True\n",
    "                arrival_time = yield requests_buffer.get()\n",
    "                buffer_time = env.now - arrival_time\n",
    "                if new_machine:\n",
    "                    time_to_process = 5/60\n",
    "                else: \n",
    "                    time_to_process = exponential_gen.rand()\n",
    "\n",
    "                machine.process_request(time_to_process)\n",
    "                request_processed = True\n",
    "          \n",
    "        # If there are no requests to process in the buffer, the timeout is of 0 seconds.\n",
    "        yield env.timeout(time_to_process)\n",
    "        if request_processed:\n",
    "            machine.procesing_requests = False\n",
    "            system_time = env.now - arrival_time\n",
    "            time_tup = (buffer_time, system_time)\n",
    "            machine.add_req_time_stat(time_tup)"
   ]
  },
  {
   "attachments": {},
   "cell_type": "markdown",
   "metadata": {},
   "source": [
    "Finalmente definiremos un ultimo proceso, para ayudarnos a la hora de tomar estadisticas. Esencialmente lo que hace este proceso es tomar una foto del estado de la simulacion cada 1 segundo y guardarlo ya sea en la machine o en el request_queue_stats."
   ]
  },
  {
   "cell_type": "code",
   "execution_count": 27,
   "metadata": {},
   "outputs": [],
   "source": [
    "def buffer_stats(env, buffer, requests_queue_stats, machines):\n",
    "    while True:\n",
    "        requests_in_buffer = len(buffer.items)\n",
    "        requests_queue_stats.add_amount_of_requests_in_queue(requests_in_buffer)\n",
    "        requests_in_system = requests_in_buffer\n",
    "        for machine in machines:\n",
    "            if machine.is_processing_requests():\n",
    "                requests_in_system += 1\n",
    "\n",
    "        requests_queue_stats.add_amount_of_requests_in_system(requests_in_system)\n",
    "        yield env.timeout(1/60)"
   ]
  },
  {
   "attachments": {},
   "cell_type": "markdown",
   "metadata": {},
   "source": [
    "Con processing_center_simulation se nos permite decidir que evento queremos simular (con las 2 maquinas viejas o con 1 maquina nueva). Ademas, recibe como parametro el tamaño de la request_queue que influye en el comportamiento de la simulacion."
   ]
  },
  {
   "cell_type": "code",
   "execution_count": 28,
   "metadata": {},
   "outputs": [],
   "source": [
    "def processing_center_simulation(request_queue_size, amount_of_machines ,new_system):\n",
    "    env = simpy.Environment()\n",
    "    requests_center = simpy.Resource(env, 1)\n",
    "    requests_buffer = simpy.Store(env, request_queue_size)\n",
    "    requests_queue_stats = RequestQueueStats(request_queue_size)\n",
    "    env.process(request_generator(env, requests_buffer, seed_generator.rand(), requests_queue_stats, request_queue_size))\n",
    "\n",
    "    machines = []\n",
    "    for i in range(amount_of_machines):\n",
    "        machine = Machine(i)\n",
    "        machines.append(machine)\n",
    "        env.process(processing_machine(env, requests_center, requests_buffer, seed_generator.rand(), machine, new_system))\n",
    "    env.process(buffer_stats(env, requests_buffer, requests_queue_stats, machines))\n",
    "\n",
    "    env.run(until=SIM_TIME)\n",
    "\n",
    "    return machines, requests_queue_stats\n"
   ]
  },
  {
   "attachments": {},
   "cell_type": "markdown",
   "metadata": {},
   "source": [
    "Simulamos las 2 maquinas con el sistema viejo tomando un tama;o arbitrario de la cola de 15."
   ]
  },
  {
   "cell_type": "code",
   "execution_count": 29,
   "metadata": {},
   "outputs": [],
   "source": [
    "machines, request_queue_stats = processing_center_simulation(15, 2, False)"
   ]
  },
  {
   "attachments": {},
   "cell_type": "markdown",
   "metadata": {},
   "source": [
    "### Estadisticas"
   ]
  },
  {
   "attachments": {},
   "cell_type": "markdown",
   "metadata": {},
   "source": [
    "Calculamos estadisticas utilizando los datos recolectados durante la simulacion"
   ]
  },
  {
   "attachments": {},
   "cell_type": "markdown",
   "metadata": {},
   "source": [
    "Ocupation factor de cada maquina"
   ]
  },
  {
   "cell_type": "code",
   "execution_count": 30,
   "metadata": {},
   "outputs": [
    {
     "name": "stdout",
     "output_type": "stream",
     "text": [
      "machine 1 ocupation_factor: 0.8275891646691469\n",
      "machine 2 ocupation_factor: 0.8266223439513173\n",
      "ocupation_factor: 0.8271057543102321\n"
     ]
    }
   ],
   "source": [
    "m1_ocupation_factor = machines[0].working_time/SIM_TIME\n",
    "m2_ocupation_factor = machines[1].working_time/SIM_TIME\n",
    "ocupation_factor = (machines[0].working_time + machines[1].working_time)/(SIM_TIME*2)\n",
    "print(f\"machine 1 ocupation_factor: {m1_ocupation_factor}\")\n",
    "print(f\"machine 2 ocupation_factor: {m2_ocupation_factor}\")\n",
    "print(f\"ocupation_factor: {ocupation_factor}\")\n"
   ]
  },
  {
   "attachments": {},
   "cell_type": "markdown",
   "metadata": {},
   "source": [
    "Cantidad media de elementos en el buffer"
   ]
  },
  {
   "cell_type": "code",
   "execution_count": 31,
   "metadata": {},
   "outputs": [
    {
     "name": "stdout",
     "output_type": "stream",
     "text": [
      "cantidad media de elementos en el buffer: 3.1225593211651437\n"
     ]
    }
   ],
   "source": [
    "mean_amount_of_requests_in_queue = request_queue_stats.mean_amount_of_requests_in_queue()"
   ]
  },
  {
   "attachments": {},
   "cell_type": "markdown",
   "metadata": {},
   "source": [
    "Calculamos la cantidad media de solicitudes en el sistema"
   ]
  },
  {
   "cell_type": "code",
   "execution_count": 32,
   "metadata": {},
   "outputs": [
    {
     "name": "stdout",
     "output_type": "stream",
     "text": [
      "cantidad media de elementos en el buffer: 4.776787736792763\n"
     ]
    }
   ],
   "source": [
    "_ = request_queue_stats.mean_amount_of_requests_in_system()"
   ]
  },
  {
   "attachments": {},
   "cell_type": "markdown",
   "metadata": {},
   "source": [
    "Average request time in buffer"
   ]
  },
  {
   "cell_type": "code",
   "execution_count": 33,
   "metadata": {},
   "outputs": [],
   "source": [
    "def avg_request_time(machines, index):\n",
    "    time_in_buffer = 0\n",
    "    total_amount_of_requests = 0\n",
    "    for machine in machines:\n",
    "        total_amount_of_requests += len(machine.req_time_stats)\n",
    "        for time_tup in machine.req_time_stats:\n",
    "            time_in_buffer += time_tup[index]\n",
    "    return time_in_buffer/total_amount_of_requests"
   ]
  },
  {
   "cell_type": "code",
   "execution_count": 34,
   "metadata": {},
   "outputs": [
    {
     "name": "stdout",
     "output_type": "stream",
     "text": [
      "Average time in buffer: 0.3144931729736179 minutes\n",
      "Average time in buffer: 18.869590378417072 seconds\n"
     ]
    }
   ],
   "source": [
    "avg_buff_time = avg_request_time(machines, 0)\n",
    "\n",
    "print(f\"Average time in buffer: {avg_buff_time} minutes\")\n",
    "print(f\"Average time in buffer: {avg_buff_time*60} seconds\")"
   ]
  },
  {
   "attachments": {},
   "cell_type": "markdown",
   "metadata": {},
   "source": [
    "Average time in system"
   ]
  },
  {
   "cell_type": "code",
   "execution_count": 35,
   "metadata": {},
   "outputs": [
    {
     "name": "stdout",
     "output_type": "stream",
     "text": [
      "avg time in system: 0.4811399035744642 minutes\n",
      "avg time in system: 28.868394214467852 seconds\n"
     ]
    }
   ],
   "source": [
    "avg_sys_time = avg_request_time(machines, 1)\n",
    "\n",
    "print(f\"avg time in system: {avg_sys_time} minutes\")\n",
    "print(f\"avg time in system: {avg_sys_time*60} seconds\")"
   ]
  },
  {
   "attachments": {},
   "cell_type": "markdown",
   "metadata": {},
   "source": [
    "Determinar el tamaño del buffer para que la probabilidad de que NO haya lugar para recibir solicitudes sea\n",
    "como mucho 3%."
   ]
  },
  {
   "attachments": {},
   "cell_type": "markdown",
   "metadata": {},
   "source": [
    "Para verificar que se rechazan como mucho 3% de las solucitudes lo que hacemos es calcular el rejected ratio, es decir cuantas solicitudes no entraron en el buffer dividido la cantidad de solicitudes totales. Si bien este resultado depende de la muestra, consideramos que es confiable debido a la alta cantidad de muestras (que se toman cada 1 segundo), dado a que simulamos una semana de tiempo"
   ]
  },
  {
   "attachments": {},
   "cell_type": "markdown",
   "metadata": {},
   "source": [
    "Usando lo ya simulado con una cola de tamaño 15 vemos que el rejected_ratio cumple con ser menor a 0.03"
   ]
  },
  {
   "cell_type": "code",
   "execution_count": 36,
   "metadata": {},
   "outputs": [
    {
     "data": {
      "text/plain": [
       "0.008471973127495765"
      ]
     },
     "execution_count": 36,
     "metadata": {},
     "output_type": "execute_result"
    }
   ],
   "source": [
    "request_queue_stats.rejected_ratio()"
   ]
  },
  {
   "attachments": {},
   "cell_type": "markdown",
   "metadata": {},
   "source": [
    "Como ya sabemos que con longitud 15 se cumple que el rejected ratio sea menor a 0.03, para obtener cual es el menor valor de longitud de la request_queue, simulamos reduciendo la longitud de la misma hasta que no se cumpla la condicion."
   ]
  },
  {
   "cell_type": "code",
   "execution_count": 76,
   "metadata": {},
   "outputs": [
    {
     "name": "stdout",
     "output_type": "stream",
     "text": [
      "El rejected ratio con una longitud de cola 14  = 0.010698802847711093\n",
      "El rejected ratio con una longitud de cola 13  = 0.012435991221653255\n",
      "El rejected ratio con una longitud de cola 12  = 0.014835175739774147\n",
      "El rejected ratio con una longitud de cola 11  = 0.018572112889705002\n",
      "El rejected ratio con una longitud de cola 10  = 0.023186676609495402\n",
      "El rejected ratio con una longitud de cola 9  = 0.02781283225851327\n",
      "El rejected ratio con una longitud de cola 8  = 0.036351769627087804\n",
      "El mayor tamaño de cola que no cumple la condicion es 8, por lo que el menor tamaño de buffer con el que conseguimos un rejected ratio menor a 0.03 es 9\n"
     ]
    }
   ],
   "source": [
    "queue_size = 15\n",
    "rejected_ratio = request_queue_stats.rejected_ratio()\n",
    "ratios = {}\n",
    "while rejected_ratio < 0.03:\n",
    "    queue_size -= 1\n",
    "    _, aux_request_queue_stats = processing_center_simulation(queue_size, 2,False)\n",
    "    rejected_ratio = aux_request_queue_stats.rejected_ratio()\n",
    "    ratios[queue_size] = rejected_ratio\n",
    "    print(f\"El rejected ratio con una longitud de cola {queue_size}  = {rejected_ratio}\")\n",
    "print(f'El mayor tamaño de cola que no cumple la condicion es {queue_size}, por lo que el menor tamaño de buffer con el que conseguimos un rejected ratio menor a 0.03 es {queue_size + 1}')"
   ]
  },
  {
   "cell_type": "code",
   "execution_count": 77,
   "metadata": {},
   "outputs": [
    {
     "data": {
      "image/png": "[encoded data removed]",
      "text/plain": [
       "<Figure size 640x480 with 1 Axes>"
      ]
     },
     "metadata": {},
     "output_type": "display_data"
    }
   ],
   "source": [
    "plt.bar(list(ratios.keys()), list(ratios.values()))\n",
    "\n",
    "# Configurar los ejes\n",
    "plt.xlabel('Claves')\n",
    "plt.ylabel('Valores')\n",
    "plt.show()"
   ]
  },
  {
   "attachments": {},
   "cell_type": "markdown",
   "metadata": {},
   "source": [
    "Evaluar la posibilidad de reemplazar las dos máquinas por una sola que procesa todos las solicitudes en\n",
    "un tiempo fijo de 5 segundos. Si el costo de tener solicitudes en el buffer es 0,2 USD/minuto y el costo\n",
    "de modificar la máquina es 2000 USD, Cuánto tiempo tomará amortizar el inversión?"
   ]
  },
  {
   "attachments": {},
   "cell_type": "markdown",
   "metadata": {},
   "source": [
    "Para ver en cuanto tiempo se amortiza la nueva maquina, consideramos que se debe pagar 0,2 por cada tarea por cada minuto que este en el sistema. En promedio, cada sistema genera un gasto por minuto de cantidad_media_en_el_buffer * 0,2. Si queremos obtener en que momento se amortiza la inversion inicial de la nueva maquina tenemos que plantear la siguiente ecuacion.  \n",
    "(cantidad_media_en_el_buffer_del_viejo_sistema * 0,2)t = (cantidad_media_en_el_buffer_del_nuevo_sistema * 0,2)t + 2000  \n",
    "despejando t obtenemos  \n",
    "t = 2000 / (cantidad_media_en_el_buffer_del_viejo_sistema *0,2 - cantidad_media_en_el_buffer_del_nuevo_sistema*0,2) "
   ]
  },
  {
   "cell_type": "code",
   "execution_count": 38,
   "metadata": {},
   "outputs": [],
   "source": [
    "mean_amount_of_requests_in_queue_old_system = mean_amount_of_requests_in_queue"
   ]
  },
  {
   "attachments": {},
   "cell_type": "markdown",
   "metadata": {},
   "source": [
    "Simulamos con una cola de igual longitud bajo el nuevo sistema"
   ]
  },
  {
   "cell_type": "code",
   "execution_count": 39,
   "metadata": {},
   "outputs": [
    {
     "name": "stdout",
     "output_type": "stream",
     "text": [
      "cantidad media de elementos en el buffer: 2.0348627069069\n"
     ]
    }
   ],
   "source": [
    "_, request_queue_stats = processing_center_simulation(15, 1, True)\n",
    "mean_amount_of_requests_in_queue_new_system = request_queue_stats.mean_amount_of_requests_in_queue()"
   ]
  },
  {
   "attachments": {},
   "cell_type": "markdown",
   "metadata": {},
   "source": [
    "Se amortizara el costo cuandos e intersequen las rectas de acumulacion de costo."
   ]
  },
  {
   "cell_type": "code",
   "execution_count": 40,
   "metadata": {},
   "outputs": [
    {
     "data": {
      "image/png": "[encoded data removed]",
      "text/plain": [
       "<Figure size 640x480 with 1 Axes>"
      ]
     },
     "metadata": {},
     "output_type": "display_data"
    }
   ],
   "source": [
    "x1 = np.linspace(0, 10, 100)\n",
    "y1 = 0.2 * 60 * 24 * mean_amount_of_requests_in_queue_old_system * x1 \n",
    "\n",
    "x2 = np.linspace(0, 10, 100)\n",
    "y2 = 0.2 * 60 * 24 * mean_amount_of_requests_in_queue_new_system * x2 + 2000\n",
    "\n",
    "plt.plot(x1, y1, label='Viejo sistema')\n",
    "plt.plot(x2, y2, label='Nuevo sistema')\n",
    "plt.xlabel(\"Dias\")\n",
    "plt.ylabel(\"Costo acumulado\")\n",
    "plt.legend()\n",
    "plt.show()"
   ]
  },
  {
   "attachments": {},
   "cell_type": "markdown",
   "metadata": {},
   "source": [
    "Calculamos el tiempo medio hasta amortizar la inversion inicial"
   ]
  },
  {
   "cell_type": "code",
   "execution_count": 41,
   "metadata": {},
   "outputs": [
    {
     "name": "stdout",
     "output_type": "stream",
     "text": [
      "Se tardarian 9193.740119177917 minutos\n",
      "Se tardarian 153.2290019862986 horas\n",
      "Se tardarian 6.384541749429109 dias\n"
     ]
    }
   ],
   "source": [
    "time_to_break_even = 2000 / (mean_amount_of_requests_in_queue_old_system * 0.2 - mean_amount_of_requests_in_queue_new_system * 0.2)\n",
    "print(f\"Se tardarian {time_to_break_even} minutos\")\n",
    "time_to_break_even = time_to_break_even/60\n",
    "print(f\"Se tardarian {time_to_break_even} horas\")\n",
    "time_to_break_even = time_to_break_even/24\n",
    "print(f\"Se tardarian {time_to_break_even} dias\")"
   ]
  },
  {
   "attachments": {},
   "cell_type": "markdown",
   "metadata": {},
   "source": [
    "## EJERCICIO 3"
   ]
  },
  {
   "cell_type": "code",
   "execution_count": 42,
   "metadata": {},
   "outputs": [],
   "source": [
    "SIM_TIME_3 = 30 * 24 * 4"
   ]
  },
  {
   "attachments": {},
   "cell_type": "markdown",
   "metadata": {},
   "source": [
    "Para simular este evento, tenemos la clase Truck, de la cual se creara una instancia por cada camion que llegue al centro de distribucion. Dentro de la clase podemos guardar sus tiempos que nos serviran para las estadisticas y ademas tiene como metodo a la funcion download_shipment que simulara el camion tratando de descargar su carga, pero solo si consigue alguna de las 4 darsenas que pueden estar ocupadas por otros camiones, si no consigue darsena, se queda esperando hasta conseguir una."
   ]
  },
  {
   "cell_type": "code",
   "execution_count": 43,
   "metadata": {},
   "outputs": [],
   "source": [
    "class Truck:\n",
    "\n",
    "    def __init__(self, env, id, arrival_time):\n",
    "        self.env = env\n",
    "        self.id = id\n",
    "        self.arrival_time = arrival_time\n",
    "        self.download_shipment_time = None\n",
    "        self.finish_time = None\n",
    "\n",
    "\n",
    "    def download_shipment(self, distribution_center, exp_generator):\n",
    "        \n",
    "        with distribution_center.request() as req:\n",
    "            yield req\n",
    "            self.download_shipment_time = env.now\n",
    "            time_to_download = exp_generator.rand()\n",
    "\n",
    "            yield env.timeout(time_to_download)\n",
    "            self.finish_time = env.now"
   ]
  },
  {
   "attachments": {},
   "cell_type": "markdown",
   "metadata": {},
   "source": [
    "Definimos tambien el proceso truck_generator que se encarga de simular el arribo de camiones, y crear una instancia de la calse camion. Ademas dependiendo del tipo de sistema de identificacion, se usaran distintos generadores para determinar el tiempo de descarga."
   ]
  },
  {
   "cell_type": "code",
   "execution_count": 44,
   "metadata": {},
   "outputs": [],
   "source": [
    "def truck_generator(env, distribution_center, trucks, id_type, trucks_per_unit_time):\n",
    "    arraival_time_generator = Exp_generator(seed_generator.rand(), trucks_per_unit_time)\n",
    "    if id_type == 'barcode':\n",
    "        download_time_generator = Exp_generator(seed_generator.rand(), 2)\n",
    "    else:\n",
    "        download_time_generator = Exp_generator(seed_generator.rand(), 12/5)\n",
    "\n",
    "    for i in itertools.count():\n",
    "        time_for_next_truck = arraival_time_generator.rand()\n",
    "        yield env.timeout(time_for_next_truck)\n",
    "        \n",
    "        truck = Truck(env, i, env.now)\n",
    "        env.process(truck.download_shipment(distribution_center, download_time_generator))\n",
    "        trucks.append(truck)"
   ]
  },
  {
   "attachments": {},
   "cell_type": "markdown",
   "metadata": {},
   "source": [
    "Simulamos el sscenario en el que se usa codigo de barras para descargar y hay 4 darsenas"
   ]
  },
  {
   "cell_type": "code",
   "execution_count": 45,
   "metadata": {},
   "outputs": [],
   "source": [
    "env = simpy.Environment()\n",
    "distribution_center = simpy.Resource(env, 4)\n",
    "\n",
    "trucks = []\n",
    "env.process(truck_generator(env, distribution_center, trucks, 'barcode', 5))\n",
    "env.run(SIM_TIME_3)"
   ]
  },
  {
   "attachments": {},
   "cell_type": "markdown",
   "metadata": {},
   "source": [
    "Obtenemos la cantidad media de camiones en el sistema y en el buffer"
   ]
  },
  {
   "cell_type": "code",
   "execution_count": 46,
   "metadata": {},
   "outputs": [],
   "source": [
    "def mean_trucks_quantity(trucks):\n",
    "    # We cheack for every second how many trucks were in the system, buffer, their times, etc.\n",
    "    system_quantity = []\n",
    "    buffer_quantity = []\n",
    "    curr_time = 0\n",
    "    while curr_time < SIM_TIME_3:\n",
    "        trucks_in_system = 0\n",
    "        trucks_in_buffer = 0\n",
    "        for truck in trucks:\n",
    "            if not all([truck.download_shipment_time,truck.finish_time]):\n",
    "                # If the truck never got out of the buffer or system before the simulation ended, their times cannot be taken into account\n",
    "                continue\n",
    "\n",
    "            if truck.arrival_time < curr_time < truck.finish_time:\n",
    "                trucks_in_system += 1\n",
    "\n",
    "            if truck.arrival_time < curr_time < truck.download_shipment_time:\n",
    "                trucks_in_buffer += 1\n",
    "        system_quantity.append(trucks_in_system)\n",
    "        buffer_quantity.append(trucks_in_buffer)\n",
    "        curr_time += 0.2\n",
    "\n",
    "    print(\"mean trucks in system \",mean(system_quantity))\n",
    "    print(\"mean trucks in buffer \",mean(buffer_quantity))\n",
    "\n"
   ]
  },
  {
   "cell_type": "code",
   "execution_count": 47,
   "metadata": {},
   "outputs": [
    {
     "name": "stdout",
     "output_type": "stream",
     "text": [
      "mean trucks in system  3.015415596139157\n",
      "mean trucks in buffer  0.5331574196236373\n"
     ]
    }
   ],
   "source": [
    "mean_trucks_quantity(trucks)"
   ]
  },
  {
   "attachments": {},
   "cell_type": "markdown",
   "metadata": {},
   "source": [
    "Obtenemos el tiempo media de cada camion en el buffer y en el sistema"
   ]
  },
  {
   "cell_type": "code",
   "execution_count": 48,
   "metadata": {},
   "outputs": [],
   "source": [
    "def mean_trucks_time(trucks):\n",
    "    collective_time_in_system = 0\n",
    "    collective_time_in_buffer = 0\n",
    "    for truck in trucks:\n",
    "        if not all([truck.download_shipment_time,truck.finish_time]):\n",
    "                # If the truck never got out of the buffer or system before the simulation ended, their times cannot be taken into account\n",
    "                continue\n",
    "        collective_time_in_buffer += truck.download_shipment_time - truck.arrival_time\n",
    "        collective_time_in_system += truck.finish_time - truck.arrival_time\n",
    "    print(\"mean trucks system time \",collective_time_in_system/len(trucks))\n",
    "    print(\"mean trucks buffer time \",collective_time_in_buffer/len(trucks))"
   ]
  },
  {
   "cell_type": "code",
   "execution_count": 49,
   "metadata": {},
   "outputs": [
    {
     "name": "stdout",
     "output_type": "stream",
     "text": [
      "mean trucks system time  0.6012814413002192\n",
      "mean trucks buffer time  0.10619686598857496\n"
     ]
    }
   ],
   "source": [
    "mean_trucks_time(trucks)"
   ]
  },
  {
   "attachments": {},
   "cell_type": "markdown",
   "metadata": {},
   "source": [
    "Simulamos el sscenario en el que se usa RFID para descargar y hay 3 darsenas"
   ]
  },
  {
   "cell_type": "code",
   "execution_count": 50,
   "metadata": {},
   "outputs": [],
   "source": [
    "env = simpy.Environment()\n",
    "distribution_center = simpy.Resource(env, 3)\n",
    "\n",
    "trucks = []\n",
    "env.process(truck_generator(env, distribution_center, trucks, 'rfid', 5))\n",
    "env.run(SIM_TIME_3)"
   ]
  },
  {
   "attachments": {},
   "cell_type": "markdown",
   "metadata": {},
   "source": [
    "Calculamos las misma estadisticas que antes"
   ]
  },
  {
   "cell_type": "code",
   "execution_count": 51,
   "metadata": {},
   "outputs": [
    {
     "name": "stdout",
     "output_type": "stream",
     "text": [
      "mean trucks system time  0.6117603867549266\n",
      "mean trucks buffer time  0.19686450079434412\n"
     ]
    }
   ],
   "source": [
    "mean_trucks_time(trucks)"
   ]
  },
  {
   "cell_type": "code",
   "execution_count": 52,
   "metadata": {},
   "outputs": [
    {
     "name": "stdout",
     "output_type": "stream",
     "text": [
      "mean trucks in system  3.0372890771474204\n",
      "mean trucks in buffer  0.9772238039025067\n"
     ]
    }
   ],
   "source": [
    "mean_trucks_quantity(trucks)"
   ]
  },
  {
   "attachments": {},
   "cell_type": "markdown",
   "metadata": {},
   "source": [
    "Vemos que a pesar de haber cerrado una darsena, gracias al nuevo sistema rfid, la cantidad de camiones en promedio que deben esperar en la cola es alrededor de 1. Como esta media es < 3 se deberia cerrar la darsena. Como el resultado nos dio bastante alejado de 3 lo podemos decir mayor seguridad."
   ]
  },
  {
   "attachments": {},
   "cell_type": "markdown",
   "metadata": {},
   "source": [
    "## EJERCICIO 4"
   ]
  },
  {
   "cell_type": "code",
   "execution_count": 53,
   "metadata": {},
   "outputs": [],
   "source": [
    "SIM_TIME_4 = 24 * 60 # 1000 dia en minutos\n",
    "TIMES_SIM = 1000 # Cantidad de dias a simular"
   ]
  },
  {
   "attachments": {},
   "cell_type": "markdown",
   "metadata": {},
   "source": [
    "Definimos un Atm nuevo que tiene caja recicladora. Esta clase sera muy util durante la simulacion ya que sera la instancia que lleve la cuenta de los diversos datos que usaremos para obtener las estadisticas. Los clientes pueden depositar y extraer billetes del cajero siempre que este tenga suficiente billetes"
   ]
  },
  {
   "cell_type": "code",
   "execution_count": 54,
   "metadata": {},
   "outputs": [],
   "source": [
    "class AtmRecycler:\n",
    "    \n",
    "    def __init__(self, box_size, initial_bills):\n",
    "        self.successfull_extractions = 0\n",
    "        self.successfull_deposits = 0\n",
    "        self.failed_extractions = 0\n",
    "        self.failed_deposits = 0\n",
    "\n",
    "        self.box_size = box_size\n",
    "        self.bills = initial_bills\n",
    "        self.bill_tracker = [initial_bills]\n",
    "        self.clients_served = []\n",
    "\n",
    "    def deposit(self, client, amount):\n",
    "        if amount + self.bills > self.box_size:\n",
    "            self.failed_deposits +=1\n",
    "            return 0\n",
    "        self.bills += amount\n",
    "        self.successfull_deposits +=1\n",
    "        self.bill_tracker.append(self.bills)\n",
    "        self.clients_served.append(client)\n",
    "        return amount\n",
    "    \n",
    "    def extraction(self,client, amount):\n",
    "        if amount > self.bills:\n",
    "            self.failed_extractions +=1\n",
    "            return 0\n",
    "        self.bills -= amount\n",
    "        self.successfull_extractions +=1\n",
    "        self.bill_tracker.append(self.bills)\n",
    "        self.clients_served.append(client)\n",
    "        return amount\n",
    "    \n",
    "    def print_stats(self):\n",
    "        print(\"depositos_exitosos                \", self.successfull_deposits)\n",
    "        print(\"depositos_fallidos                \", self.failed_deposits)\n",
    "        print(\"extracciones_exitosas             \", self.successfull_extractions)\n",
    "        print(\"extracciones_faliidas             \", self.failed_extractions)\n",
    "        print(\"billetes en la caja al finalizar  \", self.bills)\n",
    "        print(\"ratio de extracciones fallidas    \", self.ratio_of_rejected_extractions())\n",
    "\n",
    "    def ratio_of_rejected_extractions(self):\n",
    "        return self.failed_extractions / (self.failed_extractions + self.successfull_extractions)\n",
    "    \n",
    "    def ratio_of_rejected_deposits(self):\n",
    "        return self.failed_deposits / (self.failed_deposits + self.successfull_deposits)\n",
    "    \n",
    "    def ratio_of_rejected_transactions(self):\n",
    "        return (self.failed_deposits + self.failed_extractions) / (self.failed_deposits + self.failed_extractions + self.successfull_deposits + self.successfull_extractions)"
   ]
  },
  {
   "attachments": {},
   "cell_type": "markdown",
   "metadata": {},
   "source": [
    "Tambien tenemos a la clase cliente. Esta nos permite modelar el comportamiento acotado de los clientes en nuestro sistema. Estos pueden depositar o extrar billetes del cajero siempre y cuando este no este siendo usado por un cliente que llego antes, similar a lo que pasaba con los camiones."
   ]
  },
  {
   "cell_type": "code",
   "execution_count": 55,
   "metadata": {},
   "outputs": [],
   "source": [
    "class Client:\n",
    "    def __init__(self, atm, resource, arrival_time):\n",
    "        self.atm = atm\n",
    "        self.resource = resource\n",
    "        self.arrival_time = arrival_time\n",
    "        self.finish_time = 0\n",
    "\n",
    "    def deposit(self, env, time_to_deposit, amount):\n",
    "        with self.resource.request() as req:\n",
    "            yield req\n",
    "            yield env.timeout(time_to_deposit)\n",
    "            self.atm.deposit(self, amount)\n",
    "            self.finish_time = env.now\n",
    "\n",
    "    def extraction(self, env, time_to_extract, amount):\n",
    "        with self.resource.request() as req:\n",
    "            yield req\n",
    "            yield env.timeout(time_to_extract)\n",
    "            self.atm.extraction(self, amount)\n",
    "            self.finish_time = env.now\n"
   ]
  },
  {
   "attachments": {},
   "cell_type": "markdown",
   "metadata": {},
   "source": [
    "Con arrival_of_clients tenemos un proceso que instancia clientes que pueden extraer o depositar en el cajero que es compartido por todos."
   ]
  },
  {
   "cell_type": "code",
   "execution_count": 56,
   "metadata": {},
   "outputs": [],
   "source": [
    "def arrival_of_clients(env, atm, resource, day):\n",
    "    time_gen = Exp_generator(seed_generator.rand(), 1/10) # Generador de tiempo entre llegada de clientes\n",
    "    transaction_gen = Uniform_generator(seed_generator.rand()) # Generador de probabilidad para extraccion o deposito\n",
    "    \n",
    "    extraction_time_gen = Exp_generator(seed_generator.rand(), 2/3) # Generador de tiempo para extracciones\n",
    "    deposit_time_gen = Exp_generator(seed_generator.rand(), 1/5) # Generador de tiempo para depositos\n",
    "\n",
    "    extraction_amount_gen = Uniform_generator(seed_generator.rand(), 47, 3) # Generador de cantidad de billetes a extraer\n",
    "    deposit_amount_gen = Uniform_generator(seed_generator.rand(), 100, 10) # Generador de cantidad de billetes a depositar\n",
    "    \n",
    "    while True:\n",
    "        time_for_next_client = time_gen.rand()\n",
    "        yield env.timeout(time_for_next_client)\n",
    "        client = Client(atm, resource, env.now)\n",
    "\n",
    "        if transaction_gen.rand() < 0.75:\n",
    "            time_to_extract = extraction_time_gen.rand()\n",
    "            amount = int(extraction_amount_gen.rand())\n",
    "            env.process(client.extraction(env, time_to_extract, amount))\n",
    "        else:\n",
    "            time_to_deposit = deposit_time_gen.rand()\n",
    "            amount = int(deposit_amount_gen.rand())\n",
    "            env.process(client.deposit(env, time_to_deposit, amount))"
   ]
  },
  {
   "attachments": {},
   "cell_type": "markdown",
   "metadata": {},
   "source": [
    "Por ultimo, days_of_work genera una simulacion por cada dia y nos permite decidir cuantos dias queremos simular. Lo que nos devuelve es una lista que contiene instancias del cajero (1 instancia por dia simulado) que luego nos sirve para conseguir estadisticas."
   ]
  },
  {
   "cell_type": "code",
   "execution_count": 57,
   "metadata": {},
   "outputs": [],
   "source": [
    "def days_of_work(n, initial_bills):\n",
    "    atms = []\n",
    "    for i in range(1, n + 1):\n",
    "        env = simpy.Environment()\n",
    "        resource = simpy.Resource(env, 1)\n",
    "        atm = AtmRecycler(2000, initial_bills)\n",
    "        env.process(arrival_of_clients(env, atm, resource, i))\n",
    "        env.run(until=SIM_TIME_4)\n",
    "        atms.append(atm)\n",
    "    return atms"
   ]
  },
  {
   "attachments": {},
   "cell_type": "markdown",
   "metadata": {},
   "source": [
    "Simulamos 1000 dias de un cajero que inicia con 2000 billetes"
   ]
  },
  {
   "cell_type": "code",
   "execution_count": 58,
   "metadata": {},
   "outputs": [],
   "source": [
    "atms = days_of_work(1000, 2000)"
   ]
  },
  {
   "attachments": {},
   "cell_type": "markdown",
   "metadata": {},
   "source": [
    "Cantidad de billetes en un dia luego de cada transaccion"
   ]
  },
  {
   "cell_type": "code",
   "execution_count": 59,
   "metadata": {},
   "outputs": [
    {
     "data": {
      "image/png": "[encoded data removed]",
      "text/plain": [
       "<Figure size 640x480 with 1 Axes>"
      ]
     },
     "metadata": {},
     "output_type": "display_data"
    }
   ],
   "source": [
    "def plot_bill_tracker(atm):\n",
    "    plt.plot(atm.bill_tracker)\n",
    "    plt.xlabel(\"Cantidad de transacciones\")\n",
    "    plt.ylabel(\"Cantidad de billetes\")\n",
    "    plt.show()\n",
    "\n",
    "plot_bill_tracker(atms[0])"
   ]
  },
  {
   "attachments": {},
   "cell_type": "markdown",
   "metadata": {},
   "source": [
    "En promedio arriban al cajero 144 clientes por dia. En promedio el 75% de ellos va a querer extraer, y el otro 25% depositar. Si tomamos el valor medio de cada cliente que quiere extraer/depositar, obtenemos que por dia se extraen una cantidad neta de billetes (tomando que no se rechaza ninguna transaccion).  "
   ]
  },
  {
   "cell_type": "code",
   "execution_count": 60,
   "metadata": {},
   "outputs": [
    {
     "data": {
      "text/plain": [
       "702.0"
      ]
     },
     "execution_count": 60,
     "metadata": {},
     "output_type": "execute_result"
    }
   ],
   "source": [
    "(144 * 0.75 * (53 / 2)) - (144 * 0.25 *60)"
   ]
  },
  {
   "attachments": {},
   "cell_type": "markdown",
   "metadata": {},
   "source": [
    "Es decir que se retiran en promedio 702 billetes del cajero por dia"
   ]
  },
  {
   "attachments": {},
   "cell_type": "markdown",
   "metadata": {},
   "source": [
    "Vemos claramente que hay mas extracciones de billetes que deposito de los mismos. Es decir que el cajero eventualemte se quedara sin dinero y debera depender de los depositos hasta que se rellene el cajero. Pensando desde el punto vista del banco, queremos maximizar el tiempo en el que ambas operaciones son realizables. Pensando de esta manera, los depositos son muy valiosos, ya que permiten que se realicen futuras extracciones y son muchos menos los que hay. Si inicializamos el cajero en el tama;o maximo de la caja, como se hizo en la anterior simulacion tenderemos a rechazar los primeros depositos, que es algo totalmente evitable, mejorando la cantidad inicial de billetes. Para esto buscaremos mejorar las metricas de rejected_ratio"
   ]
  },
  {
   "cell_type": "code",
   "execution_count": 61,
   "metadata": {},
   "outputs": [],
   "source": [
    "def get_mean_ratios(atms):\n",
    "    rej_t_ratio = []\n",
    "    rej_d_ratio = []\n",
    "    rej_e_ratio = []\n",
    "    for atm in atms:\n",
    "        rej_t_ratio.append(atm.ratio_of_rejected_transactions())\n",
    "        rej_d_ratio.append(atm.ratio_of_rejected_deposits())\n",
    "        rej_e_ratio.append(atm.ratio_of_rejected_extractions())\n",
    "    mean_rej_t = mean(rej_t_ratio)\n",
    "    mean_rej_d = mean(rej_d_ratio)\n",
    "    mean_rej_e = mean(rej_e_ratio)\n",
    "    print(f\"Se rechazaron transacciones con un ratio de: {mean_rej_t}\")\n",
    "    print(f\"Se rechazaron deposits con un ratio de:      {mean_rej_d}\")\n",
    "    print(f\"Se rechazaron extractions con un ratio de:   {mean_rej_e}\")\n",
    "    return [mean_rej_t, mean_rej_d, mean_rej_e]"
   ]
  },
  {
   "cell_type": "code",
   "execution_count": 62,
   "metadata": {},
   "outputs": [
    {
     "name": "stdout",
     "output_type": "stream",
     "text": [
      "Se rechazaron transacciones con un ratio de: 0.017872185032914056\n",
      "Se rechazaron deposits con un ratio de:      0.06699817327674827\n",
      "Se rechazaron extractions con un ratio de:   0.0001194592712926433\n"
     ]
    }
   ],
   "source": [
    "rejection_ratios_2000 = get_mean_ratios(atms)"
   ]
  },
  {
   "attachments": {},
   "cell_type": "markdown",
   "metadata": {},
   "source": [
    "Vemos que el ratio de rechazos es muy chico en general, sin embargo la mayoria proviene de los depositos, y queremos ver si con un menor numero inicial de billetes mejora. Ademas esto es lo que buscara el banco, si rellena cada 1 dia, quiere rellenar con la menor cantidad de billetes posibles sin que empeoren las estadisticas"
   ]
  },
  {
   "attachments": {},
   "cell_type": "markdown",
   "metadata": {},
   "source": [
    "Por ejemplo podemos probar iniciando, con 1900 billetes"
   ]
  },
  {
   "cell_type": "code",
   "execution_count": 63,
   "metadata": {},
   "outputs": [],
   "source": [
    "atms = days_of_work(1000, 1900)"
   ]
  },
  {
   "cell_type": "code",
   "execution_count": 64,
   "metadata": {},
   "outputs": [
    {
     "name": "stdout",
     "output_type": "stream",
     "text": [
      "Se rechazaron transacciones con un ratio de: 0.010727809841117576\n",
      "Se rechazaron deposits con un ratio de:      0.03802303566239384\n",
      "Se rechazaron extractions con un ratio de:   0.00037335057250388284\n"
     ]
    }
   ],
   "source": [
    "rejection_ratios_1900 = get_mean_ratios(atms)"
   ]
  },
  {
   "cell_type": "code",
   "execution_count": 65,
   "metadata": {},
   "outputs": [],
   "source": [
    "def plot_ratios(amount_of_bills, rejection_ratios):\n",
    "    categories = [\"transactions\", \"deposit\", \"extractions\"]\n",
    "    positions = np.arange(len(categories))\n",
    "    ancho=0.1\n",
    "    for i in range(len(rejection_ratios)):\n",
    "        plt.bar(positions + ancho*i, rejection_ratios[i], ancho)\n",
    "\n",
    "    plt.legend(amount_of_bills)\n",
    "    plt.xticks(positions + ancho, [\"transactions\", \"deposit\", \"extractions\"])\n",
    "    plt.ylabel('Ratio de rechazos')\n",
    "\n",
    "    plt.show()"
   ]
  },
  {
   "attachments": {},
   "cell_type": "markdown",
   "metadata": {},
   "source": [
    "Podemos ver como influye en los ratios de rechazos la cantidad inicial de billetes en el cajero."
   ]
  },
  {
   "cell_type": "code",
   "execution_count": 66,
   "metadata": {},
   "outputs": [
    {
     "data": {
      "image/png": "[encoded data removed]",
      "text/plain": [
       "<Figure size 640x480 with 1 Axes>"
      ]
     },
     "metadata": {},
     "output_type": "display_data"
    }
   ],
   "source": [
    "plot_ratios([2000,1900], [rejection_ratios_2000, rejection_ratios_1900])"
   ]
  },
  {
   "attachments": {},
   "cell_type": "markdown",
   "metadata": {},
   "source": [
    "Vemos que las metricas mejoraron ampliamente, los depositos rechazados se redujeron a casi la mitad, al igual que las trasacciones totales, rechazadas, mientras que las extracciones rechazadas casi no se movieron. "
   ]
  },
  {
   "attachments": {},
   "cell_type": "markdown",
   "metadata": {},
   "source": [
    "Vamos a buscar minimizar entonces la cantidad de transacciones rechazadas, independientemente de que tip sean"
   ]
  },
  {
   "cell_type": "code",
   "execution_count": 67,
   "metadata": {},
   "outputs": [
    {
     "name": "stdout",
     "output_type": "stream",
     "text": [
      "\n",
      "Ratios con 1850 billetes\n",
      "Se rechazaron transacciones con un ratio de: 0.008248453980540955\n",
      "Se rechazaron deposits con un ratio de:      0.028545239829188298\n",
      "Se rechazaron extractions con un ratio de:   0.00032138736994774054\n",
      "\n",
      "Ratios con 1800 billetes\n",
      "Se rechazaron transacciones con un ratio de: 0.006798386083855042\n",
      "Se rechazaron deposits con un ratio de:      0.021722037424234734\n",
      "Se rechazaron extractions con un ratio de:   0.0007827028696915988\n",
      "\n",
      "Ratios con 1750 billetes\n",
      "Se rechazaron transacciones con un ratio de: 0.005146474029367973\n",
      "Se rechazaron deposits con un ratio de:      0.01643083458405191\n",
      "Se rechazaron extractions con un ratio de:   0.0006243728168218992\n",
      "\n",
      "Ratios con 1700 billetes\n",
      "Se rechazaron transacciones con un ratio de: 0.005025530184744592\n",
      "Se rechazaron deposits con un ratio de:      0.012942197024339727\n",
      "Se rechazaron extractions con un ratio de:   0.001480295935122714\n",
      "\n",
      "Ratios con 1650 billetes\n",
      "Se rechazaron transacciones con un ratio de: 0.003841487090933687\n",
      "Se rechazaron deposits con un ratio de:      0.008989679003415109\n",
      "Se rechazaron extractions con un ratio de:   0.0014167794469741443\n",
      "\n",
      "Ratios con 1600 billetes\n",
      "Se rechazaron transacciones con un ratio de: 0.004522727253712457\n",
      "Se rechazaron deposits con un ratio de:      0.006537510066019636\n",
      "Se rechazaron extractions con un ratio de:   0.0030514028218199046\n"
     ]
    }
   ],
   "source": [
    "previous_transaction_rejected_ratio = rejection_ratios_1900[0]\n",
    "current_transaction_rejected_ratio = rejection_ratios_1900[0]\n",
    "i = 1900\n",
    "\n",
    "bill_amount_ratio = {}\n",
    "while (current_transaction_rejected_ratio <= previous_transaction_rejected_ratio ):\n",
    "    i -= 50\n",
    "    previous_transaction_rejected_ratio = current_transaction_rejected_ratio\n",
    "    atms = days_of_work(1000, i)\n",
    "    \n",
    "    print(f\"\\nRatios con {i} billetes\")\n",
    "    current_rejected_ratios = get_mean_ratios(atms)\n",
    "    bill_amount_ratio[i] = current_rejected_ratios\n",
    "    current_transaction_rejected_ratio = current_rejected_ratios[0]"
   ]
  },
  {
   "cell_type": "code",
   "execution_count": 68,
   "metadata": {},
   "outputs": [
    {
     "data": {
      "image/png": "[encoded data removed]",
      "text/plain": [
       "<Figure size 640x480 with 1 Axes>"
      ]
     },
     "metadata": {},
     "output_type": "display_data"
    }
   ],
   "source": [
    "plot_ratios(list(bill_amount_ratio.keys()), list(bill_amount_ratio.values()))"
   ]
  },
  {
   "attachments": {},
   "cell_type": "markdown",
   "metadata": {},
   "source": [
    "Vemos que a medida que reducimos la cantidad de billetes disminuye enormemente la canitdad de depositos rechazados, mientras que aumenta ligeramente la cantidad de extracciones rechazadas. Esto continua asi, hasta la ultima iteracion donde aumenta mas la cantidad de transacciones rechazadas que en la iteracion anterior. Entonces El menor numero de transacciones rechazadas sera el valor de la anteultima iteracion. Esto tiene otro beneficio, que es que el banco necesita menos billetes para reponer cada cajero."
   ]
  },
  {
   "cell_type": "code",
   "execution_count": 69,
   "metadata": {},
   "outputs": [
    {
     "name": "stdout",
     "output_type": "stream",
     "text": [
      "La cantidad de billetes para minimizar las transacciones rechazadas es 1650\n"
     ]
    }
   ],
   "source": [
    "best_bill_amount = min(bill_amount_ratio.keys()) + 50\n",
    "print(f\"La cantidad de billetes para minimizar las transacciones rechazadas es {best_bill_amount}\")"
   ]
  },
  {
   "attachments": {},
   "cell_type": "markdown",
   "metadata": {},
   "source": [
    "Cabe destacar, que dependiendo de la muestra obtenida al simular, la mejor cantidad de billetes puede variar. Las veces que lo simulamos obtuvimos valores entre 1600 y 1700"
   ]
  },
  {
   "attachments": {},
   "cell_type": "markdown",
   "metadata": {},
   "source": [
    "Realizamos entonces nuevamente las estadisticas para un cajero que inicia con la mejor cantidad de billetes obtenida"
   ]
  },
  {
   "cell_type": "code",
   "execution_count": 70,
   "metadata": {},
   "outputs": [],
   "source": [
    "atms = days_of_work(1000, best_bill_amount) "
   ]
  },
  {
   "cell_type": "code",
   "execution_count": 71,
   "metadata": {},
   "outputs": [
    {
     "data": {
      "image/png": "[encoded data removed]",
      "text/plain": [
       "<Figure size 640x480 with 1 Axes>"
      ]
     },
     "metadata": {},
     "output_type": "display_data"
    }
   ],
   "source": [
    "plot_bill_tracker(atms[0])"
   ]
  },
  {
   "cell_type": "code",
   "execution_count": 72,
   "metadata": {},
   "outputs": [
    {
     "name": "stdout",
     "output_type": "stream",
     "text": [
      "Se rechazaron transacciones con un ratio de: 0.003760882639553517\n",
      "Se rechazaron deposits con un ratio de:      0.008016776321708292\n",
      "Se rechazaron extractions con un ratio de:   0.0017024238472202998\n"
     ]
    },
    {
     "data": {
      "text/plain": [
       "[0.003760882639553517, 0.008016776321708292, 0.0017024238472202998]"
      ]
     },
     "execution_count": 72,
     "metadata": {},
     "output_type": "execute_result"
    }
   ],
   "source": [
    "get_mean_ratios(atms)"
   ]
  },
  {
   "attachments": {},
   "cell_type": "markdown",
   "metadata": {},
   "source": [
    "Calculamos el tiempo medio que tardan los clientes en el sistema"
   ]
  },
  {
   "cell_type": "code",
   "execution_count": 73,
   "metadata": {},
   "outputs": [
    {
     "name": "stdout",
     "output_type": "stream",
     "text": [
      "El tiempo medio de los clientes en el sistema es de:  3.3952290251184505\n"
     ]
    }
   ],
   "source": [
    "amount_of_clients = 0\n",
    "collective_clients_spent_time = 0\n",
    "for atm in atms:\n",
    "    amount_of_clients += len(atm.clients_served)\n",
    "    for client in atm.clients_served:\n",
    "        collective_clients_spent_time += client.finish_time - client.arrival_time\n",
    "print(f'El tiempo medio de los clientes en el sistema es de: ' ,collective_clients_spent_time/amount_of_clients)"
   ]
  },
  {
   "attachments": {},
   "cell_type": "markdown",
   "metadata": {},
   "source": [
    "¿Recomienda a la entidad que implemente el cambio de cajero?"
   ]
  },
  {
   "attachments": {},
   "cell_type": "markdown",
   "metadata": {},
   "source": [
    "La entidad acepta el cambio de cajero, si se reduce de un 20% la cantidad de clientes rechazados a la hora de querer una extraccion. Como ya mostramos este numero esta siempre debajo del 1%, por lo que claramente se mejoraria mucho esta metrica. No solo eso si no que tambien como ya se mostro se puede reducir la cantidad de billetes necesarios que tenga el cajero al inicio de cada dia. Por lo que definitivamente se le recomienda a la entidad cambiar al nuevo sistema. "
   ]
  }
 ],
 "metadata": {
  "kernelspec": {
   "display_name": "Python 3",
   "language": "python",
   "name": "python3"
  },
  "language_info": {
   "codemirror_mode": {
    "name": "ipython",
    "version": 3
   },
   "file_extension": ".py",
   "mimetype": "text/x-python",
   "name": "python",
   "nbconvert_exporter": "python",
   "pygments_lexer": "ipython3",
   "version": "3.8.10"
  },
  "orig_nbformat": 4
 },
 "nbformat": 4,
 "nbformat_minor": 2
}
